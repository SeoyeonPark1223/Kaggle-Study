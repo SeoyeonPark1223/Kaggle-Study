{
 "cells": [
  {
   "cell_type": "code",
   "execution_count": 1,
   "id": "117162ea",
   "metadata": {
    "_cell_guid": "b1076dfc-b9ad-4769-8c92-a6c4dae69d19",
    "_uuid": "8f2839f25d086af736a60e9eeb907d3b93b6e0e5",
    "execution": {
     "iopub.execute_input": "2024-09-03T13:47:45.904095Z",
     "iopub.status.busy": "2024-09-03T13:47:45.903044Z",
     "iopub.status.idle": "2024-09-03T13:47:46.317380Z",
     "shell.execute_reply": "2024-09-03T13:47:46.316238Z"
    },
    "papermill": {
     "duration": 0.426531,
     "end_time": "2024-09-03T13:47:46.320974",
     "exception": false,
     "start_time": "2024-09-03T13:47:45.894443",
     "status": "completed"
    },
    "tags": []
   },
   "outputs": [
    {
     "name": "stdout",
     "output_type": "stream",
     "text": [
      "/kaggle/input/bike-sharing-demand/sampleSubmission.csv\n",
      "/kaggle/input/bike-sharing-demand/train.csv\n",
      "/kaggle/input/bike-sharing-demand/test.csv\n"
     ]
    }
   ],
   "source": [
    "# This Python 3 environment comes with many helpful analytics libraries installed\n",
    "# It is defined by the kaggle/python Docker image: https://github.com/kaggle/docker-python\n",
    "# For example, here's several helpful packages to load\n",
    "\n",
    "import numpy as np # linear algebra\n",
    "import pandas as pd # data processing, CSV file I/O (e.g. pd.read_csv)\n",
    "\n",
    "# Input data files are available in the read-only \"../input/\" directory\n",
    "# For example, running this (by clicking run or pressing Shift+Enter) will list all files under the input directory\n",
    "\n",
    "import os\n",
    "for dirname, _, filenames in os.walk('/kaggle/input'):\n",
    "    for filename in filenames:\n",
    "        print(os.path.join(dirname, filename))\n",
    "\n",
    "# You can write up to 20GB to the current directory (/kaggle/working/) that gets preserved as output when you create a version using \"Save & Run All\" \n",
    "# You can also write temporary files to /kaggle/temp/, but they won't be saved outside of the current session"
   ]
  },
  {
   "cell_type": "code",
   "execution_count": 2,
   "id": "6582b27d",
   "metadata": {
    "execution": {
     "iopub.execute_input": "2024-09-03T13:47:46.338486Z",
     "iopub.status.busy": "2024-09-03T13:47:46.337615Z",
     "iopub.status.idle": "2024-09-03T13:47:46.415802Z",
     "shell.execute_reply": "2024-09-03T13:47:46.414719Z"
    },
    "papermill": {
     "duration": 0.088557,
     "end_time": "2024-09-03T13:47:46.418471",
     "exception": false,
     "start_time": "2024-09-03T13:47:46.329914",
     "status": "completed"
    },
    "tags": []
   },
   "outputs": [],
   "source": [
    "data_path = '/kaggle/input/bike-sharing-demand/'\n",
    "\n",
    "train = pd.read_csv(data_path + 'train.csv')\n",
    "test = pd.read_csv(data_path + 'test.csv')\n",
    "submission = pd.read_csv(data_path + 'sampleSubmission.csv')"
   ]
  },
  {
   "cell_type": "markdown",
   "id": "88885a9d",
   "metadata": {
    "papermill": {
     "duration": 0.005918,
     "end_time": "2024-09-03T13:47:46.431961",
     "exception": false,
     "start_time": "2024-09-03T13:47:46.426043",
     "status": "completed"
    },
    "tags": []
   },
   "source": [
    "Tutorial Link -> https://www.kaggle.com/code/werooring/ch6-baseline"
   ]
  },
  {
   "cell_type": "markdown",
   "id": "942992e9",
   "metadata": {
    "papermill": {
     "duration": 0.005767,
     "end_time": "2024-09-03T13:47:46.443869",
     "exception": false,
     "start_time": "2024-09-03T13:47:46.438102",
     "status": "completed"
    },
    "tags": []
   },
   "source": [
    "## Feature Engineering"
   ]
  },
  {
   "cell_type": "markdown",
   "id": "8a7888a7",
   "metadata": {
    "papermill": {
     "duration": 0.005855,
     "end_time": "2024-09-03T13:47:46.455923",
     "exception": false,
     "start_time": "2024-09-03T13:47:46.450068",
     "status": "completed"
    },
    "tags": []
   },
   "source": [
    "**Outlier Removal**"
   ]
  },
  {
   "cell_type": "code",
   "execution_count": 3,
   "id": "0f9314e2",
   "metadata": {
    "execution": {
     "iopub.execute_input": "2024-09-03T13:47:46.470600Z",
     "iopub.status.busy": "2024-09-03T13:47:46.470043Z",
     "iopub.status.idle": "2024-09-03T13:47:46.486742Z",
     "shell.execute_reply": "2024-09-03T13:47:46.485647Z"
    },
    "papermill": {
     "duration": 0.027271,
     "end_time": "2024-09-03T13:47:46.489256",
     "exception": false,
     "start_time": "2024-09-03T13:47:46.461985",
     "status": "completed"
    },
    "tags": []
   },
   "outputs": [],
   "source": [
    "# Extract data if weather != 4 from training data\n",
    "train = train[train['weather'] != 4]"
   ]
  },
  {
   "cell_type": "markdown",
   "id": "d0609409",
   "metadata": {
    "papermill": {
     "duration": 0.005757,
     "end_time": "2024-09-03T13:47:46.501201",
     "exception": false,
     "start_time": "2024-09-03T13:47:46.495444",
     "status": "completed"
    },
    "tags": []
   },
   "source": [
    "**Combine Data**"
   ]
  },
  {
   "cell_type": "code",
   "execution_count": 4,
   "id": "c1f3c04c",
   "metadata": {
    "execution": {
     "iopub.execute_input": "2024-09-03T13:47:46.515142Z",
     "iopub.status.busy": "2024-09-03T13:47:46.514749Z",
     "iopub.status.idle": "2024-09-03T13:47:46.548490Z",
     "shell.execute_reply": "2024-09-03T13:47:46.546908Z"
    },
    "papermill": {
     "duration": 0.043782,
     "end_time": "2024-09-03T13:47:46.551176",
     "exception": false,
     "start_time": "2024-09-03T13:47:46.507394",
     "status": "completed"
    },
    "tags": []
   },
   "outputs": [
    {
     "data": {
      "text/html": [
       "<div>\n",
       "<style scoped>\n",
       "    .dataframe tbody tr th:only-of-type {\n",
       "        vertical-align: middle;\n",
       "    }\n",
       "\n",
       "    .dataframe tbody tr th {\n",
       "        vertical-align: top;\n",
       "    }\n",
       "\n",
       "    .dataframe thead th {\n",
       "        text-align: right;\n",
       "    }\n",
       "</style>\n",
       "<table border=\"1\" class=\"dataframe\">\n",
       "  <thead>\n",
       "    <tr style=\"text-align: right;\">\n",
       "      <th></th>\n",
       "      <th>datetime</th>\n",
       "      <th>season</th>\n",
       "      <th>holiday</th>\n",
       "      <th>workingday</th>\n",
       "      <th>weather</th>\n",
       "      <th>temp</th>\n",
       "      <th>atemp</th>\n",
       "      <th>humidity</th>\n",
       "      <th>windspeed</th>\n",
       "      <th>casual</th>\n",
       "      <th>registered</th>\n",
       "      <th>count</th>\n",
       "    </tr>\n",
       "  </thead>\n",
       "  <tbody>\n",
       "    <tr>\n",
       "      <th>0</th>\n",
       "      <td>2011-01-01 00:00:00</td>\n",
       "      <td>1</td>\n",
       "      <td>0</td>\n",
       "      <td>0</td>\n",
       "      <td>1</td>\n",
       "      <td>9.84</td>\n",
       "      <td>14.395</td>\n",
       "      <td>81</td>\n",
       "      <td>0.0000</td>\n",
       "      <td>3.0</td>\n",
       "      <td>13.0</td>\n",
       "      <td>16.0</td>\n",
       "    </tr>\n",
       "    <tr>\n",
       "      <th>1</th>\n",
       "      <td>2011-01-01 01:00:00</td>\n",
       "      <td>1</td>\n",
       "      <td>0</td>\n",
       "      <td>0</td>\n",
       "      <td>1</td>\n",
       "      <td>9.02</td>\n",
       "      <td>13.635</td>\n",
       "      <td>80</td>\n",
       "      <td>0.0000</td>\n",
       "      <td>8.0</td>\n",
       "      <td>32.0</td>\n",
       "      <td>40.0</td>\n",
       "    </tr>\n",
       "    <tr>\n",
       "      <th>2</th>\n",
       "      <td>2011-01-01 02:00:00</td>\n",
       "      <td>1</td>\n",
       "      <td>0</td>\n",
       "      <td>0</td>\n",
       "      <td>1</td>\n",
       "      <td>9.02</td>\n",
       "      <td>13.635</td>\n",
       "      <td>80</td>\n",
       "      <td>0.0000</td>\n",
       "      <td>5.0</td>\n",
       "      <td>27.0</td>\n",
       "      <td>32.0</td>\n",
       "    </tr>\n",
       "    <tr>\n",
       "      <th>3</th>\n",
       "      <td>2011-01-01 03:00:00</td>\n",
       "      <td>1</td>\n",
       "      <td>0</td>\n",
       "      <td>0</td>\n",
       "      <td>1</td>\n",
       "      <td>9.84</td>\n",
       "      <td>14.395</td>\n",
       "      <td>75</td>\n",
       "      <td>0.0000</td>\n",
       "      <td>3.0</td>\n",
       "      <td>10.0</td>\n",
       "      <td>13.0</td>\n",
       "    </tr>\n",
       "    <tr>\n",
       "      <th>4</th>\n",
       "      <td>2011-01-01 04:00:00</td>\n",
       "      <td>1</td>\n",
       "      <td>0</td>\n",
       "      <td>0</td>\n",
       "      <td>1</td>\n",
       "      <td>9.84</td>\n",
       "      <td>14.395</td>\n",
       "      <td>75</td>\n",
       "      <td>0.0000</td>\n",
       "      <td>0.0</td>\n",
       "      <td>1.0</td>\n",
       "      <td>1.0</td>\n",
       "    </tr>\n",
       "    <tr>\n",
       "      <th>...</th>\n",
       "      <td>...</td>\n",
       "      <td>...</td>\n",
       "      <td>...</td>\n",
       "      <td>...</td>\n",
       "      <td>...</td>\n",
       "      <td>...</td>\n",
       "      <td>...</td>\n",
       "      <td>...</td>\n",
       "      <td>...</td>\n",
       "      <td>...</td>\n",
       "      <td>...</td>\n",
       "      <td>...</td>\n",
       "    </tr>\n",
       "    <tr>\n",
       "      <th>6488</th>\n",
       "      <td>2012-12-31 19:00:00</td>\n",
       "      <td>1</td>\n",
       "      <td>0</td>\n",
       "      <td>1</td>\n",
       "      <td>2</td>\n",
       "      <td>10.66</td>\n",
       "      <td>12.880</td>\n",
       "      <td>60</td>\n",
       "      <td>11.0014</td>\n",
       "      <td>NaN</td>\n",
       "      <td>NaN</td>\n",
       "      <td>NaN</td>\n",
       "    </tr>\n",
       "    <tr>\n",
       "      <th>6489</th>\n",
       "      <td>2012-12-31 20:00:00</td>\n",
       "      <td>1</td>\n",
       "      <td>0</td>\n",
       "      <td>1</td>\n",
       "      <td>2</td>\n",
       "      <td>10.66</td>\n",
       "      <td>12.880</td>\n",
       "      <td>60</td>\n",
       "      <td>11.0014</td>\n",
       "      <td>NaN</td>\n",
       "      <td>NaN</td>\n",
       "      <td>NaN</td>\n",
       "    </tr>\n",
       "    <tr>\n",
       "      <th>6490</th>\n",
       "      <td>2012-12-31 21:00:00</td>\n",
       "      <td>1</td>\n",
       "      <td>0</td>\n",
       "      <td>1</td>\n",
       "      <td>1</td>\n",
       "      <td>10.66</td>\n",
       "      <td>12.880</td>\n",
       "      <td>60</td>\n",
       "      <td>11.0014</td>\n",
       "      <td>NaN</td>\n",
       "      <td>NaN</td>\n",
       "      <td>NaN</td>\n",
       "    </tr>\n",
       "    <tr>\n",
       "      <th>6491</th>\n",
       "      <td>2012-12-31 22:00:00</td>\n",
       "      <td>1</td>\n",
       "      <td>0</td>\n",
       "      <td>1</td>\n",
       "      <td>1</td>\n",
       "      <td>10.66</td>\n",
       "      <td>13.635</td>\n",
       "      <td>56</td>\n",
       "      <td>8.9981</td>\n",
       "      <td>NaN</td>\n",
       "      <td>NaN</td>\n",
       "      <td>NaN</td>\n",
       "    </tr>\n",
       "    <tr>\n",
       "      <th>6492</th>\n",
       "      <td>2012-12-31 23:00:00</td>\n",
       "      <td>1</td>\n",
       "      <td>0</td>\n",
       "      <td>1</td>\n",
       "      <td>1</td>\n",
       "      <td>10.66</td>\n",
       "      <td>13.635</td>\n",
       "      <td>65</td>\n",
       "      <td>8.9981</td>\n",
       "      <td>NaN</td>\n",
       "      <td>NaN</td>\n",
       "      <td>NaN</td>\n",
       "    </tr>\n",
       "  </tbody>\n",
       "</table>\n",
       "<p>17378 rows × 12 columns</p>\n",
       "</div>"
      ],
      "text/plain": [
       "                 datetime  season  holiday  workingday  weather   temp  \\\n",
       "0     2011-01-01 00:00:00       1        0           0        1   9.84   \n",
       "1     2011-01-01 01:00:00       1        0           0        1   9.02   \n",
       "2     2011-01-01 02:00:00       1        0           0        1   9.02   \n",
       "3     2011-01-01 03:00:00       1        0           0        1   9.84   \n",
       "4     2011-01-01 04:00:00       1        0           0        1   9.84   \n",
       "...                   ...     ...      ...         ...      ...    ...   \n",
       "6488  2012-12-31 19:00:00       1        0           1        2  10.66   \n",
       "6489  2012-12-31 20:00:00       1        0           1        2  10.66   \n",
       "6490  2012-12-31 21:00:00       1        0           1        1  10.66   \n",
       "6491  2012-12-31 22:00:00       1        0           1        1  10.66   \n",
       "6492  2012-12-31 23:00:00       1        0           1        1  10.66   \n",
       "\n",
       "       atemp  humidity  windspeed  casual  registered  count  \n",
       "0     14.395        81     0.0000     3.0        13.0   16.0  \n",
       "1     13.635        80     0.0000     8.0        32.0   40.0  \n",
       "2     13.635        80     0.0000     5.0        27.0   32.0  \n",
       "3     14.395        75     0.0000     3.0        10.0   13.0  \n",
       "4     14.395        75     0.0000     0.0         1.0    1.0  \n",
       "...      ...       ...        ...     ...         ...    ...  \n",
       "6488  12.880        60    11.0014     NaN         NaN    NaN  \n",
       "6489  12.880        60    11.0014     NaN         NaN    NaN  \n",
       "6490  12.880        60    11.0014     NaN         NaN    NaN  \n",
       "6491  13.635        56     8.9981     NaN         NaN    NaN  \n",
       "6492  13.635        65     8.9981     NaN         NaN    NaN  \n",
       "\n",
       "[17378 rows x 12 columns]"
      ]
     },
     "execution_count": 4,
     "metadata": {},
     "output_type": "execute_result"
    }
   ],
   "source": [
    "all_data_temp = pd.concat([train, test])\n",
    "all_data_temp"
   ]
  },
  {
   "cell_type": "code",
   "execution_count": 5,
   "id": "95caa55c",
   "metadata": {
    "execution": {
     "iopub.execute_input": "2024-09-03T13:47:46.566544Z",
     "iopub.status.busy": "2024-09-03T13:47:46.565631Z",
     "iopub.status.idle": "2024-09-03T13:47:46.591346Z",
     "shell.execute_reply": "2024-09-03T13:47:46.590074Z"
    },
    "papermill": {
     "duration": 0.036364,
     "end_time": "2024-09-03T13:47:46.594064",
     "exception": false,
     "start_time": "2024-09-03T13:47:46.557700",
     "status": "completed"
    },
    "tags": []
   },
   "outputs": [
    {
     "data": {
      "text/html": [
       "<div>\n",
       "<style scoped>\n",
       "    .dataframe tbody tr th:only-of-type {\n",
       "        vertical-align: middle;\n",
       "    }\n",
       "\n",
       "    .dataframe tbody tr th {\n",
       "        vertical-align: top;\n",
       "    }\n",
       "\n",
       "    .dataframe thead th {\n",
       "        text-align: right;\n",
       "    }\n",
       "</style>\n",
       "<table border=\"1\" class=\"dataframe\">\n",
       "  <thead>\n",
       "    <tr style=\"text-align: right;\">\n",
       "      <th></th>\n",
       "      <th>datetime</th>\n",
       "      <th>season</th>\n",
       "      <th>holiday</th>\n",
       "      <th>workingday</th>\n",
       "      <th>weather</th>\n",
       "      <th>temp</th>\n",
       "      <th>atemp</th>\n",
       "      <th>humidity</th>\n",
       "      <th>windspeed</th>\n",
       "      <th>casual</th>\n",
       "      <th>registered</th>\n",
       "      <th>count</th>\n",
       "    </tr>\n",
       "  </thead>\n",
       "  <tbody>\n",
       "    <tr>\n",
       "      <th>0</th>\n",
       "      <td>2011-01-01 00:00:00</td>\n",
       "      <td>1</td>\n",
       "      <td>0</td>\n",
       "      <td>0</td>\n",
       "      <td>1</td>\n",
       "      <td>9.84</td>\n",
       "      <td>14.395</td>\n",
       "      <td>81</td>\n",
       "      <td>0.0000</td>\n",
       "      <td>3.0</td>\n",
       "      <td>13.0</td>\n",
       "      <td>16.0</td>\n",
       "    </tr>\n",
       "    <tr>\n",
       "      <th>1</th>\n",
       "      <td>2011-01-01 01:00:00</td>\n",
       "      <td>1</td>\n",
       "      <td>0</td>\n",
       "      <td>0</td>\n",
       "      <td>1</td>\n",
       "      <td>9.02</td>\n",
       "      <td>13.635</td>\n",
       "      <td>80</td>\n",
       "      <td>0.0000</td>\n",
       "      <td>8.0</td>\n",
       "      <td>32.0</td>\n",
       "      <td>40.0</td>\n",
       "    </tr>\n",
       "    <tr>\n",
       "      <th>2</th>\n",
       "      <td>2011-01-01 02:00:00</td>\n",
       "      <td>1</td>\n",
       "      <td>0</td>\n",
       "      <td>0</td>\n",
       "      <td>1</td>\n",
       "      <td>9.02</td>\n",
       "      <td>13.635</td>\n",
       "      <td>80</td>\n",
       "      <td>0.0000</td>\n",
       "      <td>5.0</td>\n",
       "      <td>27.0</td>\n",
       "      <td>32.0</td>\n",
       "    </tr>\n",
       "    <tr>\n",
       "      <th>3</th>\n",
       "      <td>2011-01-01 03:00:00</td>\n",
       "      <td>1</td>\n",
       "      <td>0</td>\n",
       "      <td>0</td>\n",
       "      <td>1</td>\n",
       "      <td>9.84</td>\n",
       "      <td>14.395</td>\n",
       "      <td>75</td>\n",
       "      <td>0.0000</td>\n",
       "      <td>3.0</td>\n",
       "      <td>10.0</td>\n",
       "      <td>13.0</td>\n",
       "    </tr>\n",
       "    <tr>\n",
       "      <th>4</th>\n",
       "      <td>2011-01-01 04:00:00</td>\n",
       "      <td>1</td>\n",
       "      <td>0</td>\n",
       "      <td>0</td>\n",
       "      <td>1</td>\n",
       "      <td>9.84</td>\n",
       "      <td>14.395</td>\n",
       "      <td>75</td>\n",
       "      <td>0.0000</td>\n",
       "      <td>0.0</td>\n",
       "      <td>1.0</td>\n",
       "      <td>1.0</td>\n",
       "    </tr>\n",
       "    <tr>\n",
       "      <th>...</th>\n",
       "      <td>...</td>\n",
       "      <td>...</td>\n",
       "      <td>...</td>\n",
       "      <td>...</td>\n",
       "      <td>...</td>\n",
       "      <td>...</td>\n",
       "      <td>...</td>\n",
       "      <td>...</td>\n",
       "      <td>...</td>\n",
       "      <td>...</td>\n",
       "      <td>...</td>\n",
       "      <td>...</td>\n",
       "    </tr>\n",
       "    <tr>\n",
       "      <th>17373</th>\n",
       "      <td>2012-12-31 19:00:00</td>\n",
       "      <td>1</td>\n",
       "      <td>0</td>\n",
       "      <td>1</td>\n",
       "      <td>2</td>\n",
       "      <td>10.66</td>\n",
       "      <td>12.880</td>\n",
       "      <td>60</td>\n",
       "      <td>11.0014</td>\n",
       "      <td>NaN</td>\n",
       "      <td>NaN</td>\n",
       "      <td>NaN</td>\n",
       "    </tr>\n",
       "    <tr>\n",
       "      <th>17374</th>\n",
       "      <td>2012-12-31 20:00:00</td>\n",
       "      <td>1</td>\n",
       "      <td>0</td>\n",
       "      <td>1</td>\n",
       "      <td>2</td>\n",
       "      <td>10.66</td>\n",
       "      <td>12.880</td>\n",
       "      <td>60</td>\n",
       "      <td>11.0014</td>\n",
       "      <td>NaN</td>\n",
       "      <td>NaN</td>\n",
       "      <td>NaN</td>\n",
       "    </tr>\n",
       "    <tr>\n",
       "      <th>17375</th>\n",
       "      <td>2012-12-31 21:00:00</td>\n",
       "      <td>1</td>\n",
       "      <td>0</td>\n",
       "      <td>1</td>\n",
       "      <td>1</td>\n",
       "      <td>10.66</td>\n",
       "      <td>12.880</td>\n",
       "      <td>60</td>\n",
       "      <td>11.0014</td>\n",
       "      <td>NaN</td>\n",
       "      <td>NaN</td>\n",
       "      <td>NaN</td>\n",
       "    </tr>\n",
       "    <tr>\n",
       "      <th>17376</th>\n",
       "      <td>2012-12-31 22:00:00</td>\n",
       "      <td>1</td>\n",
       "      <td>0</td>\n",
       "      <td>1</td>\n",
       "      <td>1</td>\n",
       "      <td>10.66</td>\n",
       "      <td>13.635</td>\n",
       "      <td>56</td>\n",
       "      <td>8.9981</td>\n",
       "      <td>NaN</td>\n",
       "      <td>NaN</td>\n",
       "      <td>NaN</td>\n",
       "    </tr>\n",
       "    <tr>\n",
       "      <th>17377</th>\n",
       "      <td>2012-12-31 23:00:00</td>\n",
       "      <td>1</td>\n",
       "      <td>0</td>\n",
       "      <td>1</td>\n",
       "      <td>1</td>\n",
       "      <td>10.66</td>\n",
       "      <td>13.635</td>\n",
       "      <td>65</td>\n",
       "      <td>8.9981</td>\n",
       "      <td>NaN</td>\n",
       "      <td>NaN</td>\n",
       "      <td>NaN</td>\n",
       "    </tr>\n",
       "  </tbody>\n",
       "</table>\n",
       "<p>17378 rows × 12 columns</p>\n",
       "</div>"
      ],
      "text/plain": [
       "                  datetime  season  holiday  workingday  weather   temp  \\\n",
       "0      2011-01-01 00:00:00       1        0           0        1   9.84   \n",
       "1      2011-01-01 01:00:00       1        0           0        1   9.02   \n",
       "2      2011-01-01 02:00:00       1        0           0        1   9.02   \n",
       "3      2011-01-01 03:00:00       1        0           0        1   9.84   \n",
       "4      2011-01-01 04:00:00       1        0           0        1   9.84   \n",
       "...                    ...     ...      ...         ...      ...    ...   \n",
       "17373  2012-12-31 19:00:00       1        0           1        2  10.66   \n",
       "17374  2012-12-31 20:00:00       1        0           1        2  10.66   \n",
       "17375  2012-12-31 21:00:00       1        0           1        1  10.66   \n",
       "17376  2012-12-31 22:00:00       1        0           1        1  10.66   \n",
       "17377  2012-12-31 23:00:00       1        0           1        1  10.66   \n",
       "\n",
       "        atemp  humidity  windspeed  casual  registered  count  \n",
       "0      14.395        81     0.0000     3.0        13.0   16.0  \n",
       "1      13.635        80     0.0000     8.0        32.0   40.0  \n",
       "2      13.635        80     0.0000     5.0        27.0   32.0  \n",
       "3      14.395        75     0.0000     3.0        10.0   13.0  \n",
       "4      14.395        75     0.0000     0.0         1.0    1.0  \n",
       "...       ...       ...        ...     ...         ...    ...  \n",
       "17373  12.880        60    11.0014     NaN         NaN    NaN  \n",
       "17374  12.880        60    11.0014     NaN         NaN    NaN  \n",
       "17375  12.880        60    11.0014     NaN         NaN    NaN  \n",
       "17376  13.635        56     8.9981     NaN         NaN    NaN  \n",
       "17377  13.635        65     8.9981     NaN         NaN    NaN  \n",
       "\n",
       "[17378 rows x 12 columns]"
      ]
     },
     "execution_count": 5,
     "metadata": {},
     "output_type": "execute_result"
    }
   ],
   "source": [
    "all_data = pd.concat([train, test], ignore_index = True)\n",
    "all_data"
   ]
  },
  {
   "cell_type": "markdown",
   "id": "bc387cd5",
   "metadata": {
    "papermill": {
     "duration": 0.006763,
     "end_time": "2024-09-03T13:47:46.607596",
     "exception": false,
     "start_time": "2024-09-03T13:47:46.600833",
     "status": "completed"
    },
    "tags": []
   },
   "source": [
    "**Add sub features**"
   ]
  },
  {
   "cell_type": "code",
   "execution_count": 6,
   "id": "87194866",
   "metadata": {
    "execution": {
     "iopub.execute_input": "2024-09-03T13:47:46.623902Z",
     "iopub.status.busy": "2024-09-03T13:47:46.623113Z",
     "iopub.status.idle": "2024-09-03T13:47:46.826446Z",
     "shell.execute_reply": "2024-09-03T13:47:46.825153Z"
    },
    "papermill": {
     "duration": 0.214171,
     "end_time": "2024-09-03T13:47:46.828879",
     "exception": false,
     "start_time": "2024-09-03T13:47:46.614708",
     "status": "completed"
    },
    "tags": []
   },
   "outputs": [],
   "source": [
    "from datetime import datetime\n",
    "\n",
    "# date feature\n",
    "all_data['date'] = all_data['datetime'].apply(lambda x: x.split()[0])\n",
    "# year feature\n",
    "all_data['year'] = all_data['datetime'].apply(lambda x: x.split()[0].split(\"-\")[0])\n",
    "# month feature\n",
    "all_data['month'] = all_data['datetime'].apply(lambda x: x.split()[0].split('-')[1])\n",
    "# hour feature \n",
    "all_data['hour'] = all_data['datetime'].apply(lambda x: x.split()[1].split(':')[0])\n",
    "# weekday feature\n",
    "all_data[\"weekday\"] = all_data['date'].apply(lambda dateString : datetime.strptime(dateString,\"%Y-%m-%d\").weekday())"
   ]
  },
  {
   "cell_type": "markdown",
   "id": "0285cd26",
   "metadata": {
    "papermill": {
     "duration": 0.006509,
     "end_time": "2024-09-03T13:47:46.842455",
     "exception": false,
     "start_time": "2024-09-03T13:47:46.835946",
     "status": "completed"
    },
    "tags": []
   },
   "source": [
    "**Delete unnecessary features**"
   ]
  },
  {
   "cell_type": "code",
   "execution_count": 7,
   "id": "f1f34058",
   "metadata": {
    "execution": {
     "iopub.execute_input": "2024-09-03T13:47:46.858406Z",
     "iopub.status.busy": "2024-09-03T13:47:46.857968Z",
     "iopub.status.idle": "2024-09-03T13:47:46.866828Z",
     "shell.execute_reply": "2024-09-03T13:47:46.865655Z"
    },
    "papermill": {
     "duration": 0.019661,
     "end_time": "2024-09-03T13:47:46.869451",
     "exception": false,
     "start_time": "2024-09-03T13:47:46.849790",
     "status": "completed"
    },
    "tags": []
   },
   "outputs": [],
   "source": [
    "drop_features = ['casual', 'registered', 'datetime', 'date', 'month', 'windspeed']\n",
    "\n",
    "all_data = all_data.drop(drop_features, axis=1)"
   ]
  },
  {
   "cell_type": "markdown",
   "id": "5d8a2281",
   "metadata": {
    "papermill": {
     "duration": 0.007929,
     "end_time": "2024-09-03T13:47:46.884280",
     "exception": false,
     "start_time": "2024-09-03T13:47:46.876351",
     "status": "completed"
    },
    "tags": []
   },
   "source": [
    "**Split Data**"
   ]
  },
  {
   "cell_type": "code",
   "execution_count": 8,
   "id": "a6804d1e",
   "metadata": {
    "execution": {
     "iopub.execute_input": "2024-09-03T13:47:46.901005Z",
     "iopub.status.busy": "2024-09-03T13:47:46.900596Z",
     "iopub.status.idle": "2024-09-03T13:47:46.914828Z",
     "shell.execute_reply": "2024-09-03T13:47:46.913713Z"
    },
    "papermill": {
     "duration": 0.025007,
     "end_time": "2024-09-03T13:47:46.917593",
     "exception": false,
     "start_time": "2024-09-03T13:47:46.892586",
     "status": "completed"
    },
    "tags": []
   },
   "outputs": [],
   "source": [
    "# split training and test data\n",
    "X_train = all_data[~pd.isnull(all_data['count'])]\n",
    "X_test = all_data[pd.isnull(all_data['count'])]\n",
    "\n",
    "# remove target value's 'count' feature\n",
    "X_train = X_train.drop(['count'], axis=1)\n",
    "X_test = X_test.drop(['count'], axis=1)\n",
    "\n",
    "y = train['count'] #target val"
   ]
  },
  {
   "cell_type": "code",
   "execution_count": 9,
   "id": "76201686",
   "metadata": {
    "execution": {
     "iopub.execute_input": "2024-09-03T13:47:46.932934Z",
     "iopub.status.busy": "2024-09-03T13:47:46.932505Z",
     "iopub.status.idle": "2024-09-03T13:47:46.947707Z",
     "shell.execute_reply": "2024-09-03T13:47:46.946457Z"
    },
    "papermill": {
     "duration": 0.025726,
     "end_time": "2024-09-03T13:47:46.950212",
     "exception": false,
     "start_time": "2024-09-03T13:47:46.924486",
     "status": "completed"
    },
    "tags": []
   },
   "outputs": [
    {
     "data": {
      "text/html": [
       "<div>\n",
       "<style scoped>\n",
       "    .dataframe tbody tr th:only-of-type {\n",
       "        vertical-align: middle;\n",
       "    }\n",
       "\n",
       "    .dataframe tbody tr th {\n",
       "        vertical-align: top;\n",
       "    }\n",
       "\n",
       "    .dataframe thead th {\n",
       "        text-align: right;\n",
       "    }\n",
       "</style>\n",
       "<table border=\"1\" class=\"dataframe\">\n",
       "  <thead>\n",
       "    <tr style=\"text-align: right;\">\n",
       "      <th></th>\n",
       "      <th>season</th>\n",
       "      <th>holiday</th>\n",
       "      <th>workingday</th>\n",
       "      <th>weather</th>\n",
       "      <th>temp</th>\n",
       "      <th>atemp</th>\n",
       "      <th>humidity</th>\n",
       "      <th>year</th>\n",
       "      <th>hour</th>\n",
       "      <th>weekday</th>\n",
       "    </tr>\n",
       "  </thead>\n",
       "  <tbody>\n",
       "    <tr>\n",
       "      <th>0</th>\n",
       "      <td>1</td>\n",
       "      <td>0</td>\n",
       "      <td>0</td>\n",
       "      <td>1</td>\n",
       "      <td>9.84</td>\n",
       "      <td>14.395</td>\n",
       "      <td>81</td>\n",
       "      <td>2011</td>\n",
       "      <td>00</td>\n",
       "      <td>5</td>\n",
       "    </tr>\n",
       "    <tr>\n",
       "      <th>1</th>\n",
       "      <td>1</td>\n",
       "      <td>0</td>\n",
       "      <td>0</td>\n",
       "      <td>1</td>\n",
       "      <td>9.02</td>\n",
       "      <td>13.635</td>\n",
       "      <td>80</td>\n",
       "      <td>2011</td>\n",
       "      <td>01</td>\n",
       "      <td>5</td>\n",
       "    </tr>\n",
       "    <tr>\n",
       "      <th>2</th>\n",
       "      <td>1</td>\n",
       "      <td>0</td>\n",
       "      <td>0</td>\n",
       "      <td>1</td>\n",
       "      <td>9.02</td>\n",
       "      <td>13.635</td>\n",
       "      <td>80</td>\n",
       "      <td>2011</td>\n",
       "      <td>02</td>\n",
       "      <td>5</td>\n",
       "    </tr>\n",
       "    <tr>\n",
       "      <th>3</th>\n",
       "      <td>1</td>\n",
       "      <td>0</td>\n",
       "      <td>0</td>\n",
       "      <td>1</td>\n",
       "      <td>9.84</td>\n",
       "      <td>14.395</td>\n",
       "      <td>75</td>\n",
       "      <td>2011</td>\n",
       "      <td>03</td>\n",
       "      <td>5</td>\n",
       "    </tr>\n",
       "    <tr>\n",
       "      <th>4</th>\n",
       "      <td>1</td>\n",
       "      <td>0</td>\n",
       "      <td>0</td>\n",
       "      <td>1</td>\n",
       "      <td>9.84</td>\n",
       "      <td>14.395</td>\n",
       "      <td>75</td>\n",
       "      <td>2011</td>\n",
       "      <td>04</td>\n",
       "      <td>5</td>\n",
       "    </tr>\n",
       "  </tbody>\n",
       "</table>\n",
       "</div>"
      ],
      "text/plain": [
       "   season  holiday  workingday  weather  temp   atemp  humidity  year hour  \\\n",
       "0       1        0           0        1  9.84  14.395        81  2011   00   \n",
       "1       1        0           0        1  9.02  13.635        80  2011   01   \n",
       "2       1        0           0        1  9.02  13.635        80  2011   02   \n",
       "3       1        0           0        1  9.84  14.395        75  2011   03   \n",
       "4       1        0           0        1  9.84  14.395        75  2011   04   \n",
       "\n",
       "   weekday  \n",
       "0        5  \n",
       "1        5  \n",
       "2        5  \n",
       "3        5  \n",
       "4        5  "
      ]
     },
     "execution_count": 9,
     "metadata": {},
     "output_type": "execute_result"
    }
   ],
   "source": [
    "X_train.head()"
   ]
  },
  {
   "cell_type": "markdown",
   "id": "4788602e",
   "metadata": {
    "papermill": {
     "duration": 0.006601,
     "end_time": "2024-09-03T13:47:46.964262",
     "exception": false,
     "start_time": "2024-09-03T13:47:46.957661",
     "status": "completed"
    },
    "tags": []
   },
   "source": [
    "## Write function to calculate evaluation metrics"
   ]
  },
  {
   "cell_type": "code",
   "execution_count": 10,
   "id": "3e0bf396",
   "metadata": {
    "execution": {
     "iopub.execute_input": "2024-09-03T13:47:46.980954Z",
     "iopub.status.busy": "2024-09-03T13:47:46.980073Z",
     "iopub.status.idle": "2024-09-03T13:47:46.987545Z",
     "shell.execute_reply": "2024-09-03T13:47:46.986279Z"
    },
    "papermill": {
     "duration": 0.018437,
     "end_time": "2024-09-03T13:47:46.990244",
     "exception": false,
     "start_time": "2024-09-03T13:47:46.971807",
     "status": "completed"
    },
    "tags": []
   },
   "outputs": [],
   "source": [
    "import numpy as np\n",
    "\n",
    "def rmsle(y_true, y_pred, convertExp=True):\n",
    "    # convert exponent\n",
    "    if convertExp:\n",
    "        y_true = np.exp(y_true)\n",
    "        y_pred = np.exp(y_pred)\n",
    "        \n",
    "    # transit pred to 0 after transition to log\n",
    "    log_true = np.nan_to_num(np.log(y_true+1))\n",
    "    log_pred = np.nan_to_num(np.log(y_pred+1))\n",
    "    \n",
    "    # calcuate RMSLE\n",
    "    output = np.sqrt(np.mean((log_true - log_pred)**2))\n",
    "    return output"
   ]
  },
  {
   "cell_type": "markdown",
   "id": "1f3021a1",
   "metadata": {
    "papermill": {
     "duration": 0.006717,
     "end_time": "2024-09-03T13:47:47.004312",
     "exception": false,
     "start_time": "2024-09-03T13:47:46.997595",
     "status": "completed"
    },
    "tags": []
   },
   "source": [
    "## Train Model"
   ]
  },
  {
   "cell_type": "code",
   "execution_count": 11,
   "id": "31bda083",
   "metadata": {
    "execution": {
     "iopub.execute_input": "2024-09-03T13:47:47.021195Z",
     "iopub.status.busy": "2024-09-03T13:47:47.020718Z",
     "iopub.status.idle": "2024-09-03T13:47:48.703331Z",
     "shell.execute_reply": "2024-09-03T13:47:48.701319Z"
    },
    "papermill": {
     "duration": 1.69705,
     "end_time": "2024-09-03T13:47:48.708492",
     "exception": false,
     "start_time": "2024-09-03T13:47:47.011442",
     "status": "completed"
    },
    "tags": []
   },
   "outputs": [],
   "source": [
    "from sklearn.linear_model import LinearRegression\n",
    "\n",
    "linear_reg_model = LinearRegression()"
   ]
  },
  {
   "cell_type": "code",
   "execution_count": 12,
   "id": "388f9ebc",
   "metadata": {
    "execution": {
     "iopub.execute_input": "2024-09-03T13:47:48.726691Z",
     "iopub.status.busy": "2024-09-03T13:47:48.725571Z",
     "iopub.status.idle": "2024-09-03T13:47:48.785099Z",
     "shell.execute_reply": "2024-09-03T13:47:48.783912Z"
    },
    "papermill": {
     "duration": 0.071101,
     "end_time": "2024-09-03T13:47:48.788129",
     "exception": false,
     "start_time": "2024-09-03T13:47:48.717028",
     "status": "completed"
    },
    "tags": []
   },
   "outputs": [
    {
     "data": {
      "text/html": [
       "<style>#sk-container-id-1 {color: black;background-color: white;}#sk-container-id-1 pre{padding: 0;}#sk-container-id-1 div.sk-toggleable {background-color: white;}#sk-container-id-1 label.sk-toggleable__label {cursor: pointer;display: block;width: 100%;margin-bottom: 0;padding: 0.3em;box-sizing: border-box;text-align: center;}#sk-container-id-1 label.sk-toggleable__label-arrow:before {content: \"▸\";float: left;margin-right: 0.25em;color: #696969;}#sk-container-id-1 label.sk-toggleable__label-arrow:hover:before {color: black;}#sk-container-id-1 div.sk-estimator:hover label.sk-toggleable__label-arrow:before {color: black;}#sk-container-id-1 div.sk-toggleable__content {max-height: 0;max-width: 0;overflow: hidden;text-align: left;background-color: #f0f8ff;}#sk-container-id-1 div.sk-toggleable__content pre {margin: 0.2em;color: black;border-radius: 0.25em;background-color: #f0f8ff;}#sk-container-id-1 input.sk-toggleable__control:checked~div.sk-toggleable__content {max-height: 200px;max-width: 100%;overflow: auto;}#sk-container-id-1 input.sk-toggleable__control:checked~label.sk-toggleable__label-arrow:before {content: \"▾\";}#sk-container-id-1 div.sk-estimator input.sk-toggleable__control:checked~label.sk-toggleable__label {background-color: #d4ebff;}#sk-container-id-1 div.sk-label input.sk-toggleable__control:checked~label.sk-toggleable__label {background-color: #d4ebff;}#sk-container-id-1 input.sk-hidden--visually {border: 0;clip: rect(1px 1px 1px 1px);clip: rect(1px, 1px, 1px, 1px);height: 1px;margin: -1px;overflow: hidden;padding: 0;position: absolute;width: 1px;}#sk-container-id-1 div.sk-estimator {font-family: monospace;background-color: #f0f8ff;border: 1px dotted black;border-radius: 0.25em;box-sizing: border-box;margin-bottom: 0.5em;}#sk-container-id-1 div.sk-estimator:hover {background-color: #d4ebff;}#sk-container-id-1 div.sk-parallel-item::after {content: \"\";width: 100%;border-bottom: 1px solid gray;flex-grow: 1;}#sk-container-id-1 div.sk-label:hover label.sk-toggleable__label {background-color: #d4ebff;}#sk-container-id-1 div.sk-serial::before {content: \"\";position: absolute;border-left: 1px solid gray;box-sizing: border-box;top: 0;bottom: 0;left: 50%;z-index: 0;}#sk-container-id-1 div.sk-serial {display: flex;flex-direction: column;align-items: center;background-color: white;padding-right: 0.2em;padding-left: 0.2em;position: relative;}#sk-container-id-1 div.sk-item {position: relative;z-index: 1;}#sk-container-id-1 div.sk-parallel {display: flex;align-items: stretch;justify-content: center;background-color: white;position: relative;}#sk-container-id-1 div.sk-item::before, #sk-container-id-1 div.sk-parallel-item::before {content: \"\";position: absolute;border-left: 1px solid gray;box-sizing: border-box;top: 0;bottom: 0;left: 50%;z-index: -1;}#sk-container-id-1 div.sk-parallel-item {display: flex;flex-direction: column;z-index: 1;position: relative;background-color: white;}#sk-container-id-1 div.sk-parallel-item:first-child::after {align-self: flex-end;width: 50%;}#sk-container-id-1 div.sk-parallel-item:last-child::after {align-self: flex-start;width: 50%;}#sk-container-id-1 div.sk-parallel-item:only-child::after {width: 0;}#sk-container-id-1 div.sk-dashed-wrapped {border: 1px dashed gray;margin: 0 0.4em 0.5em 0.4em;box-sizing: border-box;padding-bottom: 0.4em;background-color: white;}#sk-container-id-1 div.sk-label label {font-family: monospace;font-weight: bold;display: inline-block;line-height: 1.2em;}#sk-container-id-1 div.sk-label-container {text-align: center;}#sk-container-id-1 div.sk-container {/* jupyter's `normalize.less` sets `[hidden] { display: none; }` but bootstrap.min.css set `[hidden] { display: none !important; }` so we also need the `!important` here to be able to override the default hidden behavior on the sphinx rendered scikit-learn.org. See: https://github.com/scikit-learn/scikit-learn/issues/21755 */display: inline-block !important;position: relative;}#sk-container-id-1 div.sk-text-repr-fallback {display: none;}</style><div id=\"sk-container-id-1\" class=\"sk-top-container\"><div class=\"sk-text-repr-fallback\"><pre>LinearRegression()</pre><b>In a Jupyter environment, please rerun this cell to show the HTML representation or trust the notebook. <br />On GitHub, the HTML representation is unable to render, please try loading this page with nbviewer.org.</b></div><div class=\"sk-container\" hidden><div class=\"sk-item\"><div class=\"sk-estimator sk-toggleable\"><input class=\"sk-toggleable__control sk-hidden--visually\" id=\"sk-estimator-id-1\" type=\"checkbox\" checked><label for=\"sk-estimator-id-1\" class=\"sk-toggleable__label sk-toggleable__label-arrow\">LinearRegression</label><div class=\"sk-toggleable__content\"><pre>LinearRegression()</pre></div></div></div></div></div>"
      ],
      "text/plain": [
       "LinearRegression()"
      ]
     },
     "execution_count": 12,
     "metadata": {},
     "output_type": "execute_result"
    }
   ],
   "source": [
    "log_y = np.log(y) \n",
    "linear_reg_model.fit(X_train, log_y) # train model"
   ]
  },
  {
   "cell_type": "markdown",
   "id": "0c556a74",
   "metadata": {
    "papermill": {
     "duration": 0.01009,
     "end_time": "2024-09-03T13:47:48.809118",
     "exception": false,
     "start_time": "2024-09-03T13:47:48.799028",
     "status": "completed"
    },
    "tags": []
   },
   "source": [
    "## Evaluate Model Performance"
   ]
  },
  {
   "cell_type": "code",
   "execution_count": 13,
   "id": "31f3d043",
   "metadata": {
    "execution": {
     "iopub.execute_input": "2024-09-03T13:47:48.832600Z",
     "iopub.status.busy": "2024-09-03T13:47:48.831687Z",
     "iopub.status.idle": "2024-09-03T13:47:48.867711Z",
     "shell.execute_reply": "2024-09-03T13:47:48.866439Z"
    },
    "papermill": {
     "duration": 0.056353,
     "end_time": "2024-09-03T13:47:48.876120",
     "exception": false,
     "start_time": "2024-09-03T13:47:48.819767",
     "status": "completed"
    },
    "tags": []
   },
   "outputs": [],
   "source": [
    "preds = linear_reg_model.predict(X_train)"
   ]
  },
  {
   "cell_type": "code",
   "execution_count": 14,
   "id": "c7d0ab2c",
   "metadata": {
    "execution": {
     "iopub.execute_input": "2024-09-03T13:47:48.914207Z",
     "iopub.status.busy": "2024-09-03T13:47:48.912711Z",
     "iopub.status.idle": "2024-09-03T13:47:48.928680Z",
     "shell.execute_reply": "2024-09-03T13:47:48.927224Z"
    },
    "papermill": {
     "duration": 0.034222,
     "end_time": "2024-09-03T13:47:48.932926",
     "exception": false,
     "start_time": "2024-09-03T13:47:48.898704",
     "status": "completed"
    },
    "tags": []
   },
   "outputs": [
    {
     "name": "stdout",
     "output_type": "stream",
     "text": [
      "RMSLE val of linear regression : 1.0205\n"
     ]
    }
   ],
   "source": [
    "print (f'RMSLE val of linear regression : {rmsle(log_y, preds, True):.4f}')"
   ]
  },
  {
   "cell_type": "markdown",
   "id": "d36c3acf",
   "metadata": {
    "papermill": {
     "duration": 0.012279,
     "end_time": "2024-09-03T13:47:48.957777",
     "exception": false,
     "start_time": "2024-09-03T13:47:48.945498",
     "status": "completed"
    },
    "tags": []
   },
   "source": [
    "## Submit Result"
   ]
  },
  {
   "cell_type": "code",
   "execution_count": 15,
   "id": "7abf3165",
   "metadata": {
    "execution": {
     "iopub.execute_input": "2024-09-03T13:47:48.982512Z",
     "iopub.status.busy": "2024-09-03T13:47:48.982054Z",
     "iopub.status.idle": "2024-09-03T13:47:49.034241Z",
     "shell.execute_reply": "2024-09-03T13:47:49.032957Z"
    },
    "papermill": {
     "duration": 0.067207,
     "end_time": "2024-09-03T13:47:49.037647",
     "exception": false,
     "start_time": "2024-09-03T13:47:48.970440",
     "status": "completed"
    },
    "tags": []
   },
   "outputs": [],
   "source": [
    "linearreg_preds = linear_reg_model.predict(X_test) # pred w/ test data\n",
    "\n",
    "submission['count'] = np.exp(linearreg_preds)    # exponential transformation\n",
    "submission.to_csv('submission.csv', index=False) # store to file"
   ]
  },
  {
   "cell_type": "code",
   "execution_count": null,
   "id": "fde7e192",
   "metadata": {
    "papermill": {
     "duration": 0.012463,
     "end_time": "2024-09-03T13:47:49.062621",
     "exception": false,
     "start_time": "2024-09-03T13:47:49.050158",
     "status": "completed"
    },
    "tags": []
   },
   "outputs": [],
   "source": []
  }
 ],
 "metadata": {
  "kaggle": {
   "accelerator": "none",
   "dataSources": [
    {
     "databundleVersionId": 32624,
     "sourceId": 3948,
     "sourceType": "competition"
    }
   ],
   "dockerImageVersionId": 30761,
   "isGpuEnabled": false,
   "isInternetEnabled": true,
   "language": "python",
   "sourceType": "notebook"
  },
  "kernelspec": {
   "display_name": "Python 3",
   "language": "python",
   "name": "python3"
  },
  "language_info": {
   "codemirror_mode": {
    "name": "ipython",
    "version": 3
   },
   "file_extension": ".py",
   "mimetype": "text/x-python",
   "name": "python",
   "nbconvert_exporter": "python",
   "pygments_lexer": "ipython3",
   "version": "3.10.14"
  },
  "papermill": {
   "default_parameters": {},
   "duration": 6.621631,
   "end_time": "2024-09-03T13:47:49.709475",
   "environment_variables": {},
   "exception": null,
   "input_path": "__notebook__.ipynb",
   "output_path": "__notebook__.ipynb",
   "parameters": {},
   "start_time": "2024-09-03T13:47:43.087844",
   "version": "2.6.0"
  }
 },
 "nbformat": 4,
 "nbformat_minor": 5
}
