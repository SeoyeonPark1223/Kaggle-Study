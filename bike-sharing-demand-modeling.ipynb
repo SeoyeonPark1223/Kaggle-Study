{
 "cells": [
  {
   "cell_type": "code",
   "execution_count": 1,
   "id": "e3ff474c",
   "metadata": {
    "_cell_guid": "b1076dfc-b9ad-4769-8c92-a6c4dae69d19",
    "_uuid": "8f2839f25d086af736a60e9eeb907d3b93b6e0e5",
    "execution": {
     "iopub.execute_input": "2024-09-03T14:14:32.229099Z",
     "iopub.status.busy": "2024-09-03T14:14:32.228519Z",
     "iopub.status.idle": "2024-09-03T14:14:32.670172Z",
     "shell.execute_reply": "2024-09-03T14:14:32.668970Z"
    },
    "papermill": {
     "duration": 0.459097,
     "end_time": "2024-09-03T14:14:32.673368",
     "exception": false,
     "start_time": "2024-09-03T14:14:32.214271",
     "status": "completed"
    },
    "tags": []
   },
   "outputs": [
    {
     "name": "stdout",
     "output_type": "stream",
     "text": [
      "/kaggle/input/bike-sharing-demand/sampleSubmission.csv\n",
      "/kaggle/input/bike-sharing-demand/train.csv\n",
      "/kaggle/input/bike-sharing-demand/test.csv\n"
     ]
    }
   ],
   "source": [
    "# This Python 3 environment comes with many helpful analytics libraries installed\n",
    "# It is defined by the kaggle/python Docker image: https://github.com/kaggle/docker-python\n",
    "# For example, here's several helpful packages to load\n",
    "\n",
    "import numpy as np # linear algebra\n",
    "import pandas as pd # data processing, CSV file I/O (e.g. pd.read_csv)\n",
    "\n",
    "# Input data files are available in the read-only \"../input/\" directory\n",
    "# For example, running this (by clicking run or pressing Shift+Enter) will list all files under the input directory\n",
    "\n",
    "import os\n",
    "for dirname, _, filenames in os.walk('/kaggle/input'):\n",
    "    for filename in filenames:\n",
    "        print(os.path.join(dirname, filename))\n",
    "\n",
    "# You can write up to 20GB to the current directory (/kaggle/working/) that gets preserved as output when you create a version using \"Save & Run All\" \n",
    "# You can also write temporary files to /kaggle/temp/, but they won't be saved outside of the current session"
   ]
  },
  {
   "cell_type": "code",
   "execution_count": 2,
   "id": "ab3df5be",
   "metadata": {
    "execution": {
     "iopub.execute_input": "2024-09-03T14:14:32.705021Z",
     "iopub.status.busy": "2024-09-03T14:14:32.703741Z",
     "iopub.status.idle": "2024-09-03T14:14:32.796756Z",
     "shell.execute_reply": "2024-09-03T14:14:32.795536Z"
    },
    "papermill": {
     "duration": 0.109633,
     "end_time": "2024-09-03T14:14:32.799465",
     "exception": false,
     "start_time": "2024-09-03T14:14:32.689832",
     "status": "completed"
    },
    "tags": []
   },
   "outputs": [],
   "source": [
    "data_path = '/kaggle/input/bike-sharing-demand/'\n",
    "\n",
    "train = pd.read_csv(data_path + 'train.csv')\n",
    "test = pd.read_csv(data_path + 'test.csv')\n",
    "submission = pd.read_csv(data_path + 'sampleSubmission.csv')"
   ]
  },
  {
   "cell_type": "markdown",
   "id": "65eac934",
   "metadata": {
    "papermill": {
     "duration": 0.011294,
     "end_time": "2024-09-03T14:14:32.822714",
     "exception": false,
     "start_time": "2024-09-03T14:14:32.811420",
     "status": "completed"
    },
    "tags": []
   },
   "source": [
    "Tutorial Link -> https://www.kaggle.com/code/werooring/ch6-modeling"
   ]
  },
  {
   "cell_type": "markdown",
   "id": "a1525b0e",
   "metadata": {
    "papermill": {
     "duration": 0.011326,
     "end_time": "2024-09-03T14:14:32.846050",
     "exception": false,
     "start_time": "2024-09-03T14:14:32.834724",
     "status": "completed"
    },
    "tags": []
   },
   "source": [
    "## Feature Engineering"
   ]
  },
  {
   "cell_type": "markdown",
   "id": "a412015e",
   "metadata": {
    "papermill": {
     "duration": 0.01132,
     "end_time": "2024-09-03T14:14:32.869211",
     "exception": false,
     "start_time": "2024-09-03T14:14:32.857891",
     "status": "completed"
    },
    "tags": []
   },
   "source": [
    "**Outlier Removal**"
   ]
  },
  {
   "cell_type": "code",
   "execution_count": 3,
   "id": "4bf12a25",
   "metadata": {
    "execution": {
     "iopub.execute_input": "2024-09-03T14:14:32.894746Z",
     "iopub.status.busy": "2024-09-03T14:14:32.893687Z",
     "iopub.status.idle": "2024-09-03T14:14:32.910693Z",
     "shell.execute_reply": "2024-09-03T14:14:32.909731Z"
    },
    "papermill": {
     "duration": 0.032267,
     "end_time": "2024-09-03T14:14:32.913135",
     "exception": false,
     "start_time": "2024-09-03T14:14:32.880868",
     "status": "completed"
    },
    "tags": []
   },
   "outputs": [],
   "source": [
    "# Extract data if weather != 4 from training data\n",
    "train = train[train['weather'] != 4]"
   ]
  },
  {
   "cell_type": "markdown",
   "id": "4431603a",
   "metadata": {
    "papermill": {
     "duration": 0.011184,
     "end_time": "2024-09-03T14:14:32.935975",
     "exception": false,
     "start_time": "2024-09-03T14:14:32.924791",
     "status": "completed"
    },
    "tags": []
   },
   "source": [
    "**Combine Data**"
   ]
  },
  {
   "cell_type": "code",
   "execution_count": 4,
   "id": "83b2d015",
   "metadata": {
    "execution": {
     "iopub.execute_input": "2024-09-03T14:14:32.961143Z",
     "iopub.status.busy": "2024-09-03T14:14:32.960756Z",
     "iopub.status.idle": "2024-09-03T14:14:32.997633Z",
     "shell.execute_reply": "2024-09-03T14:14:32.996245Z"
    },
    "papermill": {
     "duration": 0.052699,
     "end_time": "2024-09-03T14:14:33.000262",
     "exception": false,
     "start_time": "2024-09-03T14:14:32.947563",
     "status": "completed"
    },
    "tags": []
   },
   "outputs": [
    {
     "data": {
      "text/html": [
       "<div>\n",
       "<style scoped>\n",
       "    .dataframe tbody tr th:only-of-type {\n",
       "        vertical-align: middle;\n",
       "    }\n",
       "\n",
       "    .dataframe tbody tr th {\n",
       "        vertical-align: top;\n",
       "    }\n",
       "\n",
       "    .dataframe thead th {\n",
       "        text-align: right;\n",
       "    }\n",
       "</style>\n",
       "<table border=\"1\" class=\"dataframe\">\n",
       "  <thead>\n",
       "    <tr style=\"text-align: right;\">\n",
       "      <th></th>\n",
       "      <th>datetime</th>\n",
       "      <th>season</th>\n",
       "      <th>holiday</th>\n",
       "      <th>workingday</th>\n",
       "      <th>weather</th>\n",
       "      <th>temp</th>\n",
       "      <th>atemp</th>\n",
       "      <th>humidity</th>\n",
       "      <th>windspeed</th>\n",
       "      <th>casual</th>\n",
       "      <th>registered</th>\n",
       "      <th>count</th>\n",
       "    </tr>\n",
       "  </thead>\n",
       "  <tbody>\n",
       "    <tr>\n",
       "      <th>0</th>\n",
       "      <td>2011-01-01 00:00:00</td>\n",
       "      <td>1</td>\n",
       "      <td>0</td>\n",
       "      <td>0</td>\n",
       "      <td>1</td>\n",
       "      <td>9.84</td>\n",
       "      <td>14.395</td>\n",
       "      <td>81</td>\n",
       "      <td>0.0000</td>\n",
       "      <td>3.0</td>\n",
       "      <td>13.0</td>\n",
       "      <td>16.0</td>\n",
       "    </tr>\n",
       "    <tr>\n",
       "      <th>1</th>\n",
       "      <td>2011-01-01 01:00:00</td>\n",
       "      <td>1</td>\n",
       "      <td>0</td>\n",
       "      <td>0</td>\n",
       "      <td>1</td>\n",
       "      <td>9.02</td>\n",
       "      <td>13.635</td>\n",
       "      <td>80</td>\n",
       "      <td>0.0000</td>\n",
       "      <td>8.0</td>\n",
       "      <td>32.0</td>\n",
       "      <td>40.0</td>\n",
       "    </tr>\n",
       "    <tr>\n",
       "      <th>2</th>\n",
       "      <td>2011-01-01 02:00:00</td>\n",
       "      <td>1</td>\n",
       "      <td>0</td>\n",
       "      <td>0</td>\n",
       "      <td>1</td>\n",
       "      <td>9.02</td>\n",
       "      <td>13.635</td>\n",
       "      <td>80</td>\n",
       "      <td>0.0000</td>\n",
       "      <td>5.0</td>\n",
       "      <td>27.0</td>\n",
       "      <td>32.0</td>\n",
       "    </tr>\n",
       "    <tr>\n",
       "      <th>3</th>\n",
       "      <td>2011-01-01 03:00:00</td>\n",
       "      <td>1</td>\n",
       "      <td>0</td>\n",
       "      <td>0</td>\n",
       "      <td>1</td>\n",
       "      <td>9.84</td>\n",
       "      <td>14.395</td>\n",
       "      <td>75</td>\n",
       "      <td>0.0000</td>\n",
       "      <td>3.0</td>\n",
       "      <td>10.0</td>\n",
       "      <td>13.0</td>\n",
       "    </tr>\n",
       "    <tr>\n",
       "      <th>4</th>\n",
       "      <td>2011-01-01 04:00:00</td>\n",
       "      <td>1</td>\n",
       "      <td>0</td>\n",
       "      <td>0</td>\n",
       "      <td>1</td>\n",
       "      <td>9.84</td>\n",
       "      <td>14.395</td>\n",
       "      <td>75</td>\n",
       "      <td>0.0000</td>\n",
       "      <td>0.0</td>\n",
       "      <td>1.0</td>\n",
       "      <td>1.0</td>\n",
       "    </tr>\n",
       "    <tr>\n",
       "      <th>...</th>\n",
       "      <td>...</td>\n",
       "      <td>...</td>\n",
       "      <td>...</td>\n",
       "      <td>...</td>\n",
       "      <td>...</td>\n",
       "      <td>...</td>\n",
       "      <td>...</td>\n",
       "      <td>...</td>\n",
       "      <td>...</td>\n",
       "      <td>...</td>\n",
       "      <td>...</td>\n",
       "      <td>...</td>\n",
       "    </tr>\n",
       "    <tr>\n",
       "      <th>6488</th>\n",
       "      <td>2012-12-31 19:00:00</td>\n",
       "      <td>1</td>\n",
       "      <td>0</td>\n",
       "      <td>1</td>\n",
       "      <td>2</td>\n",
       "      <td>10.66</td>\n",
       "      <td>12.880</td>\n",
       "      <td>60</td>\n",
       "      <td>11.0014</td>\n",
       "      <td>NaN</td>\n",
       "      <td>NaN</td>\n",
       "      <td>NaN</td>\n",
       "    </tr>\n",
       "    <tr>\n",
       "      <th>6489</th>\n",
       "      <td>2012-12-31 20:00:00</td>\n",
       "      <td>1</td>\n",
       "      <td>0</td>\n",
       "      <td>1</td>\n",
       "      <td>2</td>\n",
       "      <td>10.66</td>\n",
       "      <td>12.880</td>\n",
       "      <td>60</td>\n",
       "      <td>11.0014</td>\n",
       "      <td>NaN</td>\n",
       "      <td>NaN</td>\n",
       "      <td>NaN</td>\n",
       "    </tr>\n",
       "    <tr>\n",
       "      <th>6490</th>\n",
       "      <td>2012-12-31 21:00:00</td>\n",
       "      <td>1</td>\n",
       "      <td>0</td>\n",
       "      <td>1</td>\n",
       "      <td>1</td>\n",
       "      <td>10.66</td>\n",
       "      <td>12.880</td>\n",
       "      <td>60</td>\n",
       "      <td>11.0014</td>\n",
       "      <td>NaN</td>\n",
       "      <td>NaN</td>\n",
       "      <td>NaN</td>\n",
       "    </tr>\n",
       "    <tr>\n",
       "      <th>6491</th>\n",
       "      <td>2012-12-31 22:00:00</td>\n",
       "      <td>1</td>\n",
       "      <td>0</td>\n",
       "      <td>1</td>\n",
       "      <td>1</td>\n",
       "      <td>10.66</td>\n",
       "      <td>13.635</td>\n",
       "      <td>56</td>\n",
       "      <td>8.9981</td>\n",
       "      <td>NaN</td>\n",
       "      <td>NaN</td>\n",
       "      <td>NaN</td>\n",
       "    </tr>\n",
       "    <tr>\n",
       "      <th>6492</th>\n",
       "      <td>2012-12-31 23:00:00</td>\n",
       "      <td>1</td>\n",
       "      <td>0</td>\n",
       "      <td>1</td>\n",
       "      <td>1</td>\n",
       "      <td>10.66</td>\n",
       "      <td>13.635</td>\n",
       "      <td>65</td>\n",
       "      <td>8.9981</td>\n",
       "      <td>NaN</td>\n",
       "      <td>NaN</td>\n",
       "      <td>NaN</td>\n",
       "    </tr>\n",
       "  </tbody>\n",
       "</table>\n",
       "<p>17378 rows × 12 columns</p>\n",
       "</div>"
      ],
      "text/plain": [
       "                 datetime  season  holiday  workingday  weather   temp  \\\n",
       "0     2011-01-01 00:00:00       1        0           0        1   9.84   \n",
       "1     2011-01-01 01:00:00       1        0           0        1   9.02   \n",
       "2     2011-01-01 02:00:00       1        0           0        1   9.02   \n",
       "3     2011-01-01 03:00:00       1        0           0        1   9.84   \n",
       "4     2011-01-01 04:00:00       1        0           0        1   9.84   \n",
       "...                   ...     ...      ...         ...      ...    ...   \n",
       "6488  2012-12-31 19:00:00       1        0           1        2  10.66   \n",
       "6489  2012-12-31 20:00:00       1        0           1        2  10.66   \n",
       "6490  2012-12-31 21:00:00       1        0           1        1  10.66   \n",
       "6491  2012-12-31 22:00:00       1        0           1        1  10.66   \n",
       "6492  2012-12-31 23:00:00       1        0           1        1  10.66   \n",
       "\n",
       "       atemp  humidity  windspeed  casual  registered  count  \n",
       "0     14.395        81     0.0000     3.0        13.0   16.0  \n",
       "1     13.635        80     0.0000     8.0        32.0   40.0  \n",
       "2     13.635        80     0.0000     5.0        27.0   32.0  \n",
       "3     14.395        75     0.0000     3.0        10.0   13.0  \n",
       "4     14.395        75     0.0000     0.0         1.0    1.0  \n",
       "...      ...       ...        ...     ...         ...    ...  \n",
       "6488  12.880        60    11.0014     NaN         NaN    NaN  \n",
       "6489  12.880        60    11.0014     NaN         NaN    NaN  \n",
       "6490  12.880        60    11.0014     NaN         NaN    NaN  \n",
       "6491  13.635        56     8.9981     NaN         NaN    NaN  \n",
       "6492  13.635        65     8.9981     NaN         NaN    NaN  \n",
       "\n",
       "[17378 rows x 12 columns]"
      ]
     },
     "execution_count": 4,
     "metadata": {},
     "output_type": "execute_result"
    }
   ],
   "source": [
    "all_data_temp = pd.concat([train, test])\n",
    "all_data_temp"
   ]
  },
  {
   "cell_type": "code",
   "execution_count": 5,
   "id": "896d4aed",
   "metadata": {
    "execution": {
     "iopub.execute_input": "2024-09-03T14:14:33.027232Z",
     "iopub.status.busy": "2024-09-03T14:14:33.026237Z",
     "iopub.status.idle": "2024-09-03T14:14:33.052221Z",
     "shell.execute_reply": "2024-09-03T14:14:33.051105Z"
    },
    "papermill": {
     "duration": 0.041999,
     "end_time": "2024-09-03T14:14:33.054706",
     "exception": false,
     "start_time": "2024-09-03T14:14:33.012707",
     "status": "completed"
    },
    "tags": []
   },
   "outputs": [
    {
     "data": {
      "text/html": [
       "<div>\n",
       "<style scoped>\n",
       "    .dataframe tbody tr th:only-of-type {\n",
       "        vertical-align: middle;\n",
       "    }\n",
       "\n",
       "    .dataframe tbody tr th {\n",
       "        vertical-align: top;\n",
       "    }\n",
       "\n",
       "    .dataframe thead th {\n",
       "        text-align: right;\n",
       "    }\n",
       "</style>\n",
       "<table border=\"1\" class=\"dataframe\">\n",
       "  <thead>\n",
       "    <tr style=\"text-align: right;\">\n",
       "      <th></th>\n",
       "      <th>datetime</th>\n",
       "      <th>season</th>\n",
       "      <th>holiday</th>\n",
       "      <th>workingday</th>\n",
       "      <th>weather</th>\n",
       "      <th>temp</th>\n",
       "      <th>atemp</th>\n",
       "      <th>humidity</th>\n",
       "      <th>windspeed</th>\n",
       "      <th>casual</th>\n",
       "      <th>registered</th>\n",
       "      <th>count</th>\n",
       "    </tr>\n",
       "  </thead>\n",
       "  <tbody>\n",
       "    <tr>\n",
       "      <th>0</th>\n",
       "      <td>2011-01-01 00:00:00</td>\n",
       "      <td>1</td>\n",
       "      <td>0</td>\n",
       "      <td>0</td>\n",
       "      <td>1</td>\n",
       "      <td>9.84</td>\n",
       "      <td>14.395</td>\n",
       "      <td>81</td>\n",
       "      <td>0.0000</td>\n",
       "      <td>3.0</td>\n",
       "      <td>13.0</td>\n",
       "      <td>16.0</td>\n",
       "    </tr>\n",
       "    <tr>\n",
       "      <th>1</th>\n",
       "      <td>2011-01-01 01:00:00</td>\n",
       "      <td>1</td>\n",
       "      <td>0</td>\n",
       "      <td>0</td>\n",
       "      <td>1</td>\n",
       "      <td>9.02</td>\n",
       "      <td>13.635</td>\n",
       "      <td>80</td>\n",
       "      <td>0.0000</td>\n",
       "      <td>8.0</td>\n",
       "      <td>32.0</td>\n",
       "      <td>40.0</td>\n",
       "    </tr>\n",
       "    <tr>\n",
       "      <th>2</th>\n",
       "      <td>2011-01-01 02:00:00</td>\n",
       "      <td>1</td>\n",
       "      <td>0</td>\n",
       "      <td>0</td>\n",
       "      <td>1</td>\n",
       "      <td>9.02</td>\n",
       "      <td>13.635</td>\n",
       "      <td>80</td>\n",
       "      <td>0.0000</td>\n",
       "      <td>5.0</td>\n",
       "      <td>27.0</td>\n",
       "      <td>32.0</td>\n",
       "    </tr>\n",
       "    <tr>\n",
       "      <th>3</th>\n",
       "      <td>2011-01-01 03:00:00</td>\n",
       "      <td>1</td>\n",
       "      <td>0</td>\n",
       "      <td>0</td>\n",
       "      <td>1</td>\n",
       "      <td>9.84</td>\n",
       "      <td>14.395</td>\n",
       "      <td>75</td>\n",
       "      <td>0.0000</td>\n",
       "      <td>3.0</td>\n",
       "      <td>10.0</td>\n",
       "      <td>13.0</td>\n",
       "    </tr>\n",
       "    <tr>\n",
       "      <th>4</th>\n",
       "      <td>2011-01-01 04:00:00</td>\n",
       "      <td>1</td>\n",
       "      <td>0</td>\n",
       "      <td>0</td>\n",
       "      <td>1</td>\n",
       "      <td>9.84</td>\n",
       "      <td>14.395</td>\n",
       "      <td>75</td>\n",
       "      <td>0.0000</td>\n",
       "      <td>0.0</td>\n",
       "      <td>1.0</td>\n",
       "      <td>1.0</td>\n",
       "    </tr>\n",
       "    <tr>\n",
       "      <th>...</th>\n",
       "      <td>...</td>\n",
       "      <td>...</td>\n",
       "      <td>...</td>\n",
       "      <td>...</td>\n",
       "      <td>...</td>\n",
       "      <td>...</td>\n",
       "      <td>...</td>\n",
       "      <td>...</td>\n",
       "      <td>...</td>\n",
       "      <td>...</td>\n",
       "      <td>...</td>\n",
       "      <td>...</td>\n",
       "    </tr>\n",
       "    <tr>\n",
       "      <th>17373</th>\n",
       "      <td>2012-12-31 19:00:00</td>\n",
       "      <td>1</td>\n",
       "      <td>0</td>\n",
       "      <td>1</td>\n",
       "      <td>2</td>\n",
       "      <td>10.66</td>\n",
       "      <td>12.880</td>\n",
       "      <td>60</td>\n",
       "      <td>11.0014</td>\n",
       "      <td>NaN</td>\n",
       "      <td>NaN</td>\n",
       "      <td>NaN</td>\n",
       "    </tr>\n",
       "    <tr>\n",
       "      <th>17374</th>\n",
       "      <td>2012-12-31 20:00:00</td>\n",
       "      <td>1</td>\n",
       "      <td>0</td>\n",
       "      <td>1</td>\n",
       "      <td>2</td>\n",
       "      <td>10.66</td>\n",
       "      <td>12.880</td>\n",
       "      <td>60</td>\n",
       "      <td>11.0014</td>\n",
       "      <td>NaN</td>\n",
       "      <td>NaN</td>\n",
       "      <td>NaN</td>\n",
       "    </tr>\n",
       "    <tr>\n",
       "      <th>17375</th>\n",
       "      <td>2012-12-31 21:00:00</td>\n",
       "      <td>1</td>\n",
       "      <td>0</td>\n",
       "      <td>1</td>\n",
       "      <td>1</td>\n",
       "      <td>10.66</td>\n",
       "      <td>12.880</td>\n",
       "      <td>60</td>\n",
       "      <td>11.0014</td>\n",
       "      <td>NaN</td>\n",
       "      <td>NaN</td>\n",
       "      <td>NaN</td>\n",
       "    </tr>\n",
       "    <tr>\n",
       "      <th>17376</th>\n",
       "      <td>2012-12-31 22:00:00</td>\n",
       "      <td>1</td>\n",
       "      <td>0</td>\n",
       "      <td>1</td>\n",
       "      <td>1</td>\n",
       "      <td>10.66</td>\n",
       "      <td>13.635</td>\n",
       "      <td>56</td>\n",
       "      <td>8.9981</td>\n",
       "      <td>NaN</td>\n",
       "      <td>NaN</td>\n",
       "      <td>NaN</td>\n",
       "    </tr>\n",
       "    <tr>\n",
       "      <th>17377</th>\n",
       "      <td>2012-12-31 23:00:00</td>\n",
       "      <td>1</td>\n",
       "      <td>0</td>\n",
       "      <td>1</td>\n",
       "      <td>1</td>\n",
       "      <td>10.66</td>\n",
       "      <td>13.635</td>\n",
       "      <td>65</td>\n",
       "      <td>8.9981</td>\n",
       "      <td>NaN</td>\n",
       "      <td>NaN</td>\n",
       "      <td>NaN</td>\n",
       "    </tr>\n",
       "  </tbody>\n",
       "</table>\n",
       "<p>17378 rows × 12 columns</p>\n",
       "</div>"
      ],
      "text/plain": [
       "                  datetime  season  holiday  workingday  weather   temp  \\\n",
       "0      2011-01-01 00:00:00       1        0           0        1   9.84   \n",
       "1      2011-01-01 01:00:00       1        0           0        1   9.02   \n",
       "2      2011-01-01 02:00:00       1        0           0        1   9.02   \n",
       "3      2011-01-01 03:00:00       1        0           0        1   9.84   \n",
       "4      2011-01-01 04:00:00       1        0           0        1   9.84   \n",
       "...                    ...     ...      ...         ...      ...    ...   \n",
       "17373  2012-12-31 19:00:00       1        0           1        2  10.66   \n",
       "17374  2012-12-31 20:00:00       1        0           1        2  10.66   \n",
       "17375  2012-12-31 21:00:00       1        0           1        1  10.66   \n",
       "17376  2012-12-31 22:00:00       1        0           1        1  10.66   \n",
       "17377  2012-12-31 23:00:00       1        0           1        1  10.66   \n",
       "\n",
       "        atemp  humidity  windspeed  casual  registered  count  \n",
       "0      14.395        81     0.0000     3.0        13.0   16.0  \n",
       "1      13.635        80     0.0000     8.0        32.0   40.0  \n",
       "2      13.635        80     0.0000     5.0        27.0   32.0  \n",
       "3      14.395        75     0.0000     3.0        10.0   13.0  \n",
       "4      14.395        75     0.0000     0.0         1.0    1.0  \n",
       "...       ...       ...        ...     ...         ...    ...  \n",
       "17373  12.880        60    11.0014     NaN         NaN    NaN  \n",
       "17374  12.880        60    11.0014     NaN         NaN    NaN  \n",
       "17375  12.880        60    11.0014     NaN         NaN    NaN  \n",
       "17376  13.635        56     8.9981     NaN         NaN    NaN  \n",
       "17377  13.635        65     8.9981     NaN         NaN    NaN  \n",
       "\n",
       "[17378 rows x 12 columns]"
      ]
     },
     "execution_count": 5,
     "metadata": {},
     "output_type": "execute_result"
    }
   ],
   "source": [
    "all_data = pd.concat([train, test], ignore_index = True)\n",
    "all_data"
   ]
  },
  {
   "cell_type": "markdown",
   "id": "bc1ca96a",
   "metadata": {
    "papermill": {
     "duration": 0.012615,
     "end_time": "2024-09-03T14:14:33.080891",
     "exception": false,
     "start_time": "2024-09-03T14:14:33.068276",
     "status": "completed"
    },
    "tags": []
   },
   "source": [
    "**Add sub features**"
   ]
  },
  {
   "cell_type": "code",
   "execution_count": 6,
   "id": "a34fd123",
   "metadata": {
    "execution": {
     "iopub.execute_input": "2024-09-03T14:14:33.108430Z",
     "iopub.status.busy": "2024-09-03T14:14:33.108020Z",
     "iopub.status.idle": "2024-09-03T14:14:33.422797Z",
     "shell.execute_reply": "2024-09-03T14:14:33.421853Z"
    },
    "papermill": {
     "duration": 0.331365,
     "end_time": "2024-09-03T14:14:33.425488",
     "exception": false,
     "start_time": "2024-09-03T14:14:33.094123",
     "status": "completed"
    },
    "tags": []
   },
   "outputs": [],
   "source": [
    "from datetime import datetime\n",
    "\n",
    "# date feature\n",
    "all_data['date'] = all_data['datetime'].apply(lambda x: x.split()[0])\n",
    "# year feature\n",
    "all_data['year'] = all_data['datetime'].apply(lambda x: x.split()[0].split(\"-\")[0])\n",
    "# month feature\n",
    "all_data['month'] = all_data['datetime'].apply(lambda x: x.split()[0].split('-')[1])\n",
    "# hour feature \n",
    "all_data['hour'] = all_data['datetime'].apply(lambda x: x.split()[1].split(':')[0])\n",
    "# weekday feature\n",
    "all_data[\"weekday\"] = all_data['date'].apply(lambda dateString : datetime.strptime(dateString,\"%Y-%m-%d\").weekday())\n"
   ]
  },
  {
   "cell_type": "markdown",
   "id": "17e99b80",
   "metadata": {
    "papermill": {
     "duration": 0.01232,
     "end_time": "2024-09-03T14:14:33.450446",
     "exception": false,
     "start_time": "2024-09-03T14:14:33.438126",
     "status": "completed"
    },
    "tags": []
   },
   "source": [
    "**Delete unnecessary features**"
   ]
  },
  {
   "cell_type": "code",
   "execution_count": 7,
   "id": "464cb520",
   "metadata": {
    "execution": {
     "iopub.execute_input": "2024-09-03T14:14:33.477703Z",
     "iopub.status.busy": "2024-09-03T14:14:33.476491Z",
     "iopub.status.idle": "2024-09-03T14:14:33.484394Z",
     "shell.execute_reply": "2024-09-03T14:14:33.483512Z"
    },
    "papermill": {
     "duration": 0.023905,
     "end_time": "2024-09-03T14:14:33.486818",
     "exception": false,
     "start_time": "2024-09-03T14:14:33.462913",
     "status": "completed"
    },
    "tags": []
   },
   "outputs": [],
   "source": [
    "drop_features = ['casual', 'registered', 'datetime', 'date', 'month', 'windspeed']\n",
    "\n",
    "all_data = all_data.drop(drop_features, axis=1)"
   ]
  },
  {
   "cell_type": "markdown",
   "id": "f831f62d",
   "metadata": {
    "papermill": {
     "duration": 0.012245,
     "end_time": "2024-09-03T14:14:33.511690",
     "exception": false,
     "start_time": "2024-09-03T14:14:33.499445",
     "status": "completed"
    },
    "tags": []
   },
   "source": [
    "**Split Data**"
   ]
  },
  {
   "cell_type": "code",
   "execution_count": 8,
   "id": "d3de64bd",
   "metadata": {
    "execution": {
     "iopub.execute_input": "2024-09-03T14:14:33.538880Z",
     "iopub.status.busy": "2024-09-03T14:14:33.537993Z",
     "iopub.status.idle": "2024-09-03T14:14:33.553287Z",
     "shell.execute_reply": "2024-09-03T14:14:33.552262Z"
    },
    "papermill": {
     "duration": 0.031666,
     "end_time": "2024-09-03T14:14:33.555916",
     "exception": false,
     "start_time": "2024-09-03T14:14:33.524250",
     "status": "completed"
    },
    "tags": []
   },
   "outputs": [],
   "source": [
    "# split training and test data\n",
    "X_train = all_data[~pd.isnull(all_data['count'])]\n",
    "X_test = all_data[pd.isnull(all_data['count'])]\n",
    "\n",
    "# remove target value's 'count' feature\n",
    "X_train = X_train.drop(['count'], axis=1)\n",
    "X_test = X_test.drop(['count'], axis=1)\n",
    "\n",
    "y = train['count'] #target val"
   ]
  },
  {
   "cell_type": "code",
   "execution_count": 9,
   "id": "4bf4c9f3",
   "metadata": {
    "execution": {
     "iopub.execute_input": "2024-09-03T14:14:33.583133Z",
     "iopub.status.busy": "2024-09-03T14:14:33.582107Z",
     "iopub.status.idle": "2024-09-03T14:14:33.597595Z",
     "shell.execute_reply": "2024-09-03T14:14:33.596516Z"
    },
    "papermill": {
     "duration": 0.031448,
     "end_time": "2024-09-03T14:14:33.599900",
     "exception": false,
     "start_time": "2024-09-03T14:14:33.568452",
     "status": "completed"
    },
    "tags": []
   },
   "outputs": [
    {
     "data": {
      "text/html": [
       "<div>\n",
       "<style scoped>\n",
       "    .dataframe tbody tr th:only-of-type {\n",
       "        vertical-align: middle;\n",
       "    }\n",
       "\n",
       "    .dataframe tbody tr th {\n",
       "        vertical-align: top;\n",
       "    }\n",
       "\n",
       "    .dataframe thead th {\n",
       "        text-align: right;\n",
       "    }\n",
       "</style>\n",
       "<table border=\"1\" class=\"dataframe\">\n",
       "  <thead>\n",
       "    <tr style=\"text-align: right;\">\n",
       "      <th></th>\n",
       "      <th>season</th>\n",
       "      <th>holiday</th>\n",
       "      <th>workingday</th>\n",
       "      <th>weather</th>\n",
       "      <th>temp</th>\n",
       "      <th>atemp</th>\n",
       "      <th>humidity</th>\n",
       "      <th>year</th>\n",
       "      <th>hour</th>\n",
       "      <th>weekday</th>\n",
       "    </tr>\n",
       "  </thead>\n",
       "  <tbody>\n",
       "    <tr>\n",
       "      <th>0</th>\n",
       "      <td>1</td>\n",
       "      <td>0</td>\n",
       "      <td>0</td>\n",
       "      <td>1</td>\n",
       "      <td>9.84</td>\n",
       "      <td>14.395</td>\n",
       "      <td>81</td>\n",
       "      <td>2011</td>\n",
       "      <td>00</td>\n",
       "      <td>5</td>\n",
       "    </tr>\n",
       "    <tr>\n",
       "      <th>1</th>\n",
       "      <td>1</td>\n",
       "      <td>0</td>\n",
       "      <td>0</td>\n",
       "      <td>1</td>\n",
       "      <td>9.02</td>\n",
       "      <td>13.635</td>\n",
       "      <td>80</td>\n",
       "      <td>2011</td>\n",
       "      <td>01</td>\n",
       "      <td>5</td>\n",
       "    </tr>\n",
       "    <tr>\n",
       "      <th>2</th>\n",
       "      <td>1</td>\n",
       "      <td>0</td>\n",
       "      <td>0</td>\n",
       "      <td>1</td>\n",
       "      <td>9.02</td>\n",
       "      <td>13.635</td>\n",
       "      <td>80</td>\n",
       "      <td>2011</td>\n",
       "      <td>02</td>\n",
       "      <td>5</td>\n",
       "    </tr>\n",
       "    <tr>\n",
       "      <th>3</th>\n",
       "      <td>1</td>\n",
       "      <td>0</td>\n",
       "      <td>0</td>\n",
       "      <td>1</td>\n",
       "      <td>9.84</td>\n",
       "      <td>14.395</td>\n",
       "      <td>75</td>\n",
       "      <td>2011</td>\n",
       "      <td>03</td>\n",
       "      <td>5</td>\n",
       "    </tr>\n",
       "    <tr>\n",
       "      <th>4</th>\n",
       "      <td>1</td>\n",
       "      <td>0</td>\n",
       "      <td>0</td>\n",
       "      <td>1</td>\n",
       "      <td>9.84</td>\n",
       "      <td>14.395</td>\n",
       "      <td>75</td>\n",
       "      <td>2011</td>\n",
       "      <td>04</td>\n",
       "      <td>5</td>\n",
       "    </tr>\n",
       "  </tbody>\n",
       "</table>\n",
       "</div>"
      ],
      "text/plain": [
       "   season  holiday  workingday  weather  temp   atemp  humidity  year hour  \\\n",
       "0       1        0           0        1  9.84  14.395        81  2011   00   \n",
       "1       1        0           0        1  9.02  13.635        80  2011   01   \n",
       "2       1        0           0        1  9.02  13.635        80  2011   02   \n",
       "3       1        0           0        1  9.84  14.395        75  2011   03   \n",
       "4       1        0           0        1  9.84  14.395        75  2011   04   \n",
       "\n",
       "   weekday  \n",
       "0        5  \n",
       "1        5  \n",
       "2        5  \n",
       "3        5  \n",
       "4        5  "
      ]
     },
     "execution_count": 9,
     "metadata": {},
     "output_type": "execute_result"
    }
   ],
   "source": [
    "X_train.head()"
   ]
  },
  {
   "cell_type": "markdown",
   "id": "dcbbb2aa",
   "metadata": {
    "papermill": {
     "duration": 0.012435,
     "end_time": "2024-09-03T14:14:33.625183",
     "exception": false,
     "start_time": "2024-09-03T14:14:33.612748",
     "status": "completed"
    },
    "tags": []
   },
   "source": [
    "## Write function to calculate evaluation metrics"
   ]
  },
  {
   "cell_type": "code",
   "execution_count": 10,
   "id": "eef63afb",
   "metadata": {
    "execution": {
     "iopub.execute_input": "2024-09-03T14:14:33.652698Z",
     "iopub.status.busy": "2024-09-03T14:14:33.652270Z",
     "iopub.status.idle": "2024-09-03T14:14:33.659720Z",
     "shell.execute_reply": "2024-09-03T14:14:33.658627Z"
    },
    "papermill": {
     "duration": 0.02396,
     "end_time": "2024-09-03T14:14:33.662005",
     "exception": false,
     "start_time": "2024-09-03T14:14:33.638045",
     "status": "completed"
    },
    "tags": []
   },
   "outputs": [],
   "source": [
    "import numpy as np\n",
    "\n",
    "def rmsle(y_true, y_pred, convertExp=True):\n",
    "    # convert exponent\n",
    "    if convertExp:\n",
    "        y_true = np.exp(y_true)\n",
    "        y_pred = np.exp(y_pred)\n",
    "        \n",
    "    # transit pred to 0 after transition to log\n",
    "    log_true = np.nan_to_num(np.log(y_true+1))\n",
    "    log_pred = np.nan_to_num(np.log(y_pred+1))\n",
    "    \n",
    "    # calcuate RMSLE\n",
    "    output = np.sqrt(np.mean((log_true - log_pred)**2))\n",
    "    return output"
   ]
  },
  {
   "cell_type": "markdown",
   "id": "e37bb93a",
   "metadata": {
    "papermill": {
     "duration": 0.012405,
     "end_time": "2024-09-03T14:14:33.687191",
     "exception": false,
     "start_time": "2024-09-03T14:14:33.674786",
     "status": "completed"
    },
    "tags": []
   },
   "source": [
    "## Performance Improvement 1: Ridge Regression Model"
   ]
  },
  {
   "cell_type": "markdown",
   "id": "4e83dfcd",
   "metadata": {
    "papermill": {
     "duration": 0.013847,
     "end_time": "2024-09-03T14:14:33.714033",
     "exception": false,
     "start_time": "2024-09-03T14:14:33.700186",
     "status": "completed"
    },
    "tags": []
   },
   "source": [
    "**Optimize hyper parameters (training model)**"
   ]
  },
  {
   "cell_type": "code",
   "execution_count": 11,
   "id": "cf9ba31e",
   "metadata": {
    "execution": {
     "iopub.execute_input": "2024-09-03T14:14:33.741267Z",
     "iopub.status.busy": "2024-09-03T14:14:33.740868Z",
     "iopub.status.idle": "2024-09-03T14:14:35.178342Z",
     "shell.execute_reply": "2024-09-03T14:14:35.177069Z"
    },
    "papermill": {
     "duration": 1.454474,
     "end_time": "2024-09-03T14:14:35.181279",
     "exception": false,
     "start_time": "2024-09-03T14:14:33.726805",
     "status": "completed"
    },
    "tags": []
   },
   "outputs": [],
   "source": [
    "from sklearn.linear_model import Ridge\n",
    "from sklearn.model_selection import GridSearchCV\n",
    "from sklearn import metrics\n",
    "\n",
    "ridge_model = Ridge()"
   ]
  },
  {
   "cell_type": "markdown",
   "id": "7f50a7c4",
   "metadata": {
    "papermill": {
     "duration": 0.012567,
     "end_time": "2024-09-03T14:14:35.207183",
     "exception": false,
     "start_time": "2024-09-03T14:14:35.194616",
     "status": "completed"
    },
    "tags": []
   },
   "source": [
    "**Create grid search (w/ ridge) object**"
   ]
  },
  {
   "cell_type": "code",
   "execution_count": 12,
   "id": "630a6284",
   "metadata": {
    "execution": {
     "iopub.execute_input": "2024-09-03T14:14:35.234732Z",
     "iopub.status.busy": "2024-09-03T14:14:35.234122Z",
     "iopub.status.idle": "2024-09-03T14:14:35.241133Z",
     "shell.execute_reply": "2024-09-03T14:14:35.240082Z"
    },
    "papermill": {
     "duration": 0.023401,
     "end_time": "2024-09-03T14:14:35.243411",
     "exception": false,
     "start_time": "2024-09-03T14:14:35.220010",
     "status": "completed"
    },
    "tags": []
   },
   "outputs": [],
   "source": [
    "# hyper-parameter values \n",
    "ridge_params = {'max_iter':[3000], 'alpha':[0.1, 1, 2, 3, 4, 10, 30, 100, 200, 300, 400, 800, 900, 1000]}\n",
    "\n",
    "# calcuate RMSLE\n",
    "rmsle_scorer = metrics.make_scorer(rmsle, greater_is_better=False)\n",
    "# create grid search (w/ ridge) object \n",
    "gridsearch_ridge_model = GridSearchCV(estimator=ridge_model,   # ridge model\n",
    "                                      param_grid=ridge_params, # vals\n",
    "                                      scoring=rmsle_scorer,    # RMSLE for evaluation\n",
    "                                      cv=5)                    # 5-Fold Cross-Validation"
   ]
  },
  {
   "cell_type": "markdown",
   "id": "900ead50",
   "metadata": {
    "papermill": {
     "duration": 0.012821,
     "end_time": "2024-09-03T14:14:35.269327",
     "exception": false,
     "start_time": "2024-09-03T14:14:35.256506",
     "status": "completed"
    },
    "tags": []
   },
   "source": [
    "**Perform grid search**"
   ]
  },
  {
   "cell_type": "code",
   "execution_count": 13,
   "id": "b92021ba",
   "metadata": {
    "execution": {
     "iopub.execute_input": "2024-09-03T14:14:35.297139Z",
     "iopub.status.busy": "2024-09-03T14:14:35.296706Z",
     "iopub.status.idle": "2024-09-03T14:14:38.748054Z",
     "shell.execute_reply": "2024-09-03T14:14:38.746900Z"
    },
    "papermill": {
     "duration": 3.470401,
     "end_time": "2024-09-03T14:14:38.752750",
     "exception": false,
     "start_time": "2024-09-03T14:14:35.282349",
     "status": "completed"
    },
    "tags": []
   },
   "outputs": [
    {
     "data": {
      "text/html": [
       "<style>#sk-container-id-1 {color: black;background-color: white;}#sk-container-id-1 pre{padding: 0;}#sk-container-id-1 div.sk-toggleable {background-color: white;}#sk-container-id-1 label.sk-toggleable__label {cursor: pointer;display: block;width: 100%;margin-bottom: 0;padding: 0.3em;box-sizing: border-box;text-align: center;}#sk-container-id-1 label.sk-toggleable__label-arrow:before {content: \"▸\";float: left;margin-right: 0.25em;color: #696969;}#sk-container-id-1 label.sk-toggleable__label-arrow:hover:before {color: black;}#sk-container-id-1 div.sk-estimator:hover label.sk-toggleable__label-arrow:before {color: black;}#sk-container-id-1 div.sk-toggleable__content {max-height: 0;max-width: 0;overflow: hidden;text-align: left;background-color: #f0f8ff;}#sk-container-id-1 div.sk-toggleable__content pre {margin: 0.2em;color: black;border-radius: 0.25em;background-color: #f0f8ff;}#sk-container-id-1 input.sk-toggleable__control:checked~div.sk-toggleable__content {max-height: 200px;max-width: 100%;overflow: auto;}#sk-container-id-1 input.sk-toggleable__control:checked~label.sk-toggleable__label-arrow:before {content: \"▾\";}#sk-container-id-1 div.sk-estimator input.sk-toggleable__control:checked~label.sk-toggleable__label {background-color: #d4ebff;}#sk-container-id-1 div.sk-label input.sk-toggleable__control:checked~label.sk-toggleable__label {background-color: #d4ebff;}#sk-container-id-1 input.sk-hidden--visually {border: 0;clip: rect(1px 1px 1px 1px);clip: rect(1px, 1px, 1px, 1px);height: 1px;margin: -1px;overflow: hidden;padding: 0;position: absolute;width: 1px;}#sk-container-id-1 div.sk-estimator {font-family: monospace;background-color: #f0f8ff;border: 1px dotted black;border-radius: 0.25em;box-sizing: border-box;margin-bottom: 0.5em;}#sk-container-id-1 div.sk-estimator:hover {background-color: #d4ebff;}#sk-container-id-1 div.sk-parallel-item::after {content: \"\";width: 100%;border-bottom: 1px solid gray;flex-grow: 1;}#sk-container-id-1 div.sk-label:hover label.sk-toggleable__label {background-color: #d4ebff;}#sk-container-id-1 div.sk-serial::before {content: \"\";position: absolute;border-left: 1px solid gray;box-sizing: border-box;top: 0;bottom: 0;left: 50%;z-index: 0;}#sk-container-id-1 div.sk-serial {display: flex;flex-direction: column;align-items: center;background-color: white;padding-right: 0.2em;padding-left: 0.2em;position: relative;}#sk-container-id-1 div.sk-item {position: relative;z-index: 1;}#sk-container-id-1 div.sk-parallel {display: flex;align-items: stretch;justify-content: center;background-color: white;position: relative;}#sk-container-id-1 div.sk-item::before, #sk-container-id-1 div.sk-parallel-item::before {content: \"\";position: absolute;border-left: 1px solid gray;box-sizing: border-box;top: 0;bottom: 0;left: 50%;z-index: -1;}#sk-container-id-1 div.sk-parallel-item {display: flex;flex-direction: column;z-index: 1;position: relative;background-color: white;}#sk-container-id-1 div.sk-parallel-item:first-child::after {align-self: flex-end;width: 50%;}#sk-container-id-1 div.sk-parallel-item:last-child::after {align-self: flex-start;width: 50%;}#sk-container-id-1 div.sk-parallel-item:only-child::after {width: 0;}#sk-container-id-1 div.sk-dashed-wrapped {border: 1px dashed gray;margin: 0 0.4em 0.5em 0.4em;box-sizing: border-box;padding-bottom: 0.4em;background-color: white;}#sk-container-id-1 div.sk-label label {font-family: monospace;font-weight: bold;display: inline-block;line-height: 1.2em;}#sk-container-id-1 div.sk-label-container {text-align: center;}#sk-container-id-1 div.sk-container {/* jupyter's `normalize.less` sets `[hidden] { display: none; }` but bootstrap.min.css set `[hidden] { display: none !important; }` so we also need the `!important` here to be able to override the default hidden behavior on the sphinx rendered scikit-learn.org. See: https://github.com/scikit-learn/scikit-learn/issues/21755 */display: inline-block !important;position: relative;}#sk-container-id-1 div.sk-text-repr-fallback {display: none;}</style><div id=\"sk-container-id-1\" class=\"sk-top-container\"><div class=\"sk-text-repr-fallback\"><pre>GridSearchCV(cv=5, estimator=Ridge(),\n",
       "             param_grid={&#x27;alpha&#x27;: [0.1, 1, 2, 3, 4, 10, 30, 100, 200, 300, 400,\n",
       "                                   800, 900, 1000],\n",
       "                         &#x27;max_iter&#x27;: [3000]},\n",
       "             scoring=make_scorer(rmsle, greater_is_better=False))</pre><b>In a Jupyter environment, please rerun this cell to show the HTML representation or trust the notebook. <br />On GitHub, the HTML representation is unable to render, please try loading this page with nbviewer.org.</b></div><div class=\"sk-container\" hidden><div class=\"sk-item sk-dashed-wrapped\"><div class=\"sk-label-container\"><div class=\"sk-label sk-toggleable\"><input class=\"sk-toggleable__control sk-hidden--visually\" id=\"sk-estimator-id-1\" type=\"checkbox\" ><label for=\"sk-estimator-id-1\" class=\"sk-toggleable__label sk-toggleable__label-arrow\">GridSearchCV</label><div class=\"sk-toggleable__content\"><pre>GridSearchCV(cv=5, estimator=Ridge(),\n",
       "             param_grid={&#x27;alpha&#x27;: [0.1, 1, 2, 3, 4, 10, 30, 100, 200, 300, 400,\n",
       "                                   800, 900, 1000],\n",
       "                         &#x27;max_iter&#x27;: [3000]},\n",
       "             scoring=make_scorer(rmsle, greater_is_better=False))</pre></div></div></div><div class=\"sk-parallel\"><div class=\"sk-parallel-item\"><div class=\"sk-item\"><div class=\"sk-label-container\"><div class=\"sk-label sk-toggleable\"><input class=\"sk-toggleable__control sk-hidden--visually\" id=\"sk-estimator-id-2\" type=\"checkbox\" ><label for=\"sk-estimator-id-2\" class=\"sk-toggleable__label sk-toggleable__label-arrow\">estimator: Ridge</label><div class=\"sk-toggleable__content\"><pre>Ridge()</pre></div></div></div><div class=\"sk-serial\"><div class=\"sk-item\"><div class=\"sk-estimator sk-toggleable\"><input class=\"sk-toggleable__control sk-hidden--visually\" id=\"sk-estimator-id-3\" type=\"checkbox\" ><label for=\"sk-estimator-id-3\" class=\"sk-toggleable__label sk-toggleable__label-arrow\">Ridge</label><div class=\"sk-toggleable__content\"><pre>Ridge()</pre></div></div></div></div></div></div></div></div></div></div>"
      ],
      "text/plain": [
       "GridSearchCV(cv=5, estimator=Ridge(),\n",
       "             param_grid={'alpha': [0.1, 1, 2, 3, 4, 10, 30, 100, 200, 300, 400,\n",
       "                                   800, 900, 1000],\n",
       "                         'max_iter': [3000]},\n",
       "             scoring=make_scorer(rmsle, greater_is_better=False))"
      ]
     },
     "execution_count": 13,
     "metadata": {},
     "output_type": "execute_result"
    }
   ],
   "source": [
    "log_y = np.log(y) # log transformation\n",
    "gridsearch_ridge_model.fit(X_train, log_y) # train(grid search)"
   ]
  },
  {
   "cell_type": "code",
   "execution_count": 14,
   "id": "b2d22eef",
   "metadata": {
    "execution": {
     "iopub.execute_input": "2024-09-03T14:14:38.810488Z",
     "iopub.status.busy": "2024-09-03T14:14:38.809458Z",
     "iopub.status.idle": "2024-09-03T14:14:38.815863Z",
     "shell.execute_reply": "2024-09-03T14:14:38.814559Z"
    },
    "papermill": {
     "duration": 0.036371,
     "end_time": "2024-09-03T14:14:38.820198",
     "exception": false,
     "start_time": "2024-09-03T14:14:38.783827",
     "status": "completed"
    },
    "tags": []
   },
   "outputs": [
    {
     "name": "stdout",
     "output_type": "stream",
     "text": [
      "Optimized hyper parameter : {'alpha': 0.1, 'max_iter': 3000}\n"
     ]
    }
   ],
   "source": [
    "print('Optimized hyper parameter :', gridsearch_ridge_model.best_params_)"
   ]
  },
  {
   "cell_type": "markdown",
   "id": "d2fde202",
   "metadata": {
    "papermill": {
     "duration": 0.012995,
     "end_time": "2024-09-03T14:14:38.846645",
     "exception": false,
     "start_time": "2024-09-03T14:14:38.833650",
     "status": "completed"
    },
    "tags": []
   },
   "source": [
    "**Validate Performance**"
   ]
  },
  {
   "cell_type": "code",
   "execution_count": 15,
   "id": "397ebb96",
   "metadata": {
    "execution": {
     "iopub.execute_input": "2024-09-03T14:14:38.876024Z",
     "iopub.status.busy": "2024-09-03T14:14:38.875015Z",
     "iopub.status.idle": "2024-09-03T14:14:38.906147Z",
     "shell.execute_reply": "2024-09-03T14:14:38.904478Z"
    },
    "papermill": {
     "duration": 0.050627,
     "end_time": "2024-09-03T14:14:38.911031",
     "exception": false,
     "start_time": "2024-09-03T14:14:38.860404",
     "status": "completed"
    },
    "tags": []
   },
   "outputs": [
    {
     "name": "stdout",
     "output_type": "stream",
     "text": [
      "val of ridge regression RMSLE : 1.0205\n"
     ]
    }
   ],
   "source": [
    "# predicate\n",
    "preds = gridsearch_ridge_model.best_estimator_.predict(X_train) \n",
    "\n",
    "# evaluation\n",
    "print(f'val of ridge regression RMSLE : {rmsle(log_y, preds, True):.4f}') "
   ]
  },
  {
   "cell_type": "markdown",
   "id": "69fa2bbb",
   "metadata": {
    "papermill": {
     "duration": 0.026926,
     "end_time": "2024-09-03T14:14:38.966118",
     "exception": false,
     "start_time": "2024-09-03T14:14:38.939192",
     "status": "completed"
    },
    "tags": []
   },
   "source": [
    "## Performance Improvement 2: Lasso Regression Model"
   ]
  },
  {
   "cell_type": "markdown",
   "id": "bc587c16",
   "metadata": {
    "papermill": {
     "duration": 0.025167,
     "end_time": "2024-09-03T14:14:39.019831",
     "exception": false,
     "start_time": "2024-09-03T14:14:38.994664",
     "status": "completed"
    },
    "tags": []
   },
   "source": [
    "**Optimize hyper parameters (training model)**"
   ]
  },
  {
   "cell_type": "code",
   "execution_count": 16,
   "id": "653e5f4a",
   "metadata": {
    "execution": {
     "iopub.execute_input": "2024-09-03T14:14:39.048309Z",
     "iopub.status.busy": "2024-09-03T14:14:39.047912Z",
     "iopub.status.idle": "2024-09-03T14:14:43.964859Z",
     "shell.execute_reply": "2024-09-03T14:14:43.963843Z"
    },
    "papermill": {
     "duration": 4.934901,
     "end_time": "2024-09-03T14:14:43.968176",
     "exception": false,
     "start_time": "2024-09-03T14:14:39.033275",
     "status": "completed"
    },
    "tags": []
   },
   "outputs": [
    {
     "name": "stdout",
     "output_type": "stream",
     "text": [
      "Optimized hyper parameter : {'alpha': 0.00125, 'max_iter': 3000}\n"
     ]
    }
   ],
   "source": [
    "from sklearn.linear_model import Lasso\n",
    "\n",
    "# create lasso model\n",
    "lasso_model = Lasso()\n",
    "# hyper parameter vals\n",
    "lasso_alpha = 1/np.array([0.1, 1, 2, 3, 4, 10, 30, 100, 200, 300, 400, 800, 900, 1000])\n",
    "lasso_params = {'max_iter':[3000], 'alpha':lasso_alpha}\n",
    "# create grid search (w/ lasso) object\n",
    "gridsearch_lasso_model = GridSearchCV(estimator=lasso_model,\n",
    "                                      param_grid=lasso_params,\n",
    "                                      scoring=rmsle_scorer,\n",
    "                                      cv=5)\n",
    "# perform grid search\n",
    "log_y = np.log(y)\n",
    "gridsearch_lasso_model.fit(X_train, log_y)\n",
    "\n",
    "print('Optimized hyper parameter :', gridsearch_lasso_model.best_params_)"
   ]
  },
  {
   "cell_type": "markdown",
   "id": "a8618e49",
   "metadata": {
    "papermill": {
     "duration": 0.018067,
     "end_time": "2024-09-03T14:14:44.005523",
     "exception": false,
     "start_time": "2024-09-03T14:14:43.987456",
     "status": "completed"
    },
    "tags": []
   },
   "source": [
    "## Performance Validation"
   ]
  },
  {
   "cell_type": "code",
   "execution_count": 17,
   "id": "07626e6c",
   "metadata": {
    "execution": {
     "iopub.execute_input": "2024-09-03T14:14:44.044031Z",
     "iopub.status.busy": "2024-09-03T14:14:44.043525Z",
     "iopub.status.idle": "2024-09-03T14:14:44.084298Z",
     "shell.execute_reply": "2024-09-03T14:14:44.082768Z"
    },
    "papermill": {
     "duration": 0.065147,
     "end_time": "2024-09-03T14:14:44.089034",
     "exception": false,
     "start_time": "2024-09-03T14:14:44.023887",
     "status": "completed"
    },
    "tags": []
   },
   "outputs": [
    {
     "name": "stdout",
     "output_type": "stream",
     "text": [
      "val of lasso regression RMSLE : 1.0205\n"
     ]
    }
   ],
   "source": [
    "# predicate\n",
    "preds = gridsearch_lasso_model.best_estimator_.predict(X_train)\n",
    "\n",
    "# evaluation\n",
    "print(f'val of lasso regression RMSLE : {rmsle(log_y, preds, True):.4f}')"
   ]
  },
  {
   "cell_type": "markdown",
   "id": "a0a1b36f",
   "metadata": {
    "papermill": {
     "duration": 0.027593,
     "end_time": "2024-09-03T14:14:44.146080",
     "exception": false,
     "start_time": "2024-09-03T14:14:44.118487",
     "status": "completed"
    },
    "tags": []
   },
   "source": [
    "## Performance Improvement 3: Random Forest Regression Model"
   ]
  },
  {
   "cell_type": "markdown",
   "id": "698b04ba",
   "metadata": {
    "papermill": {
     "duration": 0.023828,
     "end_time": "2024-09-03T14:14:44.198443",
     "exception": false,
     "start_time": "2024-09-03T14:14:44.174615",
     "status": "completed"
    },
    "tags": []
   },
   "source": [
    "**Optimize hyper parameters (training model)**"
   ]
  },
  {
   "cell_type": "code",
   "execution_count": 18,
   "id": "bb80fafe",
   "metadata": {
    "execution": {
     "iopub.execute_input": "2024-09-03T14:14:44.227362Z",
     "iopub.status.busy": "2024-09-03T14:14:44.226635Z",
     "iopub.status.idle": "2024-09-03T14:15:40.189052Z",
     "shell.execute_reply": "2024-09-03T14:15:40.187797Z"
    },
    "papermill": {
     "duration": 55.99217,
     "end_time": "2024-09-03T14:15:40.204125",
     "exception": false,
     "start_time": "2024-09-03T14:14:44.211955",
     "status": "completed"
    },
    "tags": []
   },
   "outputs": [
    {
     "name": "stdout",
     "output_type": "stream",
     "text": [
      "Optimized hyper parameter : {'n_estimators': 140, 'random_state': 42}\n"
     ]
    }
   ],
   "source": [
    "from sklearn.ensemble import RandomForestRegressor\n",
    "\n",
    "# create model\n",
    "randomforest_model = RandomForestRegressor()\n",
    "# create grid search object\n",
    "rf_params = {'random_state':[42], 'n_estimators':[100, 120, 140]}\n",
    "gridsearch_random_forest_model = GridSearchCV(estimator=randomforest_model,\n",
    "                                              param_grid=rf_params,\n",
    "                                              scoring=rmsle_scorer,\n",
    "                                              cv=5)\n",
    "# perform grid search\n",
    "log_y = np.log(y)\n",
    "gridsearch_random_forest_model.fit(X_train, log_y)\n",
    "\n",
    "print('Optimized hyper parameter :', gridsearch_random_forest_model.best_params_)"
   ]
  },
  {
   "cell_type": "markdown",
   "id": "e619e069",
   "metadata": {
    "papermill": {
     "duration": 0.013401,
     "end_time": "2024-09-03T14:15:40.231160",
     "exception": false,
     "start_time": "2024-09-03T14:15:40.217759",
     "status": "completed"
    },
    "tags": []
   },
   "source": [
    "## Performance Validation "
   ]
  },
  {
   "cell_type": "code",
   "execution_count": 19,
   "id": "e5067962",
   "metadata": {
    "execution": {
     "iopub.execute_input": "2024-09-03T14:15:40.260696Z",
     "iopub.status.busy": "2024-09-03T14:15:40.260183Z",
     "iopub.status.idle": "2024-09-03T14:15:40.552209Z",
     "shell.execute_reply": "2024-09-03T14:15:40.550882Z"
    },
    "papermill": {
     "duration": 0.310055,
     "end_time": "2024-09-03T14:15:40.554970",
     "exception": false,
     "start_time": "2024-09-03T14:15:40.244915",
     "status": "completed"
    },
    "tags": []
   },
   "outputs": [
    {
     "name": "stdout",
     "output_type": "stream",
     "text": [
      "val of random forest regression RMSLE : 0.1127\n"
     ]
    }
   ],
   "source": [
    "# predicate\n",
    "preds = gridsearch_random_forest_model.best_estimator_.predict(X_train)\n",
    "\n",
    "# evaluation\n",
    "print(f'val of random forest regression RMSLE : {rmsle(log_y, preds, True):.4f}')"
   ]
  },
  {
   "cell_type": "markdown",
   "id": "7935bd8c",
   "metadata": {
    "papermill": {
     "duration": 0.013648,
     "end_time": "2024-09-03T14:15:40.582518",
     "exception": false,
     "start_time": "2024-09-03T14:15:40.568870",
     "status": "completed"
    },
    "tags": []
   },
   "source": [
    "## Submit result"
   ]
  },
  {
   "cell_type": "code",
   "execution_count": 20,
   "id": "f73e78a0",
   "metadata": {
    "execution": {
     "iopub.execute_input": "2024-09-03T14:15:40.612748Z",
     "iopub.status.busy": "2024-09-03T14:15:40.611882Z",
     "iopub.status.idle": "2024-09-03T14:15:42.093776Z",
     "shell.execute_reply": "2024-09-03T14:15:42.092634Z"
    },
    "papermill": {
     "duration": 1.499863,
     "end_time": "2024-09-03T14:15:42.096199",
     "exception": false,
     "start_time": "2024-09-03T14:15:40.596336",
     "status": "completed"
    },
    "tags": []
   },
   "outputs": [
    {
     "name": "stderr",
     "output_type": "stream",
     "text": [
      "/opt/conda/lib/python3.10/site-packages/seaborn/_oldcore.py:1119: FutureWarning: use_inf_as_na option is deprecated and will be removed in a future version. Convert inf values to NaN before operating instead.\n",
      "  with pd.option_context('mode.use_inf_as_na', True):\n",
      "/opt/conda/lib/python3.10/site-packages/seaborn/_oldcore.py:1119: FutureWarning: use_inf_as_na option is deprecated and will be removed in a future version. Convert inf values to NaN before operating instead.\n",
      "  with pd.option_context('mode.use_inf_as_na', True):\n"
     ]
    },
    {
     "data": {
      "image/png": "[encoded data removed]",
      "text/plain": [
       "<Figure size 1000x400 with 2 Axes>"
      ]
     },
     "metadata": {},
     "output_type": "display_data"
    }
   ],
   "source": [
    "import seaborn as sns\n",
    "import matplotlib.pyplot as plt\n",
    "\n",
    "randomforest_preds = gridsearch_random_forest_model.best_estimator_.predict(X_test)\n",
    "\n",
    "figure, axes = plt.subplots(ncols=2)\n",
    "figure.set_size_inches(10, 4)\n",
    "\n",
    "sns.histplot(y, bins=50, ax=axes[0])\n",
    "axes[0].set_title('Train Data Distribution')\n",
    "sns.histplot(np.exp(randomforest_preds), bins=50, ax=axes[1])\n",
    "axes[1].set_title('Predicted Test Data Distribution');\n"
   ]
  },
  {
   "cell_type": "code",
   "execution_count": 21,
   "id": "ceb09083",
   "metadata": {
    "execution": {
     "iopub.execute_input": "2024-09-03T14:15:42.127279Z",
     "iopub.status.busy": "2024-09-03T14:15:42.126661Z",
     "iopub.status.idle": "2024-09-03T14:15:42.160336Z",
     "shell.execute_reply": "2024-09-03T14:15:42.159178Z"
    },
    "papermill": {
     "duration": 0.052182,
     "end_time": "2024-09-03T14:15:42.163059",
     "exception": false,
     "start_time": "2024-09-03T14:15:42.110877",
     "status": "completed"
    },
    "tags": []
   },
   "outputs": [],
   "source": [
    "submission['count'] = np.exp(randomforest_preds) # log transformation\n",
    "submission.to_csv('submission.csv', index=False)"
   ]
  },
  {
   "cell_type": "code",
   "execution_count": null,
   "id": "a09f82b7",
   "metadata": {
    "papermill": {
     "duration": 0.014173,
     "end_time": "2024-09-03T14:15:42.191617",
     "exception": false,
     "start_time": "2024-09-03T14:15:42.177444",
     "status": "completed"
    },
    "tags": []
   },
   "outputs": [],
   "source": []
  }
 ],
 "metadata": {
  "kaggle": {
   "accelerator": "none",
   "dataSources": [
    {
     "databundleVersionId": 32624,
     "sourceId": 3948,
     "sourceType": "competition"
    }
   ],
   "dockerImageVersionId": 30761,
   "isGpuEnabled": false,
   "isInternetEnabled": true,
   "language": "python",
   "sourceType": "notebook"
  },
  "kernelspec": {
   "display_name": "Python 3",
   "language": "python",
   "name": "python3"
  },
  "language_info": {
   "codemirror_mode": {
    "name": "ipython",
    "version": 3
   },
   "file_extension": ".py",
   "mimetype": "text/x-python",
   "name": "python",
   "nbconvert_exporter": "python",
   "pygments_lexer": "ipython3",
   "version": "3.10.14"
  },
  "papermill": {
   "default_parameters": {},
   "duration": 73.684185,
   "end_time": "2024-09-03T14:15:42.928844",
   "environment_variables": {},
   "exception": null,
   "input_path": "__notebook__.ipynb",
   "output_path": "__notebook__.ipynb",
   "parameters": {},
   "start_time": "2024-09-03T14:14:29.244659",
   "version": "2.6.0"
  }
 },
 "nbformat": 4,
 "nbformat_minor": 5
}
