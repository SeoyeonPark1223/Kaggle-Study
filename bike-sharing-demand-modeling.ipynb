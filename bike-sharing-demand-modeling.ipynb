{
 "cells": [
  {
   "cell_type": "code",
   "execution_count": 1,
   "id": "17f2f17a",
   "metadata": {
    "_cell_guid": "b1076dfc-b9ad-4769-8c92-a6c4dae69d19",
    "_uuid": "8f2839f25d086af736a60e9eeb907d3b93b6e0e5",
    "execution": {
     "iopub.execute_input": "2024-09-04T09:47:41.813948Z",
     "iopub.status.busy": "2024-09-04T09:47:41.812925Z",
     "iopub.status.idle": "2024-09-04T09:47:42.202475Z",
     "shell.execute_reply": "2024-09-04T09:47:42.201014Z"
    },
    "papermill": {
     "duration": 0.402776,
     "end_time": "2024-09-04T09:47:42.204903",
     "exception": false,
     "start_time": "2024-09-04T09:47:41.802127",
     "status": "completed"
    },
    "tags": []
   },
   "outputs": [
    {
     "name": "stdout",
     "output_type": "stream",
     "text": [
      "/kaggle/input/bike-sharing-demand/sampleSubmission.csv\n",
      "/kaggle/input/bike-sharing-demand/train.csv\n",
      "/kaggle/input/bike-sharing-demand/test.csv\n"
     ]
    }
   ],
   "source": [
    "# This Python 3 environment comes with many helpful analytics libraries installed\n",
    "# It is defined by the kaggle/python Docker image: https://github.com/kaggle/docker-python\n",
    "# For example, here's several helpful packages to load\n",
    "\n",
    "import numpy as np # linear algebra\n",
    "import pandas as pd # data processing, CSV file I/O (e.g. pd.read_csv)\n",
    "\n",
    "# Input data files are available in the read-only \"../input/\" directory\n",
    "# For example, running this (by clicking run or pressing Shift+Enter) will list all files under the input directory\n",
    "\n",
    "import os\n",
    "for dirname, _, filenames in os.walk('/kaggle/input'):\n",
    "    for filename in filenames:\n",
    "        print(os.path.join(dirname, filename))\n",
    "\n",
    "# You can write up to 20GB to the current directory (/kaggle/working/) that gets preserved as output when you create a version using \"Save & Run All\" \n",
    "# You can also write temporary files to /kaggle/temp/, but they won't be saved outside of the current session"
   ]
  },
  {
   "cell_type": "code",
   "execution_count": 2,
   "id": "127fb058",
   "metadata": {
    "execution": {
     "iopub.execute_input": "2024-09-04T09:47:42.223997Z",
     "iopub.status.busy": "2024-09-04T09:47:42.223470Z",
     "iopub.status.idle": "2024-09-04T09:47:42.304074Z",
     "shell.execute_reply": "2024-09-04T09:47:42.303005Z"
    },
    "papermill": {
     "duration": 0.09297,
     "end_time": "2024-09-04T09:47:42.306630",
     "exception": false,
     "start_time": "2024-09-04T09:47:42.213660",
     "status": "completed"
    },
    "tags": []
   },
   "outputs": [],
   "source": [
    "data_path = '/kaggle/input/bike-sharing-demand/'\n",
    "\n",
    "train = pd.read_csv(data_path + 'train.csv')\n",
    "test = pd.read_csv(data_path + 'test.csv')\n",
    "submission = pd.read_csv(data_path + 'sampleSubmission.csv')"
   ]
  },
  {
   "cell_type": "markdown",
   "id": "6ace5e2e",
   "metadata": {
    "papermill": {
     "duration": 0.008475,
     "end_time": "2024-09-04T09:47:42.323867",
     "exception": false,
     "start_time": "2024-09-04T09:47:42.315392",
     "status": "completed"
    },
    "tags": []
   },
   "source": [
    "Tutorial Link -> https://www.kaggle.com/code/werooring/ch6-modeling"
   ]
  },
  {
   "cell_type": "markdown",
   "id": "99125826",
   "metadata": {
    "papermill": {
     "duration": 0.008338,
     "end_time": "2024-09-04T09:47:42.340932",
     "exception": false,
     "start_time": "2024-09-04T09:47:42.332594",
     "status": "completed"
    },
    "tags": []
   },
   "source": [
    "## Feature Engineering"
   ]
  },
  {
   "cell_type": "markdown",
   "id": "9b700172",
   "metadata": {
    "papermill": {
     "duration": 0.008334,
     "end_time": "2024-09-04T09:47:42.358023",
     "exception": false,
     "start_time": "2024-09-04T09:47:42.349689",
     "status": "completed"
    },
    "tags": []
   },
   "source": [
    "**Outlier Removal**"
   ]
  },
  {
   "cell_type": "code",
   "execution_count": 3,
   "id": "ba6fa0ba",
   "metadata": {
    "execution": {
     "iopub.execute_input": "2024-09-04T09:47:42.377516Z",
     "iopub.status.busy": "2024-09-04T09:47:42.376853Z",
     "iopub.status.idle": "2024-09-04T09:47:42.394978Z",
     "shell.execute_reply": "2024-09-04T09:47:42.393816Z"
    },
    "papermill": {
     "duration": 0.030328,
     "end_time": "2024-09-04T09:47:42.397298",
     "exception": false,
     "start_time": "2024-09-04T09:47:42.366970",
     "status": "completed"
    },
    "tags": []
   },
   "outputs": [],
   "source": [
    "# Extract data if weather != 4 from training data\n",
    "train = train[train['weather'] != 4]"
   ]
  },
  {
   "cell_type": "markdown",
   "id": "c48ab578",
   "metadata": {
    "papermill": {
     "duration": 0.008665,
     "end_time": "2024-09-04T09:47:42.415513",
     "exception": false,
     "start_time": "2024-09-04T09:47:42.406848",
     "status": "completed"
    },
    "tags": []
   },
   "source": [
    "**Combine Data**"
   ]
  },
  {
   "cell_type": "code",
   "execution_count": 4,
   "id": "e6323ddb",
   "metadata": {
    "execution": {
     "iopub.execute_input": "2024-09-04T09:47:42.434058Z",
     "iopub.status.busy": "2024-09-04T09:47:42.433637Z",
     "iopub.status.idle": "2024-09-04T09:47:42.464128Z",
     "shell.execute_reply": "2024-09-04T09:47:42.463074Z"
    },
    "papermill": {
     "duration": 0.042467,
     "end_time": "2024-09-04T09:47:42.466402",
     "exception": false,
     "start_time": "2024-09-04T09:47:42.423935",
     "status": "completed"
    },
    "tags": []
   },
   "outputs": [
    {
     "data": {
      "text/html": [
       "<div>\n",
       "<style scoped>\n",
       "    .dataframe tbody tr th:only-of-type {\n",
       "        vertical-align: middle;\n",
       "    }\n",
       "\n",
       "    .dataframe tbody tr th {\n",
       "        vertical-align: top;\n",
       "    }\n",
       "\n",
       "    .dataframe thead th {\n",
       "        text-align: right;\n",
       "    }\n",
       "</style>\n",
       "<table border=\"1\" class=\"dataframe\">\n",
       "  <thead>\n",
       "    <tr style=\"text-align: right;\">\n",
       "      <th></th>\n",
       "      <th>datetime</th>\n",
       "      <th>season</th>\n",
       "      <th>holiday</th>\n",
       "      <th>workingday</th>\n",
       "      <th>weather</th>\n",
       "      <th>temp</th>\n",
       "      <th>atemp</th>\n",
       "      <th>humidity</th>\n",
       "      <th>windspeed</th>\n",
       "      <th>casual</th>\n",
       "      <th>registered</th>\n",
       "      <th>count</th>\n",
       "    </tr>\n",
       "  </thead>\n",
       "  <tbody>\n",
       "    <tr>\n",
       "      <th>0</th>\n",
       "      <td>2011-01-01 00:00:00</td>\n",
       "      <td>1</td>\n",
       "      <td>0</td>\n",
       "      <td>0</td>\n",
       "      <td>1</td>\n",
       "      <td>9.84</td>\n",
       "      <td>14.395</td>\n",
       "      <td>81</td>\n",
       "      <td>0.0000</td>\n",
       "      <td>3.0</td>\n",
       "      <td>13.0</td>\n",
       "      <td>16.0</td>\n",
       "    </tr>\n",
       "    <tr>\n",
       "      <th>1</th>\n",
       "      <td>2011-01-01 01:00:00</td>\n",
       "      <td>1</td>\n",
       "      <td>0</td>\n",
       "      <td>0</td>\n",
       "      <td>1</td>\n",
       "      <td>9.02</td>\n",
       "      <td>13.635</td>\n",
       "      <td>80</td>\n",
       "      <td>0.0000</td>\n",
       "      <td>8.0</td>\n",
       "      <td>32.0</td>\n",
       "      <td>40.0</td>\n",
       "    </tr>\n",
       "    <tr>\n",
       "      <th>2</th>\n",
       "      <td>2011-01-01 02:00:00</td>\n",
       "      <td>1</td>\n",
       "      <td>0</td>\n",
       "      <td>0</td>\n",
       "      <td>1</td>\n",
       "      <td>9.02</td>\n",
       "      <td>13.635</td>\n",
       "      <td>80</td>\n",
       "      <td>0.0000</td>\n",
       "      <td>5.0</td>\n",
       "      <td>27.0</td>\n",
       "      <td>32.0</td>\n",
       "    </tr>\n",
       "    <tr>\n",
       "      <th>3</th>\n",
       "      <td>2011-01-01 03:00:00</td>\n",
       "      <td>1</td>\n",
       "      <td>0</td>\n",
       "      <td>0</td>\n",
       "      <td>1</td>\n",
       "      <td>9.84</td>\n",
       "      <td>14.395</td>\n",
       "      <td>75</td>\n",
       "      <td>0.0000</td>\n",
       "      <td>3.0</td>\n",
       "      <td>10.0</td>\n",
       "      <td>13.0</td>\n",
       "    </tr>\n",
       "    <tr>\n",
       "      <th>4</th>\n",
       "      <td>2011-01-01 04:00:00</td>\n",
       "      <td>1</td>\n",
       "      <td>0</td>\n",
       "      <td>0</td>\n",
       "      <td>1</td>\n",
       "      <td>9.84</td>\n",
       "      <td>14.395</td>\n",
       "      <td>75</td>\n",
       "      <td>0.0000</td>\n",
       "      <td>0.0</td>\n",
       "      <td>1.0</td>\n",
       "      <td>1.0</td>\n",
       "    </tr>\n",
       "    <tr>\n",
       "      <th>...</th>\n",
       "      <td>...</td>\n",
       "      <td>...</td>\n",
       "      <td>...</td>\n",
       "      <td>...</td>\n",
       "      <td>...</td>\n",
       "      <td>...</td>\n",
       "      <td>...</td>\n",
       "      <td>...</td>\n",
       "      <td>...</td>\n",
       "      <td>...</td>\n",
       "      <td>...</td>\n",
       "      <td>...</td>\n",
       "    </tr>\n",
       "    <tr>\n",
       "      <th>6488</th>\n",
       "      <td>2012-12-31 19:00:00</td>\n",
       "      <td>1</td>\n",
       "      <td>0</td>\n",
       "      <td>1</td>\n",
       "      <td>2</td>\n",
       "      <td>10.66</td>\n",
       "      <td>12.880</td>\n",
       "      <td>60</td>\n",
       "      <td>11.0014</td>\n",
       "      <td>NaN</td>\n",
       "      <td>NaN</td>\n",
       "      <td>NaN</td>\n",
       "    </tr>\n",
       "    <tr>\n",
       "      <th>6489</th>\n",
       "      <td>2012-12-31 20:00:00</td>\n",
       "      <td>1</td>\n",
       "      <td>0</td>\n",
       "      <td>1</td>\n",
       "      <td>2</td>\n",
       "      <td>10.66</td>\n",
       "      <td>12.880</td>\n",
       "      <td>60</td>\n",
       "      <td>11.0014</td>\n",
       "      <td>NaN</td>\n",
       "      <td>NaN</td>\n",
       "      <td>NaN</td>\n",
       "    </tr>\n",
       "    <tr>\n",
       "      <th>6490</th>\n",
       "      <td>2012-12-31 21:00:00</td>\n",
       "      <td>1</td>\n",
       "      <td>0</td>\n",
       "      <td>1</td>\n",
       "      <td>1</td>\n",
       "      <td>10.66</td>\n",
       "      <td>12.880</td>\n",
       "      <td>60</td>\n",
       "      <td>11.0014</td>\n",
       "      <td>NaN</td>\n",
       "      <td>NaN</td>\n",
       "      <td>NaN</td>\n",
       "    </tr>\n",
       "    <tr>\n",
       "      <th>6491</th>\n",
       "      <td>2012-12-31 22:00:00</td>\n",
       "      <td>1</td>\n",
       "      <td>0</td>\n",
       "      <td>1</td>\n",
       "      <td>1</td>\n",
       "      <td>10.66</td>\n",
       "      <td>13.635</td>\n",
       "      <td>56</td>\n",
       "      <td>8.9981</td>\n",
       "      <td>NaN</td>\n",
       "      <td>NaN</td>\n",
       "      <td>NaN</td>\n",
       "    </tr>\n",
       "    <tr>\n",
       "      <th>6492</th>\n",
       "      <td>2012-12-31 23:00:00</td>\n",
       "      <td>1</td>\n",
       "      <td>0</td>\n",
       "      <td>1</td>\n",
       "      <td>1</td>\n",
       "      <td>10.66</td>\n",
       "      <td>13.635</td>\n",
       "      <td>65</td>\n",
       "      <td>8.9981</td>\n",
       "      <td>NaN</td>\n",
       "      <td>NaN</td>\n",
       "      <td>NaN</td>\n",
       "    </tr>\n",
       "  </tbody>\n",
       "</table>\n",
       "<p>17378 rows × 12 columns</p>\n",
       "</div>"
      ],
      "text/plain": [
       "                 datetime  season  holiday  workingday  weather   temp  \\\n",
       "0     2011-01-01 00:00:00       1        0           0        1   9.84   \n",
       "1     2011-01-01 01:00:00       1        0           0        1   9.02   \n",
       "2     2011-01-01 02:00:00       1        0           0        1   9.02   \n",
       "3     2011-01-01 03:00:00       1        0           0        1   9.84   \n",
       "4     2011-01-01 04:00:00       1        0           0        1   9.84   \n",
       "...                   ...     ...      ...         ...      ...    ...   \n",
       "6488  2012-12-31 19:00:00       1        0           1        2  10.66   \n",
       "6489  2012-12-31 20:00:00       1        0           1        2  10.66   \n",
       "6490  2012-12-31 21:00:00       1        0           1        1  10.66   \n",
       "6491  2012-12-31 22:00:00       1        0           1        1  10.66   \n",
       "6492  2012-12-31 23:00:00       1        0           1        1  10.66   \n",
       "\n",
       "       atemp  humidity  windspeed  casual  registered  count  \n",
       "0     14.395        81     0.0000     3.0        13.0   16.0  \n",
       "1     13.635        80     0.0000     8.0        32.0   40.0  \n",
       "2     13.635        80     0.0000     5.0        27.0   32.0  \n",
       "3     14.395        75     0.0000     3.0        10.0   13.0  \n",
       "4     14.395        75     0.0000     0.0         1.0    1.0  \n",
       "...      ...       ...        ...     ...         ...    ...  \n",
       "6488  12.880        60    11.0014     NaN         NaN    NaN  \n",
       "6489  12.880        60    11.0014     NaN         NaN    NaN  \n",
       "6490  12.880        60    11.0014     NaN         NaN    NaN  \n",
       "6491  13.635        56     8.9981     NaN         NaN    NaN  \n",
       "6492  13.635        65     8.9981     NaN         NaN    NaN  \n",
       "\n",
       "[17378 rows x 12 columns]"
      ]
     },
     "execution_count": 4,
     "metadata": {},
     "output_type": "execute_result"
    }
   ],
   "source": [
    "all_data_temp = pd.concat([train, test])\n",
    "all_data_temp"
   ]
  },
  {
   "cell_type": "code",
   "execution_count": 5,
   "id": "cce86987",
   "metadata": {
    "execution": {
     "iopub.execute_input": "2024-09-04T09:47:42.485903Z",
     "iopub.status.busy": "2024-09-04T09:47:42.485134Z",
     "iopub.status.idle": "2024-09-04T09:47:42.507526Z",
     "shell.execute_reply": "2024-09-04T09:47:42.506427Z"
    },
    "papermill": {
     "duration": 0.034583,
     "end_time": "2024-09-04T09:47:42.509814",
     "exception": false,
     "start_time": "2024-09-04T09:47:42.475231",
     "status": "completed"
    },
    "tags": []
   },
   "outputs": [
    {
     "data": {
      "text/html": [
       "<div>\n",
       "<style scoped>\n",
       "    .dataframe tbody tr th:only-of-type {\n",
       "        vertical-align: middle;\n",
       "    }\n",
       "\n",
       "    .dataframe tbody tr th {\n",
       "        vertical-align: top;\n",
       "    }\n",
       "\n",
       "    .dataframe thead th {\n",
       "        text-align: right;\n",
       "    }\n",
       "</style>\n",
       "<table border=\"1\" class=\"dataframe\">\n",
       "  <thead>\n",
       "    <tr style=\"text-align: right;\">\n",
       "      <th></th>\n",
       "      <th>datetime</th>\n",
       "      <th>season</th>\n",
       "      <th>holiday</th>\n",
       "      <th>workingday</th>\n",
       "      <th>weather</th>\n",
       "      <th>temp</th>\n",
       "      <th>atemp</th>\n",
       "      <th>humidity</th>\n",
       "      <th>windspeed</th>\n",
       "      <th>casual</th>\n",
       "      <th>registered</th>\n",
       "      <th>count</th>\n",
       "    </tr>\n",
       "  </thead>\n",
       "  <tbody>\n",
       "    <tr>\n",
       "      <th>0</th>\n",
       "      <td>2011-01-01 00:00:00</td>\n",
       "      <td>1</td>\n",
       "      <td>0</td>\n",
       "      <td>0</td>\n",
       "      <td>1</td>\n",
       "      <td>9.84</td>\n",
       "      <td>14.395</td>\n",
       "      <td>81</td>\n",
       "      <td>0.0000</td>\n",
       "      <td>3.0</td>\n",
       "      <td>13.0</td>\n",
       "      <td>16.0</td>\n",
       "    </tr>\n",
       "    <tr>\n",
       "      <th>1</th>\n",
       "      <td>2011-01-01 01:00:00</td>\n",
       "      <td>1</td>\n",
       "      <td>0</td>\n",
       "      <td>0</td>\n",
       "      <td>1</td>\n",
       "      <td>9.02</td>\n",
       "      <td>13.635</td>\n",
       "      <td>80</td>\n",
       "      <td>0.0000</td>\n",
       "      <td>8.0</td>\n",
       "      <td>32.0</td>\n",
       "      <td>40.0</td>\n",
       "    </tr>\n",
       "    <tr>\n",
       "      <th>2</th>\n",
       "      <td>2011-01-01 02:00:00</td>\n",
       "      <td>1</td>\n",
       "      <td>0</td>\n",
       "      <td>0</td>\n",
       "      <td>1</td>\n",
       "      <td>9.02</td>\n",
       "      <td>13.635</td>\n",
       "      <td>80</td>\n",
       "      <td>0.0000</td>\n",
       "      <td>5.0</td>\n",
       "      <td>27.0</td>\n",
       "      <td>32.0</td>\n",
       "    </tr>\n",
       "    <tr>\n",
       "      <th>3</th>\n",
       "      <td>2011-01-01 03:00:00</td>\n",
       "      <td>1</td>\n",
       "      <td>0</td>\n",
       "      <td>0</td>\n",
       "      <td>1</td>\n",
       "      <td>9.84</td>\n",
       "      <td>14.395</td>\n",
       "      <td>75</td>\n",
       "      <td>0.0000</td>\n",
       "      <td>3.0</td>\n",
       "      <td>10.0</td>\n",
       "      <td>13.0</td>\n",
       "    </tr>\n",
       "    <tr>\n",
       "      <th>4</th>\n",
       "      <td>2011-01-01 04:00:00</td>\n",
       "      <td>1</td>\n",
       "      <td>0</td>\n",
       "      <td>0</td>\n",
       "      <td>1</td>\n",
       "      <td>9.84</td>\n",
       "      <td>14.395</td>\n",
       "      <td>75</td>\n",
       "      <td>0.0000</td>\n",
       "      <td>0.0</td>\n",
       "      <td>1.0</td>\n",
       "      <td>1.0</td>\n",
       "    </tr>\n",
       "    <tr>\n",
       "      <th>...</th>\n",
       "      <td>...</td>\n",
       "      <td>...</td>\n",
       "      <td>...</td>\n",
       "      <td>...</td>\n",
       "      <td>...</td>\n",
       "      <td>...</td>\n",
       "      <td>...</td>\n",
       "      <td>...</td>\n",
       "      <td>...</td>\n",
       "      <td>...</td>\n",
       "      <td>...</td>\n",
       "      <td>...</td>\n",
       "    </tr>\n",
       "    <tr>\n",
       "      <th>17373</th>\n",
       "      <td>2012-12-31 19:00:00</td>\n",
       "      <td>1</td>\n",
       "      <td>0</td>\n",
       "      <td>1</td>\n",
       "      <td>2</td>\n",
       "      <td>10.66</td>\n",
       "      <td>12.880</td>\n",
       "      <td>60</td>\n",
       "      <td>11.0014</td>\n",
       "      <td>NaN</td>\n",
       "      <td>NaN</td>\n",
       "      <td>NaN</td>\n",
       "    </tr>\n",
       "    <tr>\n",
       "      <th>17374</th>\n",
       "      <td>2012-12-31 20:00:00</td>\n",
       "      <td>1</td>\n",
       "      <td>0</td>\n",
       "      <td>1</td>\n",
       "      <td>2</td>\n",
       "      <td>10.66</td>\n",
       "      <td>12.880</td>\n",
       "      <td>60</td>\n",
       "      <td>11.0014</td>\n",
       "      <td>NaN</td>\n",
       "      <td>NaN</td>\n",
       "      <td>NaN</td>\n",
       "    </tr>\n",
       "    <tr>\n",
       "      <th>17375</th>\n",
       "      <td>2012-12-31 21:00:00</td>\n",
       "      <td>1</td>\n",
       "      <td>0</td>\n",
       "      <td>1</td>\n",
       "      <td>1</td>\n",
       "      <td>10.66</td>\n",
       "      <td>12.880</td>\n",
       "      <td>60</td>\n",
       "      <td>11.0014</td>\n",
       "      <td>NaN</td>\n",
       "      <td>NaN</td>\n",
       "      <td>NaN</td>\n",
       "    </tr>\n",
       "    <tr>\n",
       "      <th>17376</th>\n",
       "      <td>2012-12-31 22:00:00</td>\n",
       "      <td>1</td>\n",
       "      <td>0</td>\n",
       "      <td>1</td>\n",
       "      <td>1</td>\n",
       "      <td>10.66</td>\n",
       "      <td>13.635</td>\n",
       "      <td>56</td>\n",
       "      <td>8.9981</td>\n",
       "      <td>NaN</td>\n",
       "      <td>NaN</td>\n",
       "      <td>NaN</td>\n",
       "    </tr>\n",
       "    <tr>\n",
       "      <th>17377</th>\n",
       "      <td>2012-12-31 23:00:00</td>\n",
       "      <td>1</td>\n",
       "      <td>0</td>\n",
       "      <td>1</td>\n",
       "      <td>1</td>\n",
       "      <td>10.66</td>\n",
       "      <td>13.635</td>\n",
       "      <td>65</td>\n",
       "      <td>8.9981</td>\n",
       "      <td>NaN</td>\n",
       "      <td>NaN</td>\n",
       "      <td>NaN</td>\n",
       "    </tr>\n",
       "  </tbody>\n",
       "</table>\n",
       "<p>17378 rows × 12 columns</p>\n",
       "</div>"
      ],
      "text/plain": [
       "                  datetime  season  holiday  workingday  weather   temp  \\\n",
       "0      2011-01-01 00:00:00       1        0           0        1   9.84   \n",
       "1      2011-01-01 01:00:00       1        0           0        1   9.02   \n",
       "2      2011-01-01 02:00:00       1        0           0        1   9.02   \n",
       "3      2011-01-01 03:00:00       1        0           0        1   9.84   \n",
       "4      2011-01-01 04:00:00       1        0           0        1   9.84   \n",
       "...                    ...     ...      ...         ...      ...    ...   \n",
       "17373  2012-12-31 19:00:00       1        0           1        2  10.66   \n",
       "17374  2012-12-31 20:00:00       1        0           1        2  10.66   \n",
       "17375  2012-12-31 21:00:00       1        0           1        1  10.66   \n",
       "17376  2012-12-31 22:00:00       1        0           1        1  10.66   \n",
       "17377  2012-12-31 23:00:00       1        0           1        1  10.66   \n",
       "\n",
       "        atemp  humidity  windspeed  casual  registered  count  \n",
       "0      14.395        81     0.0000     3.0        13.0   16.0  \n",
       "1      13.635        80     0.0000     8.0        32.0   40.0  \n",
       "2      13.635        80     0.0000     5.0        27.0   32.0  \n",
       "3      14.395        75     0.0000     3.0        10.0   13.0  \n",
       "4      14.395        75     0.0000     0.0         1.0    1.0  \n",
       "...       ...       ...        ...     ...         ...    ...  \n",
       "17373  12.880        60    11.0014     NaN         NaN    NaN  \n",
       "17374  12.880        60    11.0014     NaN         NaN    NaN  \n",
       "17375  12.880        60    11.0014     NaN         NaN    NaN  \n",
       "17376  13.635        56     8.9981     NaN         NaN    NaN  \n",
       "17377  13.635        65     8.9981     NaN         NaN    NaN  \n",
       "\n",
       "[17378 rows x 12 columns]"
      ]
     },
     "execution_count": 5,
     "metadata": {},
     "output_type": "execute_result"
    }
   ],
   "source": [
    "all_data = pd.concat([train, test], ignore_index = True)\n",
    "all_data"
   ]
  },
  {
   "cell_type": "markdown",
   "id": "61946d2b",
   "metadata": {
    "papermill": {
     "duration": 0.008872,
     "end_time": "2024-09-04T09:47:42.528140",
     "exception": false,
     "start_time": "2024-09-04T09:47:42.519268",
     "status": "completed"
    },
    "tags": []
   },
   "source": [
    "**Add sub features**"
   ]
  },
  {
   "cell_type": "code",
   "execution_count": 6,
   "id": "3ec4ce82",
   "metadata": {
    "execution": {
     "iopub.execute_input": "2024-09-04T09:47:42.548309Z",
     "iopub.status.busy": "2024-09-04T09:47:42.547909Z",
     "iopub.status.idle": "2024-09-04T09:47:42.743656Z",
     "shell.execute_reply": "2024-09-04T09:47:42.742695Z"
    },
    "papermill": {
     "duration": 0.209008,
     "end_time": "2024-09-04T09:47:42.746188",
     "exception": false,
     "start_time": "2024-09-04T09:47:42.537180",
     "status": "completed"
    },
    "tags": []
   },
   "outputs": [],
   "source": [
    "from datetime import datetime\n",
    "\n",
    "# date feature\n",
    "all_data['date'] = all_data['datetime'].apply(lambda x: x.split()[0])\n",
    "# year feature\n",
    "all_data['year'] = all_data['datetime'].apply(lambda x: x.split()[0].split(\"-\")[0])\n",
    "# month feature\n",
    "all_data['month'] = all_data['datetime'].apply(lambda x: x.split()[0].split('-')[1])\n",
    "# hour feature \n",
    "all_data['hour'] = all_data['datetime'].apply(lambda x: x.split()[1].split(':')[0])\n",
    "# weekday feature\n",
    "all_data[\"weekday\"] = all_data['date'].apply(lambda dateString : datetime.strptime(dateString,\"%Y-%m-%d\").weekday())\n"
   ]
  },
  {
   "cell_type": "markdown",
   "id": "6b2ca630",
   "metadata": {
    "papermill": {
     "duration": 0.008752,
     "end_time": "2024-09-04T09:47:42.764212",
     "exception": false,
     "start_time": "2024-09-04T09:47:42.755460",
     "status": "completed"
    },
    "tags": []
   },
   "source": [
    "**Delete unnecessary features**"
   ]
  },
  {
   "cell_type": "code",
   "execution_count": 7,
   "id": "2d40888b",
   "metadata": {
    "execution": {
     "iopub.execute_input": "2024-09-04T09:47:42.783890Z",
     "iopub.status.busy": "2024-09-04T09:47:42.783488Z",
     "iopub.status.idle": "2024-09-04T09:47:42.791395Z",
     "shell.execute_reply": "2024-09-04T09:47:42.790359Z"
    },
    "papermill": {
     "duration": 0.020395,
     "end_time": "2024-09-04T09:47:42.793664",
     "exception": false,
     "start_time": "2024-09-04T09:47:42.773269",
     "status": "completed"
    },
    "tags": []
   },
   "outputs": [],
   "source": [
    "drop_features = ['casual', 'registered', 'datetime', 'date', 'month', 'windspeed']\n",
    "\n",
    "all_data = all_data.drop(drop_features, axis=1)"
   ]
  },
  {
   "cell_type": "markdown",
   "id": "75b30b5f",
   "metadata": {
    "papermill": {
     "duration": 0.008868,
     "end_time": "2024-09-04T09:47:42.811858",
     "exception": false,
     "start_time": "2024-09-04T09:47:42.802990",
     "status": "completed"
    },
    "tags": []
   },
   "source": [
    "**Split Data**"
   ]
  },
  {
   "cell_type": "code",
   "execution_count": 8,
   "id": "17f528e6",
   "metadata": {
    "execution": {
     "iopub.execute_input": "2024-09-04T09:47:42.832158Z",
     "iopub.status.busy": "2024-09-04T09:47:42.831756Z",
     "iopub.status.idle": "2024-09-04T09:47:42.844955Z",
     "shell.execute_reply": "2024-09-04T09:47:42.843935Z"
    },
    "papermill": {
     "duration": 0.02632,
     "end_time": "2024-09-04T09:47:42.847328",
     "exception": false,
     "start_time": "2024-09-04T09:47:42.821008",
     "status": "completed"
    },
    "tags": []
   },
   "outputs": [],
   "source": [
    "# split training and test data\n",
    "X_train = all_data[~pd.isnull(all_data['count'])]\n",
    "X_test = all_data[pd.isnull(all_data['count'])]\n",
    "\n",
    "# remove target value's 'count' feature\n",
    "X_train = X_train.drop(['count'], axis=1)\n",
    "X_test = X_test.drop(['count'], axis=1)\n",
    "\n",
    "y = train['count'] #target val"
   ]
  },
  {
   "cell_type": "code",
   "execution_count": 9,
   "id": "609a018c",
   "metadata": {
    "execution": {
     "iopub.execute_input": "2024-09-04T09:47:42.867620Z",
     "iopub.status.busy": "2024-09-04T09:47:42.867184Z",
     "iopub.status.idle": "2024-09-04T09:47:42.881686Z",
     "shell.execute_reply": "2024-09-04T09:47:42.880445Z"
    },
    "papermill": {
     "duration": 0.027184,
     "end_time": "2024-09-04T09:47:42.883902",
     "exception": false,
     "start_time": "2024-09-04T09:47:42.856718",
     "status": "completed"
    },
    "tags": []
   },
   "outputs": [
    {
     "data": {
      "text/html": [
       "<div>\n",
       "<style scoped>\n",
       "    .dataframe tbody tr th:only-of-type {\n",
       "        vertical-align: middle;\n",
       "    }\n",
       "\n",
       "    .dataframe tbody tr th {\n",
       "        vertical-align: top;\n",
       "    }\n",
       "\n",
       "    .dataframe thead th {\n",
       "        text-align: right;\n",
       "    }\n",
       "</style>\n",
       "<table border=\"1\" class=\"dataframe\">\n",
       "  <thead>\n",
       "    <tr style=\"text-align: right;\">\n",
       "      <th></th>\n",
       "      <th>season</th>\n",
       "      <th>holiday</th>\n",
       "      <th>workingday</th>\n",
       "      <th>weather</th>\n",
       "      <th>temp</th>\n",
       "      <th>atemp</th>\n",
       "      <th>humidity</th>\n",
       "      <th>year</th>\n",
       "      <th>hour</th>\n",
       "      <th>weekday</th>\n",
       "    </tr>\n",
       "  </thead>\n",
       "  <tbody>\n",
       "    <tr>\n",
       "      <th>0</th>\n",
       "      <td>1</td>\n",
       "      <td>0</td>\n",
       "      <td>0</td>\n",
       "      <td>1</td>\n",
       "      <td>9.84</td>\n",
       "      <td>14.395</td>\n",
       "      <td>81</td>\n",
       "      <td>2011</td>\n",
       "      <td>00</td>\n",
       "      <td>5</td>\n",
       "    </tr>\n",
       "    <tr>\n",
       "      <th>1</th>\n",
       "      <td>1</td>\n",
       "      <td>0</td>\n",
       "      <td>0</td>\n",
       "      <td>1</td>\n",
       "      <td>9.02</td>\n",
       "      <td>13.635</td>\n",
       "      <td>80</td>\n",
       "      <td>2011</td>\n",
       "      <td>01</td>\n",
       "      <td>5</td>\n",
       "    </tr>\n",
       "    <tr>\n",
       "      <th>2</th>\n",
       "      <td>1</td>\n",
       "      <td>0</td>\n",
       "      <td>0</td>\n",
       "      <td>1</td>\n",
       "      <td>9.02</td>\n",
       "      <td>13.635</td>\n",
       "      <td>80</td>\n",
       "      <td>2011</td>\n",
       "      <td>02</td>\n",
       "      <td>5</td>\n",
       "    </tr>\n",
       "    <tr>\n",
       "      <th>3</th>\n",
       "      <td>1</td>\n",
       "      <td>0</td>\n",
       "      <td>0</td>\n",
       "      <td>1</td>\n",
       "      <td>9.84</td>\n",
       "      <td>14.395</td>\n",
       "      <td>75</td>\n",
       "      <td>2011</td>\n",
       "      <td>03</td>\n",
       "      <td>5</td>\n",
       "    </tr>\n",
       "    <tr>\n",
       "      <th>4</th>\n",
       "      <td>1</td>\n",
       "      <td>0</td>\n",
       "      <td>0</td>\n",
       "      <td>1</td>\n",
       "      <td>9.84</td>\n",
       "      <td>14.395</td>\n",
       "      <td>75</td>\n",
       "      <td>2011</td>\n",
       "      <td>04</td>\n",
       "      <td>5</td>\n",
       "    </tr>\n",
       "  </tbody>\n",
       "</table>\n",
       "</div>"
      ],
      "text/plain": [
       "   season  holiday  workingday  weather  temp   atemp  humidity  year hour  \\\n",
       "0       1        0           0        1  9.84  14.395        81  2011   00   \n",
       "1       1        0           0        1  9.02  13.635        80  2011   01   \n",
       "2       1        0           0        1  9.02  13.635        80  2011   02   \n",
       "3       1        0           0        1  9.84  14.395        75  2011   03   \n",
       "4       1        0           0        1  9.84  14.395        75  2011   04   \n",
       "\n",
       "   weekday  \n",
       "0        5  \n",
       "1        5  \n",
       "2        5  \n",
       "3        5  \n",
       "4        5  "
      ]
     },
     "execution_count": 9,
     "metadata": {},
     "output_type": "execute_result"
    }
   ],
   "source": [
    "X_train.head()"
   ]
  },
  {
   "cell_type": "markdown",
   "id": "e2b55427",
   "metadata": {
    "papermill": {
     "duration": 0.009049,
     "end_time": "2024-09-04T09:47:42.902696",
     "exception": false,
     "start_time": "2024-09-04T09:47:42.893647",
     "status": "completed"
    },
    "tags": []
   },
   "source": [
    "## Write function to calculate evaluation metrics"
   ]
  },
  {
   "cell_type": "code",
   "execution_count": 10,
   "id": "2d2f0ab8",
   "metadata": {
    "execution": {
     "iopub.execute_input": "2024-09-04T09:47:42.923610Z",
     "iopub.status.busy": "2024-09-04T09:47:42.922729Z",
     "iopub.status.idle": "2024-09-04T09:47:42.929291Z",
     "shell.execute_reply": "2024-09-04T09:47:42.928125Z"
    },
    "papermill": {
     "duration": 0.019145,
     "end_time": "2024-09-04T09:47:42.931317",
     "exception": false,
     "start_time": "2024-09-04T09:47:42.912172",
     "status": "completed"
    },
    "tags": []
   },
   "outputs": [],
   "source": [
    "import numpy as np\n",
    "\n",
    "def rmsle(y_true, y_pred, convertExp=True):\n",
    "    # convert exponent\n",
    "    if convertExp:\n",
    "        y_true = np.exp(y_true)\n",
    "        y_pred = np.exp(y_pred)\n",
    "        \n",
    "    # transit pred to 0 after transition to log\n",
    "    log_true = np.nan_to_num(np.log(y_true+1))\n",
    "    log_pred = np.nan_to_num(np.log(y_pred+1))\n",
    "    \n",
    "    # calcuate RMSLE\n",
    "    output = np.sqrt(np.mean((log_true - log_pred)**2))\n",
    "    return output"
   ]
  },
  {
   "cell_type": "markdown",
   "id": "60b4bbb5",
   "metadata": {
    "papermill": {
     "duration": 0.008954,
     "end_time": "2024-09-04T09:47:42.949606",
     "exception": false,
     "start_time": "2024-09-04T09:47:42.940652",
     "status": "completed"
    },
    "tags": []
   },
   "source": [
    "## Performance Improvement 1: Ridge Regression Model"
   ]
  },
  {
   "cell_type": "markdown",
   "id": "3b947685",
   "metadata": {
    "papermill": {
     "duration": 0.008851,
     "end_time": "2024-09-04T09:47:42.967773",
     "exception": false,
     "start_time": "2024-09-04T09:47:42.958922",
     "status": "completed"
    },
    "tags": []
   },
   "source": [
    "**Optimize hyper parameters (training model)**"
   ]
  },
  {
   "cell_type": "code",
   "execution_count": 11,
   "id": "bae04b97",
   "metadata": {
    "execution": {
     "iopub.execute_input": "2024-09-04T09:47:42.988099Z",
     "iopub.status.busy": "2024-09-04T09:47:42.987311Z",
     "iopub.status.idle": "2024-09-04T09:47:44.521877Z",
     "shell.execute_reply": "2024-09-04T09:47:44.520499Z"
    },
    "papermill": {
     "duration": 1.548167,
     "end_time": "2024-09-04T09:47:44.525133",
     "exception": false,
     "start_time": "2024-09-04T09:47:42.976966",
     "status": "completed"
    },
    "tags": []
   },
   "outputs": [],
   "source": [
    "from sklearn.linear_model import Ridge\n",
    "from sklearn.model_selection import GridSearchCV\n",
    "from sklearn import metrics\n",
    "\n",
    "ridge_model = Ridge()"
   ]
  },
  {
   "cell_type": "markdown",
   "id": "58fd2d3c",
   "metadata": {
    "papermill": {
     "duration": 0.009127,
     "end_time": "2024-09-04T09:47:44.546191",
     "exception": false,
     "start_time": "2024-09-04T09:47:44.537064",
     "status": "completed"
    },
    "tags": []
   },
   "source": [
    "**Create grid search (w/ ridge) object**"
   ]
  },
  {
   "cell_type": "markdown",
   "id": "5995c7e5",
   "metadata": {
    "papermill": {
     "duration": 0.011576,
     "end_time": "2024-09-04T09:47:44.567323",
     "exception": false,
     "start_time": "2024-09-04T09:47:44.555747",
     "status": "completed"
    },
    "tags": []
   },
   "source": [
    "- Grid Search\n",
    "    - Systematically explore a specified set of hyperparameters for a model in order to identify the combination that results in the best performance. It is one of the most common methods used for hyperparameter tuning.\n",
    "    - 1. Define Hyperparameter Grid\n",
    "    - 2. Perform Exhaustive Search\n",
    "    - 3. Cross-Validation\n",
    "        - Cross-validation splits the training data into multiple subsets (or “folds”) and evaluates the model on each fold, which gives a more reliable estimate of model performance.\n",
    "    - 4. Select Best Hyperparameters"
   ]
  },
  {
   "cell_type": "markdown",
   "id": "4053c702",
   "metadata": {
    "papermill": {
     "duration": 0.009148,
     "end_time": "2024-09-04T09:47:44.589511",
     "exception": false,
     "start_time": "2024-09-04T09:47:44.580363",
     "status": "completed"
    },
    "tags": []
   },
   "source": [
    "1. hyper-parameter values\n",
    "- This dictionary defines the hyperparameters that will be tested during the grid search.\n",
    "    - max_iter: This is the maximum number of iterations for the optimization algorithm used by Ridge Regression. Here, it’s fixed at 3000, meaning the model will be trained with up to 3000 iterations to converge.\n",
    "    - alpha: This is the regularization strength in Ridge Regression. A higher alpha value means more regularization (i.e., penalizing large coefficients more). This hyperparameter controls how much the model is penalized for having large weights. Several different values of alpha are being tested in this case, ranging from 0.1 to 1000.\n",
    "    \n",
    "2. Custom RMSLE Scorer \n",
    "- This line creates a custom scoring metric using the rmsle function that you previously defined. The key points here are:\n",
    "    - metrics.make_scorer(): This function allows you to use custom evaluation metrics (like your rmsle function) inside GridSearchCV.\n",
    "    - greater_is_better=False: Since RMSLE measures error, lower values are better. Setting greater_is_better=False ensures that GridSearchCV treats lower RMSLE scores as better, thus optimizing for the smallest RMSLE.\n",
    "    \n",
    "3. Creating the Grid Search Object \n",
    "- estimator=ridge_model: This specifies the base model to be used for the grid search. Here, ridge_model is a Ridge Regression model that will be tuned.\n",
    "- param_grid=ridge_params: This is the hyperparameter grid defined earlier, where grid search will test each combination of alpha values and max_iter=3000.\n",
    "- scoring=rmsle_scorer: This tells GridSearchCV to use the custom RMSLE metric (lower is better) to evaluate the model.\n",
    "- cv=5: This specifies 5-fold cross-validation. It means that the data will be split into 5 subsets. The model will be trained on 4 of the subsets and validated on the remaining one, repeating the process 5 times (once for each subset as the validation set). The average score from these 5 iterations will be used to evaluate each hyperparameter combination.\n"
   ]
  },
  {
   "cell_type": "code",
   "execution_count": 12,
   "id": "a3eee80b",
   "metadata": {
    "execution": {
     "iopub.execute_input": "2024-09-04T09:47:44.610810Z",
     "iopub.status.busy": "2024-09-04T09:47:44.610258Z",
     "iopub.status.idle": "2024-09-04T09:47:44.617008Z",
     "shell.execute_reply": "2024-09-04T09:47:44.615945Z"
    },
    "papermill": {
     "duration": 0.020427,
     "end_time": "2024-09-04T09:47:44.619848",
     "exception": false,
     "start_time": "2024-09-04T09:47:44.599421",
     "status": "completed"
    },
    "tags": []
   },
   "outputs": [],
   "source": [
    "# hyper-parameter values \n",
    "ridge_params = {'max_iter':[3000], 'alpha':[0.1, 1, 2, 3, 4, 10, 30, 100, 200, 300, 400, 800, 900, 1000]}\n",
    "\n",
    "# calcuate RMSLE\n",
    "rmsle_scorer = metrics.make_scorer(rmsle, greater_is_better=False)\n",
    "# create grid search (w/ ridge) object \n",
    "gridsearch_ridge_model = GridSearchCV(estimator=ridge_model,   # ridge model\n",
    "                                      param_grid=ridge_params, # vals\n",
    "                                      scoring=rmsle_scorer,    # RMSLE for evaluation\n",
    "                                      cv=5)                    # 5-Fold Cross-Validation"
   ]
  },
  {
   "cell_type": "markdown",
   "id": "bf951450",
   "metadata": {
    "papermill": {
     "duration": 0.013859,
     "end_time": "2024-09-04T09:47:44.648683",
     "exception": false,
     "start_time": "2024-09-04T09:47:44.634824",
     "status": "completed"
    },
    "tags": []
   },
   "source": [
    "**Perform grid search**"
   ]
  },
  {
   "cell_type": "code",
   "execution_count": 13,
   "id": "452470e0",
   "metadata": {
    "execution": {
     "iopub.execute_input": "2024-09-04T09:47:44.670965Z",
     "iopub.status.busy": "2024-09-04T09:47:44.669894Z",
     "iopub.status.idle": "2024-09-04T09:47:47.064494Z",
     "shell.execute_reply": "2024-09-04T09:47:47.063358Z"
    },
    "papermill": {
     "duration": 2.408194,
     "end_time": "2024-09-04T09:47:47.067296",
     "exception": false,
     "start_time": "2024-09-04T09:47:44.659102",
     "status": "completed"
    },
    "tags": []
   },
   "outputs": [
    {
     "data": {
      "text/html": [
       "<style>#sk-container-id-1 {color: black;background-color: white;}#sk-container-id-1 pre{padding: 0;}#sk-container-id-1 div.sk-toggleable {background-color: white;}#sk-container-id-1 label.sk-toggleable__label {cursor: pointer;display: block;width: 100%;margin-bottom: 0;padding: 0.3em;box-sizing: border-box;text-align: center;}#sk-container-id-1 label.sk-toggleable__label-arrow:before {content: \"▸\";float: left;margin-right: 0.25em;color: #696969;}#sk-container-id-1 label.sk-toggleable__label-arrow:hover:before {color: black;}#sk-container-id-1 div.sk-estimator:hover label.sk-toggleable__label-arrow:before {color: black;}#sk-container-id-1 div.sk-toggleable__content {max-height: 0;max-width: 0;overflow: hidden;text-align: left;background-color: #f0f8ff;}#sk-container-id-1 div.sk-toggleable__content pre {margin: 0.2em;color: black;border-radius: 0.25em;background-color: #f0f8ff;}#sk-container-id-1 input.sk-toggleable__control:checked~div.sk-toggleable__content {max-height: 200px;max-width: 100%;overflow: auto;}#sk-container-id-1 input.sk-toggleable__control:checked~label.sk-toggleable__label-arrow:before {content: \"▾\";}#sk-container-id-1 div.sk-estimator input.sk-toggleable__control:checked~label.sk-toggleable__label {background-color: #d4ebff;}#sk-container-id-1 div.sk-label input.sk-toggleable__control:checked~label.sk-toggleable__label {background-color: #d4ebff;}#sk-container-id-1 input.sk-hidden--visually {border: 0;clip: rect(1px 1px 1px 1px);clip: rect(1px, 1px, 1px, 1px);height: 1px;margin: -1px;overflow: hidden;padding: 0;position: absolute;width: 1px;}#sk-container-id-1 div.sk-estimator {font-family: monospace;background-color: #f0f8ff;border: 1px dotted black;border-radius: 0.25em;box-sizing: border-box;margin-bottom: 0.5em;}#sk-container-id-1 div.sk-estimator:hover {background-color: #d4ebff;}#sk-container-id-1 div.sk-parallel-item::after {content: \"\";width: 100%;border-bottom: 1px solid gray;flex-grow: 1;}#sk-container-id-1 div.sk-label:hover label.sk-toggleable__label {background-color: #d4ebff;}#sk-container-id-1 div.sk-serial::before {content: \"\";position: absolute;border-left: 1px solid gray;box-sizing: border-box;top: 0;bottom: 0;left: 50%;z-index: 0;}#sk-container-id-1 div.sk-serial {display: flex;flex-direction: column;align-items: center;background-color: white;padding-right: 0.2em;padding-left: 0.2em;position: relative;}#sk-container-id-1 div.sk-item {position: relative;z-index: 1;}#sk-container-id-1 div.sk-parallel {display: flex;align-items: stretch;justify-content: center;background-color: white;position: relative;}#sk-container-id-1 div.sk-item::before, #sk-container-id-1 div.sk-parallel-item::before {content: \"\";position: absolute;border-left: 1px solid gray;box-sizing: border-box;top: 0;bottom: 0;left: 50%;z-index: -1;}#sk-container-id-1 div.sk-parallel-item {display: flex;flex-direction: column;z-index: 1;position: relative;background-color: white;}#sk-container-id-1 div.sk-parallel-item:first-child::after {align-self: flex-end;width: 50%;}#sk-container-id-1 div.sk-parallel-item:last-child::after {align-self: flex-start;width: 50%;}#sk-container-id-1 div.sk-parallel-item:only-child::after {width: 0;}#sk-container-id-1 div.sk-dashed-wrapped {border: 1px dashed gray;margin: 0 0.4em 0.5em 0.4em;box-sizing: border-box;padding-bottom: 0.4em;background-color: white;}#sk-container-id-1 div.sk-label label {font-family: monospace;font-weight: bold;display: inline-block;line-height: 1.2em;}#sk-container-id-1 div.sk-label-container {text-align: center;}#sk-container-id-1 div.sk-container {/* jupyter's `normalize.less` sets `[hidden] { display: none; }` but bootstrap.min.css set `[hidden] { display: none !important; }` so we also need the `!important` here to be able to override the default hidden behavior on the sphinx rendered scikit-learn.org. See: https://github.com/scikit-learn/scikit-learn/issues/21755 */display: inline-block !important;position: relative;}#sk-container-id-1 div.sk-text-repr-fallback {display: none;}</style><div id=\"sk-container-id-1\" class=\"sk-top-container\"><div class=\"sk-text-repr-fallback\"><pre>GridSearchCV(cv=5, estimator=Ridge(),\n",
       "             param_grid={&#x27;alpha&#x27;: [0.1, 1, 2, 3, 4, 10, 30, 100, 200, 300, 400,\n",
       "                                   800, 900, 1000],\n",
       "                         &#x27;max_iter&#x27;: [3000]},\n",
       "             scoring=make_scorer(rmsle, greater_is_better=False))</pre><b>In a Jupyter environment, please rerun this cell to show the HTML representation or trust the notebook. <br />On GitHub, the HTML representation is unable to render, please try loading this page with nbviewer.org.</b></div><div class=\"sk-container\" hidden><div class=\"sk-item sk-dashed-wrapped\"><div class=\"sk-label-container\"><div class=\"sk-label sk-toggleable\"><input class=\"sk-toggleable__control sk-hidden--visually\" id=\"sk-estimator-id-1\" type=\"checkbox\" ><label for=\"sk-estimator-id-1\" class=\"sk-toggleable__label sk-toggleable__label-arrow\">GridSearchCV</label><div class=\"sk-toggleable__content\"><pre>GridSearchCV(cv=5, estimator=Ridge(),\n",
       "             param_grid={&#x27;alpha&#x27;: [0.1, 1, 2, 3, 4, 10, 30, 100, 200, 300, 400,\n",
       "                                   800, 900, 1000],\n",
       "                         &#x27;max_iter&#x27;: [3000]},\n",
       "             scoring=make_scorer(rmsle, greater_is_better=False))</pre></div></div></div><div class=\"sk-parallel\"><div class=\"sk-parallel-item\"><div class=\"sk-item\"><div class=\"sk-label-container\"><div class=\"sk-label sk-toggleable\"><input class=\"sk-toggleable__control sk-hidden--visually\" id=\"sk-estimator-id-2\" type=\"checkbox\" ><label for=\"sk-estimator-id-2\" class=\"sk-toggleable__label sk-toggleable__label-arrow\">estimator: Ridge</label><div class=\"sk-toggleable__content\"><pre>Ridge()</pre></div></div></div><div class=\"sk-serial\"><div class=\"sk-item\"><div class=\"sk-estimator sk-toggleable\"><input class=\"sk-toggleable__control sk-hidden--visually\" id=\"sk-estimator-id-3\" type=\"checkbox\" ><label for=\"sk-estimator-id-3\" class=\"sk-toggleable__label sk-toggleable__label-arrow\">Ridge</label><div class=\"sk-toggleable__content\"><pre>Ridge()</pre></div></div></div></div></div></div></div></div></div></div>"
      ],
      "text/plain": [
       "GridSearchCV(cv=5, estimator=Ridge(),\n",
       "             param_grid={'alpha': [0.1, 1, 2, 3, 4, 10, 30, 100, 200, 300, 400,\n",
       "                                   800, 900, 1000],\n",
       "                         'max_iter': [3000]},\n",
       "             scoring=make_scorer(rmsle, greater_is_better=False))"
      ]
     },
     "execution_count": 13,
     "metadata": {},
     "output_type": "execute_result"
    }
   ],
   "source": [
    "log_y = np.log(y) # log transformation\n",
    "gridsearch_ridge_model.fit(X_train, log_y) # train(grid search)"
   ]
  },
  {
   "cell_type": "code",
   "execution_count": 14,
   "id": "4642ad9a",
   "metadata": {
    "execution": {
     "iopub.execute_input": "2024-09-04T09:47:47.103859Z",
     "iopub.status.busy": "2024-09-04T09:47:47.103305Z",
     "iopub.status.idle": "2024-09-04T09:47:47.114113Z",
     "shell.execute_reply": "2024-09-04T09:47:47.112956Z"
    },
    "papermill": {
     "duration": 0.033139,
     "end_time": "2024-09-04T09:47:47.117426",
     "exception": false,
     "start_time": "2024-09-04T09:47:47.084287",
     "status": "completed"
    },
    "tags": []
   },
   "outputs": [
    {
     "name": "stdout",
     "output_type": "stream",
     "text": [
      "Optimized hyper parameter : {'alpha': 0.1, 'max_iter': 3000}\n"
     ]
    }
   ],
   "source": [
    "print('Optimized hyper parameter :', gridsearch_ridge_model.best_params_)"
   ]
  },
  {
   "cell_type": "markdown",
   "id": "ccc9ffb5",
   "metadata": {
    "papermill": {
     "duration": 0.015564,
     "end_time": "2024-09-04T09:47:47.149191",
     "exception": false,
     "start_time": "2024-09-04T09:47:47.133627",
     "status": "completed"
    },
    "tags": []
   },
   "source": [
    "**Validate Performance**"
   ]
  },
  {
   "cell_type": "code",
   "execution_count": 15,
   "id": "1af0b8ac",
   "metadata": {
    "execution": {
     "iopub.execute_input": "2024-09-04T09:47:47.180264Z",
     "iopub.status.busy": "2024-09-04T09:47:47.179832Z",
     "iopub.status.idle": "2024-09-04T09:47:47.201777Z",
     "shell.execute_reply": "2024-09-04T09:47:47.200229Z"
    },
    "papermill": {
     "duration": 0.039125,
     "end_time": "2024-09-04T09:47:47.204470",
     "exception": false,
     "start_time": "2024-09-04T09:47:47.165345",
     "status": "completed"
    },
    "tags": []
   },
   "outputs": [
    {
     "name": "stdout",
     "output_type": "stream",
     "text": [
      "val of ridge regression RMSLE : 1.0205\n"
     ]
    }
   ],
   "source": [
    "# predicate\n",
    "preds = gridsearch_ridge_model.best_estimator_.predict(X_train) \n",
    "\n",
    "# evaluation\n",
    "print(f'val of ridge regression RMSLE : {rmsle(log_y, preds, True):.4f}') "
   ]
  },
  {
   "cell_type": "markdown",
   "id": "d2a41991",
   "metadata": {
    "papermill": {
     "duration": 0.015567,
     "end_time": "2024-09-04T09:47:47.236388",
     "exception": false,
     "start_time": "2024-09-04T09:47:47.220821",
     "status": "completed"
    },
    "tags": []
   },
   "source": [
    "## Performance Improvement 2: Lasso Regression Model"
   ]
  },
  {
   "cell_type": "markdown",
   "id": "66dc0daf",
   "metadata": {
    "papermill": {
     "duration": 0.015598,
     "end_time": "2024-09-04T09:47:47.268253",
     "exception": false,
     "start_time": "2024-09-04T09:47:47.252655",
     "status": "completed"
    },
    "tags": []
   },
   "source": [
    "**Optimize hyper parameters (training model)**"
   ]
  },
  {
   "cell_type": "code",
   "execution_count": 16,
   "id": "e5f747ae",
   "metadata": {
    "execution": {
     "iopub.execute_input": "2024-09-04T09:47:47.303139Z",
     "iopub.status.busy": "2024-09-04T09:47:47.302552Z",
     "iopub.status.idle": "2024-09-04T09:47:50.755845Z",
     "shell.execute_reply": "2024-09-04T09:47:50.754845Z"
    },
    "papermill": {
     "duration": 3.474208,
     "end_time": "2024-09-04T09:47:50.758769",
     "exception": false,
     "start_time": "2024-09-04T09:47:47.284561",
     "status": "completed"
    },
    "tags": []
   },
   "outputs": [
    {
     "name": "stdout",
     "output_type": "stream",
     "text": [
      "Optimized hyper parameter : {'alpha': 0.00125, 'max_iter': 3000}\n"
     ]
    }
   ],
   "source": [
    "from sklearn.linear_model import Lasso\n",
    "\n",
    "# create lasso model\n",
    "lasso_model = Lasso()\n",
    "# hyper parameter vals\n",
    "lasso_alpha = 1/np.array([0.1, 1, 2, 3, 4, 10, 30, 100, 200, 300, 400, 800, 900, 1000])\n",
    "lasso_params = {'max_iter':[3000], 'alpha':lasso_alpha}\n",
    "# create grid search (w/ lasso) object\n",
    "gridsearch_lasso_model = GridSearchCV(estimator=lasso_model,\n",
    "                                      param_grid=lasso_params,\n",
    "                                      scoring=rmsle_scorer,\n",
    "                                      cv=5)\n",
    "# perform grid search\n",
    "log_y = np.log(y)\n",
    "gridsearch_lasso_model.fit(X_train, log_y)\n",
    "\n",
    "print('Optimized hyper parameter :', gridsearch_lasso_model.best_params_)"
   ]
  },
  {
   "cell_type": "markdown",
   "id": "965091a5",
   "metadata": {
    "papermill": {
     "duration": 0.014109,
     "end_time": "2024-09-04T09:47:50.788097",
     "exception": false,
     "start_time": "2024-09-04T09:47:50.773988",
     "status": "completed"
    },
    "tags": []
   },
   "source": [
    "## Performance Validation"
   ]
  },
  {
   "cell_type": "code",
   "execution_count": 17,
   "id": "342bc873",
   "metadata": {
    "execution": {
     "iopub.execute_input": "2024-09-04T09:47:50.818766Z",
     "iopub.status.busy": "2024-09-04T09:47:50.818259Z",
     "iopub.status.idle": "2024-09-04T09:47:50.849940Z",
     "shell.execute_reply": "2024-09-04T09:47:50.849014Z"
    },
    "papermill": {
     "duration": 0.050101,
     "end_time": "2024-09-04T09:47:50.852717",
     "exception": false,
     "start_time": "2024-09-04T09:47:50.802616",
     "status": "completed"
    },
    "tags": []
   },
   "outputs": [
    {
     "name": "stdout",
     "output_type": "stream",
     "text": [
      "val of lasso regression RMSLE : 1.0205\n"
     ]
    }
   ],
   "source": [
    "# predicate\n",
    "preds = gridsearch_lasso_model.best_estimator_.predict(X_train)\n",
    "\n",
    "# evaluation\n",
    "print(f'val of lasso regression RMSLE : {rmsle(log_y, preds, True):.4f}')"
   ]
  },
  {
   "cell_type": "markdown",
   "id": "a6cadf43",
   "metadata": {
    "papermill": {
     "duration": 0.015813,
     "end_time": "2024-09-04T09:47:50.888274",
     "exception": false,
     "start_time": "2024-09-04T09:47:50.872461",
     "status": "completed"
    },
    "tags": []
   },
   "source": [
    "## Performance Improvement 3: Random Forest Regression Model"
   ]
  },
  {
   "cell_type": "markdown",
   "id": "008ade03",
   "metadata": {
    "papermill": {
     "duration": 0.015818,
     "end_time": "2024-09-04T09:47:50.920582",
     "exception": false,
     "start_time": "2024-09-04T09:47:50.904764",
     "status": "completed"
    },
    "tags": []
   },
   "source": [
    "**Optimize hyper parameters (training model)**"
   ]
  },
  {
   "cell_type": "code",
   "execution_count": 18,
   "id": "4d92ce14",
   "metadata": {
    "execution": {
     "iopub.execute_input": "2024-09-04T09:47:50.955717Z",
     "iopub.status.busy": "2024-09-04T09:47:50.955153Z",
     "iopub.status.idle": "2024-09-04T09:48:45.319002Z",
     "shell.execute_reply": "2024-09-04T09:48:45.317929Z"
    },
    "papermill": {
     "duration": 54.394017,
     "end_time": "2024-09-04T09:48:45.330915",
     "exception": false,
     "start_time": "2024-09-04T09:47:50.936898",
     "status": "completed"
    },
    "tags": []
   },
   "outputs": [
    {
     "name": "stdout",
     "output_type": "stream",
     "text": [
      "Optimized hyper parameter : {'n_estimators': 140, 'random_state': 42}\n"
     ]
    }
   ],
   "source": [
    "from sklearn.ensemble import RandomForestRegressor\n",
    "\n",
    "# create model\n",
    "randomforest_model = RandomForestRegressor()\n",
    "# create grid search object\n",
    "rf_params = {'random_state':[42], 'n_estimators':[100, 120, 140]}\n",
    "gridsearch_random_forest_model = GridSearchCV(estimator=randomforest_model,\n",
    "                                              param_grid=rf_params,\n",
    "                                              scoring=rmsle_scorer,\n",
    "                                              cv=5)\n",
    "# perform grid search\n",
    "log_y = np.log(y)\n",
    "gridsearch_random_forest_model.fit(X_train, log_y)\n",
    "\n",
    "print('Optimized hyper parameter :', gridsearch_random_forest_model.best_params_)"
   ]
  },
  {
   "cell_type": "markdown",
   "id": "6c17a6af",
   "metadata": {
    "papermill": {
     "duration": 0.009584,
     "end_time": "2024-09-04T09:48:45.350284",
     "exception": false,
     "start_time": "2024-09-04T09:48:45.340700",
     "status": "completed"
    },
    "tags": []
   },
   "source": [
    "## Performance Validation "
   ]
  },
  {
   "cell_type": "code",
   "execution_count": 19,
   "id": "86f06668",
   "metadata": {
    "execution": {
     "iopub.execute_input": "2024-09-04T09:48:45.371729Z",
     "iopub.status.busy": "2024-09-04T09:48:45.370960Z",
     "iopub.status.idle": "2024-09-04T09:48:45.643471Z",
     "shell.execute_reply": "2024-09-04T09:48:45.642329Z"
    },
    "papermill": {
     "duration": 0.285747,
     "end_time": "2024-09-04T09:48:45.645729",
     "exception": false,
     "start_time": "2024-09-04T09:48:45.359982",
     "status": "completed"
    },
    "tags": []
   },
   "outputs": [
    {
     "name": "stdout",
     "output_type": "stream",
     "text": [
      "val of random forest regression RMSLE : 0.1127\n"
     ]
    }
   ],
   "source": [
    "# predicate\n",
    "preds = gridsearch_random_forest_model.best_estimator_.predict(X_train)\n",
    "\n",
    "# evaluation\n",
    "print(f'val of random forest regression RMSLE : {rmsle(log_y, preds, True):.4f}')"
   ]
  },
  {
   "cell_type": "markdown",
   "id": "ef2cce99",
   "metadata": {
    "papermill": {
     "duration": 0.010069,
     "end_time": "2024-09-04T09:48:45.665841",
     "exception": false,
     "start_time": "2024-09-04T09:48:45.655772",
     "status": "completed"
    },
    "tags": []
   },
   "source": [
    "## Submit result"
   ]
  },
  {
   "cell_type": "code",
   "execution_count": 20,
   "id": "5f4cea11",
   "metadata": {
    "execution": {
     "iopub.execute_input": "2024-09-04T09:48:45.687251Z",
     "iopub.status.busy": "2024-09-04T09:48:45.686838Z",
     "iopub.status.idle": "2024-09-04T09:48:46.934296Z",
     "shell.execute_reply": "2024-09-04T09:48:46.933264Z"
    },
    "papermill": {
     "duration": 1.260791,
     "end_time": "2024-09-04T09:48:46.936528",
     "exception": false,
     "start_time": "2024-09-04T09:48:45.675737",
     "status": "completed"
    },
    "tags": []
   },
   "outputs": [
    {
     "name": "stderr",
     "output_type": "stream",
     "text": [
      "/opt/conda/lib/python3.10/site-packages/seaborn/_oldcore.py:1119: FutureWarning: use_inf_as_na option is deprecated and will be removed in a future version. Convert inf values to NaN before operating instead.\n",
      "  with pd.option_context('mode.use_inf_as_na', True):\n",
      "/opt/conda/lib/python3.10/site-packages/seaborn/_oldcore.py:1119: FutureWarning: use_inf_as_na option is deprecated and will be removed in a future version. Convert inf values to NaN before operating instead.\n",
      "  with pd.option_context('mode.use_inf_as_na', True):\n"
     ]
    },
    {
     "data": {
      "image/png": "[encoded data removed]",
      "text/plain": [
       "<Figure size 1000x400 with 2 Axes>"
      ]
     },
     "metadata": {},
     "output_type": "display_data"
    }
   ],
   "source": [
    "import seaborn as sns\n",
    "import matplotlib.pyplot as plt\n",
    "\n",
    "randomforest_preds = gridsearch_random_forest_model.best_estimator_.predict(X_test)\n",
    "\n",
    "figure, axes = plt.subplots(ncols=2)\n",
    "figure.set_size_inches(10, 4)\n",
    "\n",
    "sns.histplot(y, bins=50, ax=axes[0])\n",
    "axes[0].set_title('Train Data Distribution')\n",
    "sns.histplot(np.exp(randomforest_preds), bins=50, ax=axes[1])\n",
    "axes[1].set_title('Predicted Test Data Distribution');\n"
   ]
  },
  {
   "cell_type": "code",
   "execution_count": 21,
   "id": "1ed09934",
   "metadata": {
    "execution": {
     "iopub.execute_input": "2024-09-04T09:48:46.960981Z",
     "iopub.status.busy": "2024-09-04T09:48:46.960390Z",
     "iopub.status.idle": "2024-09-04T09:48:46.985424Z",
     "shell.execute_reply": "2024-09-04T09:48:46.984448Z"
    },
    "papermill": {
     "duration": 0.040512,
     "end_time": "2024-09-04T09:48:46.987749",
     "exception": false,
     "start_time": "2024-09-04T09:48:46.947237",
     "status": "completed"
    },
    "tags": []
   },
   "outputs": [],
   "source": [
    "submission['count'] = np.exp(randomforest_preds) # log transformation\n",
    "submission.to_csv('submission.csv', index=False)"
   ]
  },
  {
   "cell_type": "code",
   "execution_count": null,
   "id": "6d296ea0",
   "metadata": {
    "papermill": {
     "duration": 0.01056,
     "end_time": "2024-09-04T09:48:47.008962",
     "exception": false,
     "start_time": "2024-09-04T09:48:46.998402",
     "status": "completed"
    },
    "tags": []
   },
   "outputs": [],
   "source": []
  }
 ],
 "metadata": {
  "kaggle": {
   "accelerator": "none",
   "dataSources": [
    {
     "databundleVersionId": 32624,
     "sourceId": 3948,
     "sourceType": "competition"
    }
   ],
   "dockerImageVersionId": 30761,
   "isGpuEnabled": false,
   "isInternetEnabled": true,
   "language": "python",
   "sourceType": "notebook"
  },
  "kernelspec": {
   "display_name": "Python 3",
   "language": "python",
   "name": "python3"
  },
  "language_info": {
   "codemirror_mode": {
    "name": "ipython",
    "version": 3
   },
   "file_extension": ".py",
   "mimetype": "text/x-python",
   "name": "python",
   "nbconvert_exporter": "python",
   "pygments_lexer": "ipython3",
   "version": "3.10.14"
  },
  "papermill": {
   "default_parameters": {},
   "duration": 68.485475,
   "end_time": "2024-09-04T09:48:47.640040",
   "environment_variables": {},
   "exception": null,
   "input_path": "__notebook__.ipynb",
   "output_path": "__notebook__.ipynb",
   "parameters": {},
   "start_time": "2024-09-04T09:47:39.154565",
   "version": "2.6.0"
  }
 },
 "nbformat": 4,
 "nbformat_minor": 5
}
