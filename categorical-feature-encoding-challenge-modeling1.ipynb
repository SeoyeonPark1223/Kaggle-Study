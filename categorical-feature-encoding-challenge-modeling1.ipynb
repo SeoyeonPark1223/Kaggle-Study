{
 "cells": [
  {
   "cell_type": "markdown",
   "id": "9bde7336",
   "metadata": {
    "papermill": {
     "duration": 0.013004,
     "end_time": "2024-09-05T13:14:31.359047",
     "exception": false,
     "start_time": "2024-09-05T13:14:31.346043",
     "status": "completed"
    },
    "tags": []
   },
   "source": [
    "# Categorical Feature Encoding Challenge - Modeling"
   ]
  },
  {
   "cell_type": "markdown",
   "id": "710ba049",
   "metadata": {
    "papermill": {
     "duration": 0.009802,
     "end_time": "2024-09-05T13:14:31.380500",
     "exception": false,
     "start_time": "2024-09-05T13:14:31.370698",
     "status": "completed"
    },
    "tags": []
   },
   "source": [
    "Tutorial Link -> https://www.kaggle.com/code/werooring/ch7-modeling"
   ]
  },
  {
   "cell_type": "code",
   "execution_count": 1,
   "id": "c2f0d63b",
   "metadata": {
    "_cell_guid": "b1076dfc-b9ad-4769-8c92-a6c4dae69d19",
    "_uuid": "8f2839f25d086af736a60e9eeb907d3b93b6e0e5",
    "execution": {
     "iopub.execute_input": "2024-09-05T13:14:31.403101Z",
     "iopub.status.busy": "2024-09-05T13:14:31.402512Z",
     "iopub.status.idle": "2024-09-05T13:14:31.866765Z",
     "shell.execute_reply": "2024-09-05T13:14:31.865246Z"
    },
    "papermill": {
     "duration": 0.479204,
     "end_time": "2024-09-05T13:14:31.869772",
     "exception": false,
     "start_time": "2024-09-05T13:14:31.390568",
     "status": "completed"
    },
    "tags": []
   },
   "outputs": [
    {
     "name": "stdout",
     "output_type": "stream",
     "text": [
      "/kaggle/input/cat-in-the-dat/sample_submission.csv\n",
      "/kaggle/input/cat-in-the-dat/train.csv\n",
      "/kaggle/input/cat-in-the-dat/test.csv\n"
     ]
    }
   ],
   "source": [
    "# This Python 3 environment comes with many helpful analytics libraries installed\n",
    "# It is defined by the kaggle/python Docker image: https://github.com/kaggle/docker-python\n",
    "# For example, here's several helpful packages to load\n",
    "\n",
    "import numpy as np # linear algebra\n",
    "import pandas as pd # data processing, CSV file I/O (e.g. pd.read_csv)\n",
    "\n",
    "# Input data files are available in the read-only \"../input/\" directory\n",
    "# For example, running this (by clicking run or pressing Shift+Enter) will list all files under the input directory\n",
    "\n",
    "import os\n",
    "for dirname, _, filenames in os.walk('/kaggle/input'):\n",
    "    for filename in filenames:\n",
    "        print(os.path.join(dirname, filename))\n",
    "\n",
    "# You can write up to 20GB to the current directory (/kaggle/working/) that gets preserved as output when you create a version using \"Save & Run All\" \n",
    "# You can also write temporary files to /kaggle/temp/, but they won't be saved outside of the current session"
   ]
  },
  {
   "cell_type": "code",
   "execution_count": 2,
   "id": "fed03270",
   "metadata": {
    "execution": {
     "iopub.execute_input": "2024-09-05T13:14:31.893681Z",
     "iopub.status.busy": "2024-09-05T13:14:31.893089Z",
     "iopub.status.idle": "2024-09-05T13:14:35.169147Z",
     "shell.execute_reply": "2024-09-05T13:14:35.167995Z"
    },
    "papermill": {
     "duration": 3.291804,
     "end_time": "2024-09-05T13:14:35.172109",
     "exception": false,
     "start_time": "2024-09-05T13:14:31.880305",
     "status": "completed"
    },
    "tags": []
   },
   "outputs": [],
   "source": [
    "data_path = '/kaggle/input/cat-in-the-dat/'\n",
    "\n",
    "train = pd.read_csv(data_path + 'train.csv', index_col='id')\n",
    "test = pd.read_csv(data_path + 'test.csv', index_col='id')\n",
    "submission = pd.read_csv(data_path + 'sample_submission.csv', index_col='id')"
   ]
  },
  {
   "cell_type": "markdown",
   "id": "6ce1f986",
   "metadata": {
    "papermill": {
     "duration": 0.010179,
     "end_time": "2024-09-05T13:14:35.193209",
     "exception": false,
     "start_time": "2024-09-05T13:14:35.183030",
     "status": "completed"
    },
    "tags": []
   },
   "source": [
    "## Feature Engineering: Feature Encoding"
   ]
  },
  {
   "cell_type": "markdown",
   "id": "1151e608",
   "metadata": {
    "papermill": {
     "duration": 0.009967,
     "end_time": "2024-09-05T13:14:35.213462",
     "exception": false,
     "start_time": "2024-09-05T13:14:35.203495",
     "status": "completed"
    },
    "tags": []
   },
   "source": [
    "**Combine Data**"
   ]
  },
  {
   "cell_type": "code",
   "execution_count": 3,
   "id": "e56ed7c5",
   "metadata": {
    "execution": {
     "iopub.execute_input": "2024-09-05T13:14:35.235821Z",
     "iopub.status.busy": "2024-09-05T13:14:35.235341Z",
     "iopub.status.idle": "2024-09-05T13:14:35.438826Z",
     "shell.execute_reply": "2024-09-05T13:14:35.437607Z"
    },
    "papermill": {
     "duration": 0.218292,
     "end_time": "2024-09-05T13:14:35.441994",
     "exception": false,
     "start_time": "2024-09-05T13:14:35.223702",
     "status": "completed"
    },
    "tags": []
   },
   "outputs": [],
   "source": [
    "all_data = pd.concat([train, test]) # combining train & test set\n",
    "all_data = all_data.drop('target', axis=1) # drop target val"
   ]
  },
  {
   "cell_type": "markdown",
   "id": "d37714dc",
   "metadata": {
    "papermill": {
     "duration": 0.009871,
     "end_time": "2024-09-05T13:14:35.462717",
     "exception": false,
     "start_time": "2024-09-05T13:14:35.452846",
     "status": "completed"
    },
    "tags": []
   },
   "source": [
    "**Binary Feature Encoding**"
   ]
  },
  {
   "cell_type": "code",
   "execution_count": 4,
   "id": "20909635",
   "metadata": {
    "execution": {
     "iopub.execute_input": "2024-09-05T13:14:35.485833Z",
     "iopub.status.busy": "2024-09-05T13:14:35.485395Z",
     "iopub.status.idle": "2024-09-05T13:14:35.556246Z",
     "shell.execute_reply": "2024-09-05T13:14:35.555131Z"
    },
    "papermill": {
     "duration": 0.085986,
     "end_time": "2024-09-05T13:14:35.559389",
     "exception": false,
     "start_time": "2024-09-05T13:14:35.473403",
     "status": "completed"
    },
    "tags": []
   },
   "outputs": [],
   "source": [
    "all_data['bin_3'] = all_data['bin_3'].map({'F':0, 'T':1})\n",
    "all_data['bin_4'] = all_data['bin_4'].map({'N':0, 'Y':1})"
   ]
  },
  {
   "cell_type": "markdown",
   "id": "1dfe046d",
   "metadata": {
    "papermill": {
     "duration": 0.010262,
     "end_time": "2024-09-05T13:14:35.580913",
     "exception": false,
     "start_time": "2024-09-05T13:14:35.570651",
     "status": "completed"
    },
    "tags": []
   },
   "source": [
    "**Ordered Feature Encoding**"
   ]
  },
  {
   "cell_type": "code",
   "execution_count": 5,
   "id": "5b357f08",
   "metadata": {
    "execution": {
     "iopub.execute_input": "2024-09-05T13:14:35.603849Z",
     "iopub.status.busy": "2024-09-05T13:14:35.603379Z",
     "iopub.status.idle": "2024-09-05T13:14:35.749101Z",
     "shell.execute_reply": "2024-09-05T13:14:35.747451Z"
    },
    "papermill": {
     "duration": 0.160443,
     "end_time": "2024-09-05T13:14:35.752041",
     "exception": false,
     "start_time": "2024-09-05T13:14:35.591598",
     "status": "completed"
    },
    "tags": []
   },
   "outputs": [],
   "source": [
    "ord1dict = {'Novice':0, 'Contributor':1, \n",
    "            'Expert':2, 'Master':3, 'Grandmaster':4}\n",
    "ord2dict = {'Freezing':0, 'Cold':1, 'Warm':2, \n",
    "            'Hot':3, 'Boiling Hot':4, 'Lava Hot':5}\n",
    "\n",
    "all_data['ord_1'] = all_data['ord_1'].map(ord1dict)\n",
    "all_data['ord_2'] = all_data['ord_2'].map(ord2dict)"
   ]
  },
  {
   "cell_type": "code",
   "execution_count": 6,
   "id": "7cac6169",
   "metadata": {
    "execution": {
     "iopub.execute_input": "2024-09-05T13:14:35.775121Z",
     "iopub.status.busy": "2024-09-05T13:14:35.774049Z",
     "iopub.status.idle": "2024-09-05T13:14:37.727506Z",
     "shell.execute_reply": "2024-09-05T13:14:37.726009Z"
    },
    "papermill": {
     "duration": 1.969945,
     "end_time": "2024-09-05T13:14:37.732277",
     "exception": false,
     "start_time": "2024-09-05T13:14:35.762332",
     "status": "completed"
    },
    "tags": []
   },
   "outputs": [
    {
     "name": "stdout",
     "output_type": "stream",
     "text": [
      "ord_3\n",
      "['a' 'b' 'c' 'd' 'e' 'f' 'g' 'h' 'i' 'j' 'k' 'l' 'm' 'n' 'o']\n",
      "ord_4\n",
      "['A' 'B' 'C' 'D' 'E' 'F' 'G' 'H' 'I' 'J' 'K' 'L' 'M' 'N' 'O' 'P' 'Q' 'R'\n",
      " 'S' 'T' 'U' 'V' 'W' 'X' 'Y' 'Z']\n",
      "ord_5\n",
      "['AP' 'Ai' 'Aj' 'BA' 'BE' 'Bb' 'Bd' 'Bn' 'CL' 'CM' 'CU' 'CZ' 'Cl' 'DH'\n",
      " 'DN' 'Dc' 'Dx' 'Ed' 'Eg' 'Er' 'FI' 'Fd' 'Fo' 'GD' 'GJ' 'Gb' 'Gx' 'Hj'\n",
      " 'IK' 'Id' 'JX' 'Jc' 'Jf' 'Jt' 'KR' 'KZ' 'Kf' 'Kq' 'LE' 'MC' 'MO' 'MV'\n",
      " 'Mf' 'Ml' 'Mx' 'NV' 'Nf' 'Nk' 'OR' 'Ob' 'Os' 'PA' 'PQ' 'PZ' 'Ps' 'QM'\n",
      " 'Qb' 'Qh' 'Qo' 'RG' 'RL' 'RP' 'Rm' 'Ry' 'SB' 'Sc' 'TR' 'TZ' 'To' 'UO'\n",
      " 'Uk' 'Uu' 'Vf' 'Vx' 'WE' 'Wc' 'Wv' 'XI' 'Xh' 'Xi' 'YC' 'Yb' 'Ye' 'ZR'\n",
      " 'ZS' 'Zc' 'Zq' 'aF' 'aM' 'aO' 'aP' 'ac' 'av' 'bF' 'bJ' 'be' 'cA' 'cG'\n",
      " 'cW' 'ck' 'cp' 'dB' 'dE' 'dN' 'dO' 'dP' 'dQ' 'dZ' 'dh' 'eG' 'eQ' 'eb'\n",
      " 'eg' 'ek' 'ex' 'fO' 'fh' 'gJ' 'gM' 'hL' 'hT' 'hh' 'hp' 'iT' 'ih' 'jS'\n",
      " 'jV' 'je' 'jp' 'kC' 'kE' 'kK' 'kL' 'kU' 'kW' 'ke' 'kr' 'kw' 'lF' 'lL'\n",
      " 'll' 'lx' 'mb' 'mc' 'mm' 'nX' 'nh' 'oC' 'oG' 'oH' 'oK' 'od' 'on' 'pa'\n",
      " 'ps' 'qA' 'qJ' 'qK' 'qP' 'qX' 'qo' 'qv' 'qw' 'rZ' 'ri' 'rp' 'sD' 'sV'\n",
      " 'sY' 'sn' 'su' 'tM' 'tP' 'tv' 'uJ' 'uS' 'ud' 'us' 'ut' 'ux' 'uy' 'vK'\n",
      " 'vq' 'vy' 'wu' 'wy' 'xP' 'xy' 'yN' 'yY' 'yc' 'zU']\n"
     ]
    }
   ],
   "source": [
    "from sklearn.preprocessing import OrdinalEncoder\n",
    "\n",
    "ord_345 = ['ord_3', 'ord_4', 'ord_5']\n",
    "\n",
    "ord_encoder = OrdinalEncoder() # OrdinalEncoder object\n",
    "# apply ordinal encoding \n",
    "all_data[ord_345] = ord_encoder.fit_transform(all_data[ord_345])\n",
    "\n",
    "# print encoding order per feature\n",
    "for feature, categories in zip(ord_345, ord_encoder.categories_):\n",
    "    print(feature)\n",
    "    print(categories)"
   ]
  },
  {
   "cell_type": "markdown",
   "id": "66f8ed70",
   "metadata": {
    "papermill": {
     "duration": 0.014823,
     "end_time": "2024-09-05T13:14:37.762494",
     "exception": false,
     "start_time": "2024-09-05T13:14:37.747671",
     "status": "completed"
    },
    "tags": []
   },
   "source": [
    "**Nominal Feature Encoding**"
   ]
  },
  {
   "cell_type": "code",
   "execution_count": 7,
   "id": "796b5d90",
   "metadata": {
    "execution": {
     "iopub.execute_input": "2024-09-05T13:14:37.795539Z",
     "iopub.status.busy": "2024-09-05T13:14:37.794898Z",
     "iopub.status.idle": "2024-09-05T13:14:37.801067Z",
     "shell.execute_reply": "2024-09-05T13:14:37.799797Z"
    },
    "papermill": {
     "duration": 0.02554,
     "end_time": "2024-09-05T13:14:37.803614",
     "exception": false,
     "start_time": "2024-09-05T13:14:37.778074",
     "status": "completed"
    },
    "tags": []
   },
   "outputs": [],
   "source": [
    "nom_features = ['nom_' + str(i) for i in range(10)]"
   ]
  },
  {
   "cell_type": "code",
   "execution_count": 8,
   "id": "43450d4c",
   "metadata": {
    "execution": {
     "iopub.execute_input": "2024-09-05T13:14:37.826814Z",
     "iopub.status.busy": "2024-09-05T13:14:37.826364Z",
     "iopub.status.idle": "2024-09-05T13:14:40.094929Z",
     "shell.execute_reply": "2024-09-05T13:14:40.093522Z"
    },
    "papermill": {
     "duration": 2.283287,
     "end_time": "2024-09-05T13:14:40.097748",
     "exception": false,
     "start_time": "2024-09-05T13:14:37.814461",
     "status": "completed"
    },
    "tags": []
   },
   "outputs": [
    {
     "data": {
      "text/plain": [
       "<Compressed Sparse Row sparse matrix of dtype 'float64'\n",
       "\twith 5000000 stored elements and shape (500000, 16276)>"
      ]
     },
     "execution_count": 8,
     "metadata": {},
     "output_type": "execute_result"
    }
   ],
   "source": [
    "from sklearn.preprocessing import OneHotEncoder\n",
    "\n",
    "onehot_encoder = OneHotEncoder() # OneHotEncoder object\n",
    "# apply one-hot encoding\n",
    "encoded_nom_matrix = onehot_encoder.fit_transform(all_data[nom_features])\n",
    "\n",
    "encoded_nom_matrix"
   ]
  },
  {
   "cell_type": "code",
   "execution_count": 9,
   "id": "82a5708a",
   "metadata": {
    "execution": {
     "iopub.execute_input": "2024-09-05T13:14:40.121840Z",
     "iopub.status.busy": "2024-09-05T13:14:40.121396Z",
     "iopub.status.idle": "2024-09-05T13:14:40.167026Z",
     "shell.execute_reply": "2024-09-05T13:14:40.165727Z"
    },
    "papermill": {
     "duration": 0.061011,
     "end_time": "2024-09-05T13:14:40.169988",
     "exception": false,
     "start_time": "2024-09-05T13:14:40.108977",
     "status": "completed"
    },
    "tags": []
   },
   "outputs": [],
   "source": [
    "all_data = all_data.drop(nom_features, axis = 1) # drop original nominal features"
   ]
  },
  {
   "cell_type": "markdown",
   "id": "38b63396",
   "metadata": {
    "papermill": {
     "duration": 0.010083,
     "end_time": "2024-09-05T13:14:40.190818",
     "exception": false,
     "start_time": "2024-09-05T13:14:40.180735",
     "status": "completed"
    },
    "tags": []
   },
   "source": [
    "**Weather Feature Encoding**"
   ]
  },
  {
   "cell_type": "code",
   "execution_count": 10,
   "id": "1498acfd",
   "metadata": {
    "execution": {
     "iopub.execute_input": "2024-09-05T13:14:40.213804Z",
     "iopub.status.busy": "2024-09-05T13:14:40.213353Z",
     "iopub.status.idle": "2024-09-05T13:14:40.363550Z",
     "shell.execute_reply": "2024-09-05T13:14:40.362350Z"
    },
    "papermill": {
     "duration": 0.16513,
     "end_time": "2024-09-05T13:14:40.366337",
     "exception": false,
     "start_time": "2024-09-05T13:14:40.201207",
     "status": "completed"
    },
    "tags": []
   },
   "outputs": [
    {
     "data": {
      "text/plain": [
       "<Compressed Sparse Row sparse matrix of dtype 'float64'\n",
       "\twith 1000000 stored elements and shape (500000, 19)>"
      ]
     },
     "execution_count": 10,
     "metadata": {},
     "output_type": "execute_result"
    }
   ],
   "source": [
    "date_features = ['day', 'month']\n",
    "\n",
    "# apply one-hot encoding\n",
    "encoded_date_matrix = onehot_encoder.fit_transform(all_data[date_features])\n",
    "\n",
    "all_data = all_data.drop(date_features, axis = 1) # drop original nominal features\n",
    "\n",
    "encoded_date_matrix"
   ]
  },
  {
   "cell_type": "markdown",
   "id": "0d01117f",
   "metadata": {
    "papermill": {
     "duration": 0.010279,
     "end_time": "2024-09-05T13:14:40.387285",
     "exception": false,
     "start_time": "2024-09-05T13:14:40.377006",
     "status": "completed"
    },
    "tags": []
   },
   "source": [
    "## Feature Engineering 2: Feature Scaling"
   ]
  },
  {
   "cell_type": "markdown",
   "id": "9c86608a",
   "metadata": {
    "papermill": {
     "duration": 0.010188,
     "end_time": "2024-09-05T13:14:40.408183",
     "exception": false,
     "start_time": "2024-09-05T13:14:40.397995",
     "status": "completed"
    },
    "tags": []
   },
   "source": [
    "**Ordered Feature Scaling**"
   ]
  },
  {
   "cell_type": "code",
   "execution_count": 11,
   "id": "e3f7025d",
   "metadata": {
    "execution": {
     "iopub.execute_input": "2024-09-05T13:14:40.431333Z",
     "iopub.status.busy": "2024-09-05T13:14:40.430818Z",
     "iopub.status.idle": "2024-09-05T13:14:40.493309Z",
     "shell.execute_reply": "2024-09-05T13:14:40.492092Z"
    },
    "papermill": {
     "duration": 0.077588,
     "end_time": "2024-09-05T13:14:40.496271",
     "exception": false,
     "start_time": "2024-09-05T13:14:40.418683",
     "status": "completed"
    },
    "tags": []
   },
   "outputs": [],
   "source": [
    "from sklearn.preprocessing import MinMaxScaler\n",
    "\n",
    "ord_features = ['ord_' + str(i) for i in range(6)]\n",
    "# normalize min-max\n",
    "all_data[ord_features] = MinMaxScaler().fit_transform(all_data[ord_features])"
   ]
  },
  {
   "cell_type": "markdown",
   "id": "eef72987",
   "metadata": {
    "papermill": {
     "duration": 0.010253,
     "end_time": "2024-09-05T13:14:40.517244",
     "exception": false,
     "start_time": "2024-09-05T13:14:40.506991",
     "status": "completed"
    },
    "tags": []
   },
   "source": [
    "**Combining Encoded and Scaled Features**"
   ]
  },
  {
   "cell_type": "code",
   "execution_count": 12,
   "id": "50626dab",
   "metadata": {
    "execution": {
     "iopub.execute_input": "2024-09-05T13:14:40.540346Z",
     "iopub.status.busy": "2024-09-05T13:14:40.539875Z",
     "iopub.status.idle": "2024-09-05T13:14:40.920502Z",
     "shell.execute_reply": "2024-09-05T13:14:40.919204Z"
    },
    "papermill": {
     "duration": 0.395736,
     "end_time": "2024-09-05T13:14:40.923466",
     "exception": false,
     "start_time": "2024-09-05T13:14:40.527730",
     "status": "completed"
    },
    "tags": []
   },
   "outputs": [],
   "source": [
    "from scipy import sparse\n",
    "\n",
    "all_data_sprs = sparse.hstack([sparse.csr_matrix(all_data),\n",
    "                               encoded_nom_matrix,\n",
    "                               encoded_date_matrix],\n",
    "                               format = 'csr')"
   ]
  },
  {
   "cell_type": "code",
   "execution_count": 13,
   "id": "744bc4b9",
   "metadata": {
    "execution": {
     "iopub.execute_input": "2024-09-05T13:14:40.948321Z",
     "iopub.status.busy": "2024-09-05T13:14:40.947789Z",
     "iopub.status.idle": "2024-09-05T13:14:40.955668Z",
     "shell.execute_reply": "2024-09-05T13:14:40.954591Z"
    },
    "papermill": {
     "duration": 0.023699,
     "end_time": "2024-09-05T13:14:40.958223",
     "exception": false,
     "start_time": "2024-09-05T13:14:40.934524",
     "status": "completed"
    },
    "tags": []
   },
   "outputs": [
    {
     "data": {
      "text/plain": [
       "<Compressed Sparse Row sparse matrix of dtype 'float64'\n",
       "\twith 9163718 stored elements and shape (500000, 16306)>"
      ]
     },
     "execution_count": 13,
     "metadata": {},
     "output_type": "execute_result"
    }
   ],
   "source": [
    "all_data_sprs"
   ]
  },
  {
   "cell_type": "markdown",
   "id": "bbf5bd29",
   "metadata": {
    "papermill": {
     "duration": 0.010428,
     "end_time": "2024-09-05T13:14:40.980181",
     "exception": false,
     "start_time": "2024-09-05T13:14:40.969753",
     "status": "completed"
    },
    "tags": []
   },
   "source": [
    "**Separating Data**"
   ]
  },
  {
   "cell_type": "code",
   "execution_count": 14,
   "id": "4148ee03",
   "metadata": {
    "execution": {
     "iopub.execute_input": "2024-09-05T13:14:41.003845Z",
     "iopub.status.busy": "2024-09-05T13:14:41.003359Z",
     "iopub.status.idle": "2024-09-05T13:14:41.134350Z",
     "shell.execute_reply": "2024-09-05T13:14:41.133173Z"
    },
    "papermill": {
     "duration": 0.145958,
     "end_time": "2024-09-05T13:14:41.137146",
     "exception": false,
     "start_time": "2024-09-05T13:14:40.991188",
     "status": "completed"
    },
    "tags": []
   },
   "outputs": [],
   "source": [
    "num_train = len(train)\n",
    "\n",
    "# separate train & test data\n",
    "X_train = all_data_sprs[:num_train] # 0 ~ (num_train - 1)row\n",
    "X_test = all_data_sprs[num_train:] # num_train ~ last row\n",
    "\n",
    "y = train['target']"
   ]
  },
  {
   "cell_type": "code",
   "execution_count": 15,
   "id": "5a85d074",
   "metadata": {
    "execution": {
     "iopub.execute_input": "2024-09-05T13:14:41.160578Z",
     "iopub.status.busy": "2024-09-05T13:14:41.160108Z",
     "iopub.status.idle": "2024-09-05T13:14:41.473147Z",
     "shell.execute_reply": "2024-09-05T13:14:41.472072Z"
    },
    "papermill": {
     "duration": 0.328068,
     "end_time": "2024-09-05T13:14:41.476113",
     "exception": false,
     "start_time": "2024-09-05T13:14:41.148045",
     "status": "completed"
    },
    "tags": []
   },
   "outputs": [],
   "source": [
    "from sklearn.model_selection import train_test_split\n",
    "\n",
    "# separate train & validation data\n",
    "X_train, X_valid, y_train, y_valid = train_test_split(X_train, y,\n",
    "                                                      test_size=0.1,\n",
    "                                                      stratify=y,\n",
    "                                                      random_state=10)"
   ]
  },
  {
   "cell_type": "markdown",
   "id": "02c09faf",
   "metadata": {
    "papermill": {
     "duration": 0.010365,
     "end_time": "2024-09-05T13:14:41.497344",
     "exception": false,
     "start_time": "2024-09-05T13:14:41.486979",
     "status": "completed"
    },
    "tags": []
   },
   "source": [
    "## Optimizing Hyper Parameter"
   ]
  },
  {
   "cell_type": "code",
   "execution_count": 16,
   "id": "4d902226",
   "metadata": {
    "execution": {
     "iopub.execute_input": "2024-09-05T13:14:41.520937Z",
     "iopub.status.busy": "2024-09-05T13:14:41.520451Z",
     "iopub.status.idle": "2024-09-05T13:22:02.642658Z",
     "shell.execute_reply": "2024-09-05T13:22:02.641274Z"
    },
    "papermill": {
     "duration": 441.141971,
     "end_time": "2024-09-05T13:22:02.650087",
     "exception": false,
     "start_time": "2024-09-05T13:14:41.508116",
     "status": "completed"
    },
    "tags": []
   },
   "outputs": [
    {
     "name": "stdout",
     "output_type": "stream",
     "text": [
      "Optimized hyper parameter: {'C': 0.125, 'max_iter': 800, 'random_state': 42, 'solver': 'liblinear'}\n",
      "CPU times: user 28min 3s, sys: 4.15 s, total: 28min 7s\n",
      "Wall time: 7min 21s\n"
     ]
    }
   ],
   "source": [
    "%%time\n",
    "\n",
    "from sklearn.model_selection import GridSearchCV\n",
    "from sklearn.linear_model import LogisticRegression\n",
    "\n",
    "# create Logistic Regression model\n",
    "logistic_model = LogisticRegression()\n",
    "\n",
    "# hyper parameter vals\n",
    "lr_params = {'C': [0.1, 0.125, 0.2], 'max_iter':[800, 900, 1000], 'solver':['liblinear'], 'random_state': [42]}\n",
    "\n",
    "# create grid search object\n",
    "gridsearch_logistic_model = GridSearchCV(estimator = logistic_model, param_grid = lr_params, scoring = 'roc_auc', cv = 5)\n",
    "\n",
    "# perform grid search\n",
    "gridsearch_logistic_model.fit(X_train, y_train)\n",
    "\n",
    "print('Optimized hyper parameter:', gridsearch_logistic_model.best_params_)"
   ]
  },
  {
   "cell_type": "markdown",
   "id": "a91cf584",
   "metadata": {
    "papermill": {
     "duration": 0.011088,
     "end_time": "2024-09-05T13:22:02.674279",
     "exception": false,
     "start_time": "2024-09-05T13:22:02.663191",
     "status": "completed"
    },
    "tags": []
   },
   "source": [
    "## Validating Model Performance"
   ]
  },
  {
   "cell_type": "code",
   "execution_count": 17,
   "id": "a922b156",
   "metadata": {
    "execution": {
     "iopub.execute_input": "2024-09-05T13:22:02.697822Z",
     "iopub.status.busy": "2024-09-05T13:22:02.697359Z",
     "iopub.status.idle": "2024-09-05T13:22:02.705428Z",
     "shell.execute_reply": "2024-09-05T13:22:02.704433Z"
    },
    "papermill": {
     "duration": 0.022934,
     "end_time": "2024-09-05T13:22:02.708028",
     "exception": false,
     "start_time": "2024-09-05T13:22:02.685094",
     "status": "completed"
    },
    "tags": []
   },
   "outputs": [],
   "source": [
    "y_valid_preds = gridsearch_logistic_model.predict_proba(X_valid)[:, 1]"
   ]
  },
  {
   "cell_type": "code",
   "execution_count": 18,
   "id": "646da042",
   "metadata": {
    "execution": {
     "iopub.execute_input": "2024-09-05T13:22:02.732070Z",
     "iopub.status.busy": "2024-09-05T13:22:02.731186Z",
     "iopub.status.idle": "2024-09-05T13:22:02.750996Z",
     "shell.execute_reply": "2024-09-05T13:22:02.749474Z"
    },
    "papermill": {
     "duration": 0.034945,
     "end_time": "2024-09-05T13:22:02.753913",
     "exception": false,
     "start_time": "2024-09-05T13:22:02.718968",
     "status": "completed"
    },
    "tags": []
   },
   "outputs": [
    {
     "name": "stdout",
     "output_type": "stream",
     "text": [
      "validation data ROC AUC: 0.8045\n"
     ]
    }
   ],
   "source": [
    "from sklearn.metrics import roc_auc_score \n",
    "\n",
    "# validation data ROC AUC\n",
    "roc_auc = roc_auc_score(y_valid, y_valid_preds)\n",
    "\n",
    "print(f'validation data ROC AUC: {roc_auc:.4f}' )"
   ]
  },
  {
   "cell_type": "markdown",
   "id": "3af2b60b",
   "metadata": {
    "papermill": {
     "duration": 0.010682,
     "end_time": "2024-09-05T13:22:02.775484",
     "exception": false,
     "start_time": "2024-09-05T13:22:02.764802",
     "status": "completed"
    },
    "tags": []
   },
   "source": [
    "## Submitting Prediction and Result"
   ]
  },
  {
   "cell_type": "code",
   "execution_count": 19,
   "id": "9a4901a2",
   "metadata": {
    "execution": {
     "iopub.execute_input": "2024-09-05T13:22:02.800996Z",
     "iopub.status.busy": "2024-09-05T13:22:02.800537Z",
     "iopub.status.idle": "2024-09-05T13:22:03.463692Z",
     "shell.execute_reply": "2024-09-05T13:22:03.462582Z"
    },
    "papermill": {
     "duration": 0.678386,
     "end_time": "2024-09-05T13:22:03.466580",
     "exception": false,
     "start_time": "2024-09-05T13:22:02.788194",
     "status": "completed"
    },
    "tags": []
   },
   "outputs": [],
   "source": [
    "# predict prob that target is 1\n",
    "y_preds = gridsearch_logistic_model.best_estimator_.predict_proba(X_test)[:, 1]\n",
    "\n",
    "submission['target'] = y_preds\n",
    "submission.to_csv('submission.csv')"
   ]
  },
  {
   "cell_type": "code",
   "execution_count": null,
   "id": "d00a543d",
   "metadata": {
    "papermill": {
     "duration": 0.010632,
     "end_time": "2024-09-05T13:22:03.488338",
     "exception": false,
     "start_time": "2024-09-05T13:22:03.477706",
     "status": "completed"
    },
    "tags": []
   },
   "outputs": [],
   "source": []
  }
 ],
 "metadata": {
  "kaggle": {
   "accelerator": "none",
   "dataSources": [
    {
     "databundleVersionId": 653984,
     "sourceId": 14999,
     "sourceType": "competition"
    }
   ],
   "dockerImageVersionId": 30761,
   "isGpuEnabled": false,
   "isInternetEnabled": true,
   "language": "python",
   "sourceType": "notebook"
  },
  "kernelspec": {
   "display_name": "Python 3",
   "language": "python",
   "name": "python3"
  },
  "language_info": {
   "codemirror_mode": {
    "name": "ipython",
    "version": 3
   },
   "file_extension": ".py",
   "mimetype": "text/x-python",
   "name": "python",
   "nbconvert_exporter": "python",
   "pygments_lexer": "ipython3",
   "version": "3.10.14"
  },
  "papermill": {
   "default_parameters": {},
   "duration": 455.930138,
   "end_time": "2024-09-05T13:22:04.223239",
   "environment_variables": {},
   "exception": null,
   "input_path": "__notebook__.ipynb",
   "output_path": "__notebook__.ipynb",
   "parameters": {},
   "start_time": "2024-09-05T13:14:28.293101",
   "version": "2.6.0"
  }
 },
 "nbformat": 4,
 "nbformat_minor": 5
}
