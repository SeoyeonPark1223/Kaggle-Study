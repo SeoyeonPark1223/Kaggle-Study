{
 "cells": [
  {
   "cell_type": "markdown",
   "id": "641e9671",
   "metadata": {
    "papermill": {
     "duration": 0.008584,
     "end_time": "2024-09-05T12:26:32.850191",
     "exception": false,
     "start_time": "2024-09-05T12:26:32.841607",
     "status": "completed"
    },
    "tags": []
   },
   "source": [
    "# Categorical Feature Encoding Challenge - Baseline"
   ]
  },
  {
   "cell_type": "markdown",
   "id": "797d7add",
   "metadata": {
    "papermill": {
     "duration": 0.007787,
     "end_time": "2024-09-05T12:26:32.867097",
     "exception": false,
     "start_time": "2024-09-05T12:26:32.859310",
     "status": "completed"
    },
    "tags": []
   },
   "source": [
    "Tutorial link -> https://www.kaggle.com/code/werooring/ch7-baseline "
   ]
  },
  {
   "cell_type": "code",
   "execution_count": 1,
   "id": "48418335",
   "metadata": {
    "_cell_guid": "b1076dfc-b9ad-4769-8c92-a6c4dae69d19",
    "_uuid": "8f2839f25d086af736a60e9eeb907d3b93b6e0e5",
    "execution": {
     "iopub.execute_input": "2024-09-05T12:26:32.885544Z",
     "iopub.status.busy": "2024-09-05T12:26:32.885063Z",
     "iopub.status.idle": "2024-09-05T12:26:33.376213Z",
     "shell.execute_reply": "2024-09-05T12:26:33.374317Z"
    },
    "papermill": {
     "duration": 0.504328,
     "end_time": "2024-09-05T12:26:33.379435",
     "exception": false,
     "start_time": "2024-09-05T12:26:32.875107",
     "status": "completed"
    },
    "tags": []
   },
   "outputs": [
    {
     "name": "stdout",
     "output_type": "stream",
     "text": [
      "/kaggle/input/cat-in-the-dat/sample_submission.csv\n",
      "/kaggle/input/cat-in-the-dat/train.csv\n",
      "/kaggle/input/cat-in-the-dat/test.csv\n"
     ]
    }
   ],
   "source": [
    "# This Python 3 environment comes with many helpful analytics libraries installed\n",
    "# It is defined by the kaggle/python Docker image: https://github.com/kaggle/docker-python\n",
    "# For example, here's several helpful packages to load\n",
    "\n",
    "import numpy as np # linear algebra\n",
    "import pandas as pd # data processing, CSV file I/O (e.g. pd.read_csv)\n",
    "\n",
    "# Input data files are available in the read-only \"../input/\" directory\n",
    "# For example, running this (by clicking run or pressing Shift+Enter) will list all files under the input directory\n",
    "\n",
    "import os\n",
    "for dirname, _, filenames in os.walk('/kaggle/input'):\n",
    "    for filename in filenames:\n",
    "        print(os.path.join(dirname, filename))\n",
    "\n",
    "# You can write up to 20GB to the current directory (/kaggle/working/) that gets preserved as output when you create a version using \"Save & Run All\" \n",
    "# You can also write temporary files to /kaggle/temp/, but they won't be saved outside of the current session"
   ]
  },
  {
   "cell_type": "code",
   "execution_count": 2,
   "id": "894bcf75",
   "metadata": {
    "execution": {
     "iopub.execute_input": "2024-09-05T12:26:33.397426Z",
     "iopub.status.busy": "2024-09-05T12:26:33.396827Z",
     "iopub.status.idle": "2024-09-05T12:26:37.053784Z",
     "shell.execute_reply": "2024-09-05T12:26:37.052400Z"
    },
    "papermill": {
     "duration": 3.669201,
     "end_time": "2024-09-05T12:26:37.056886",
     "exception": false,
     "start_time": "2024-09-05T12:26:33.387685",
     "status": "completed"
    },
    "tags": []
   },
   "outputs": [],
   "source": [
    "data_path = '/kaggle/input/cat-in-the-dat/'\n",
    "\n",
    "train = pd.read_csv(data_path + 'train.csv', index_col='id')\n",
    "test = pd.read_csv(data_path + 'test.csv', index_col='id')\n",
    "submission = pd.read_csv(data_path + 'sample_submission.csv', index_col='id')"
   ]
  },
  {
   "cell_type": "markdown",
   "id": "c2fa84ab",
   "metadata": {
    "papermill": {
     "duration": 0.007355,
     "end_time": "2024-09-05T12:26:37.072606",
     "exception": false,
     "start_time": "2024-09-05T12:26:37.065251",
     "status": "completed"
    },
    "tags": []
   },
   "source": [
    "## Feature Engineering"
   ]
  },
  {
   "cell_type": "markdown",
   "id": "9df0854f",
   "metadata": {
    "papermill": {
     "duration": 0.00712,
     "end_time": "2024-09-05T12:26:37.087649",
     "exception": false,
     "start_time": "2024-09-05T12:26:37.080529",
     "status": "completed"
    },
    "tags": []
   },
   "source": [
    "**Combining Data**"
   ]
  },
  {
   "cell_type": "code",
   "execution_count": 3,
   "id": "0ab49933",
   "metadata": {
    "execution": {
     "iopub.execute_input": "2024-09-05T12:26:37.104766Z",
     "iopub.status.busy": "2024-09-05T12:26:37.104352Z",
     "iopub.status.idle": "2024-09-05T12:26:38.093081Z",
     "shell.execute_reply": "2024-09-05T12:26:38.091715Z"
    },
    "papermill": {
     "duration": 1.000967,
     "end_time": "2024-09-05T12:26:38.096162",
     "exception": false,
     "start_time": "2024-09-05T12:26:37.095195",
     "status": "completed"
    },
    "tags": []
   },
   "outputs": [
    {
     "data": {
      "text/html": [
       "<div>\n",
       "<style scoped>\n",
       "    .dataframe tbody tr th:only-of-type {\n",
       "        vertical-align: middle;\n",
       "    }\n",
       "\n",
       "    .dataframe tbody tr th {\n",
       "        vertical-align: top;\n",
       "    }\n",
       "\n",
       "    .dataframe thead th {\n",
       "        text-align: right;\n",
       "    }\n",
       "</style>\n",
       "<table border=\"1\" class=\"dataframe\">\n",
       "  <thead>\n",
       "    <tr style=\"text-align: right;\">\n",
       "      <th></th>\n",
       "      <th>bin_0</th>\n",
       "      <th>bin_1</th>\n",
       "      <th>bin_2</th>\n",
       "      <th>bin_3</th>\n",
       "      <th>bin_4</th>\n",
       "      <th>nom_0</th>\n",
       "      <th>nom_1</th>\n",
       "      <th>nom_2</th>\n",
       "      <th>nom_3</th>\n",
       "      <th>nom_4</th>\n",
       "      <th>...</th>\n",
       "      <th>nom_8</th>\n",
       "      <th>nom_9</th>\n",
       "      <th>ord_0</th>\n",
       "      <th>ord_1</th>\n",
       "      <th>ord_2</th>\n",
       "      <th>ord_3</th>\n",
       "      <th>ord_4</th>\n",
       "      <th>ord_5</th>\n",
       "      <th>day</th>\n",
       "      <th>month</th>\n",
       "    </tr>\n",
       "    <tr>\n",
       "      <th>id</th>\n",
       "      <th></th>\n",
       "      <th></th>\n",
       "      <th></th>\n",
       "      <th></th>\n",
       "      <th></th>\n",
       "      <th></th>\n",
       "      <th></th>\n",
       "      <th></th>\n",
       "      <th></th>\n",
       "      <th></th>\n",
       "      <th></th>\n",
       "      <th></th>\n",
       "      <th></th>\n",
       "      <th></th>\n",
       "      <th></th>\n",
       "      <th></th>\n",
       "      <th></th>\n",
       "      <th></th>\n",
       "      <th></th>\n",
       "      <th></th>\n",
       "      <th></th>\n",
       "    </tr>\n",
       "  </thead>\n",
       "  <tbody>\n",
       "    <tr>\n",
       "      <th>0</th>\n",
       "      <td>0</td>\n",
       "      <td>0</td>\n",
       "      <td>0</td>\n",
       "      <td>T</td>\n",
       "      <td>Y</td>\n",
       "      <td>Green</td>\n",
       "      <td>Triangle</td>\n",
       "      <td>Snake</td>\n",
       "      <td>Finland</td>\n",
       "      <td>Bassoon</td>\n",
       "      <td>...</td>\n",
       "      <td>c389000ab</td>\n",
       "      <td>2f4cb3d51</td>\n",
       "      <td>2</td>\n",
       "      <td>Grandmaster</td>\n",
       "      <td>Cold</td>\n",
       "      <td>h</td>\n",
       "      <td>D</td>\n",
       "      <td>kr</td>\n",
       "      <td>2</td>\n",
       "      <td>2</td>\n",
       "    </tr>\n",
       "    <tr>\n",
       "      <th>1</th>\n",
       "      <td>0</td>\n",
       "      <td>1</td>\n",
       "      <td>0</td>\n",
       "      <td>T</td>\n",
       "      <td>Y</td>\n",
       "      <td>Green</td>\n",
       "      <td>Trapezoid</td>\n",
       "      <td>Hamster</td>\n",
       "      <td>Russia</td>\n",
       "      <td>Piano</td>\n",
       "      <td>...</td>\n",
       "      <td>4cd920251</td>\n",
       "      <td>f83c56c21</td>\n",
       "      <td>1</td>\n",
       "      <td>Grandmaster</td>\n",
       "      <td>Hot</td>\n",
       "      <td>a</td>\n",
       "      <td>A</td>\n",
       "      <td>bF</td>\n",
       "      <td>7</td>\n",
       "      <td>8</td>\n",
       "    </tr>\n",
       "    <tr>\n",
       "      <th>2</th>\n",
       "      <td>0</td>\n",
       "      <td>0</td>\n",
       "      <td>0</td>\n",
       "      <td>F</td>\n",
       "      <td>Y</td>\n",
       "      <td>Blue</td>\n",
       "      <td>Trapezoid</td>\n",
       "      <td>Lion</td>\n",
       "      <td>Russia</td>\n",
       "      <td>Theremin</td>\n",
       "      <td>...</td>\n",
       "      <td>de9c9f684</td>\n",
       "      <td>ae6800dd0</td>\n",
       "      <td>1</td>\n",
       "      <td>Expert</td>\n",
       "      <td>Lava Hot</td>\n",
       "      <td>h</td>\n",
       "      <td>R</td>\n",
       "      <td>Jc</td>\n",
       "      <td>7</td>\n",
       "      <td>2</td>\n",
       "    </tr>\n",
       "    <tr>\n",
       "      <th>3</th>\n",
       "      <td>0</td>\n",
       "      <td>1</td>\n",
       "      <td>0</td>\n",
       "      <td>F</td>\n",
       "      <td>Y</td>\n",
       "      <td>Red</td>\n",
       "      <td>Trapezoid</td>\n",
       "      <td>Snake</td>\n",
       "      <td>Canada</td>\n",
       "      <td>Oboe</td>\n",
       "      <td>...</td>\n",
       "      <td>4ade6ab69</td>\n",
       "      <td>8270f0d71</td>\n",
       "      <td>1</td>\n",
       "      <td>Grandmaster</td>\n",
       "      <td>Boiling Hot</td>\n",
       "      <td>i</td>\n",
       "      <td>D</td>\n",
       "      <td>kW</td>\n",
       "      <td>2</td>\n",
       "      <td>1</td>\n",
       "    </tr>\n",
       "    <tr>\n",
       "      <th>4</th>\n",
       "      <td>0</td>\n",
       "      <td>0</td>\n",
       "      <td>0</td>\n",
       "      <td>F</td>\n",
       "      <td>N</td>\n",
       "      <td>Red</td>\n",
       "      <td>Trapezoid</td>\n",
       "      <td>Lion</td>\n",
       "      <td>Canada</td>\n",
       "      <td>Oboe</td>\n",
       "      <td>...</td>\n",
       "      <td>cb43ab175</td>\n",
       "      <td>b164b72a7</td>\n",
       "      <td>1</td>\n",
       "      <td>Grandmaster</td>\n",
       "      <td>Freezing</td>\n",
       "      <td>a</td>\n",
       "      <td>R</td>\n",
       "      <td>qP</td>\n",
       "      <td>7</td>\n",
       "      <td>8</td>\n",
       "    </tr>\n",
       "    <tr>\n",
       "      <th>...</th>\n",
       "      <td>...</td>\n",
       "      <td>...</td>\n",
       "      <td>...</td>\n",
       "      <td>...</td>\n",
       "      <td>...</td>\n",
       "      <td>...</td>\n",
       "      <td>...</td>\n",
       "      <td>...</td>\n",
       "      <td>...</td>\n",
       "      <td>...</td>\n",
       "      <td>...</td>\n",
       "      <td>...</td>\n",
       "      <td>...</td>\n",
       "      <td>...</td>\n",
       "      <td>...</td>\n",
       "      <td>...</td>\n",
       "      <td>...</td>\n",
       "      <td>...</td>\n",
       "      <td>...</td>\n",
       "      <td>...</td>\n",
       "      <td>...</td>\n",
       "    </tr>\n",
       "    <tr>\n",
       "      <th>499995</th>\n",
       "      <td>0</td>\n",
       "      <td>0</td>\n",
       "      <td>0</td>\n",
       "      <td>F</td>\n",
       "      <td>N</td>\n",
       "      <td>Green</td>\n",
       "      <td>Square</td>\n",
       "      <td>Lion</td>\n",
       "      <td>Canada</td>\n",
       "      <td>Theremin</td>\n",
       "      <td>...</td>\n",
       "      <td>9e4b23160</td>\n",
       "      <td>acc31291f</td>\n",
       "      <td>1</td>\n",
       "      <td>Novice</td>\n",
       "      <td>Lava Hot</td>\n",
       "      <td>j</td>\n",
       "      <td>A</td>\n",
       "      <td>Gb</td>\n",
       "      <td>1</td>\n",
       "      <td>3</td>\n",
       "    </tr>\n",
       "    <tr>\n",
       "      <th>499996</th>\n",
       "      <td>1</td>\n",
       "      <td>0</td>\n",
       "      <td>0</td>\n",
       "      <td>F</td>\n",
       "      <td>Y</td>\n",
       "      <td>Green</td>\n",
       "      <td>Trapezoid</td>\n",
       "      <td>Lion</td>\n",
       "      <td>China</td>\n",
       "      <td>Piano</td>\n",
       "      <td>...</td>\n",
       "      <td>cfbd87ed0</td>\n",
       "      <td>eae3446d0</td>\n",
       "      <td>1</td>\n",
       "      <td>Contributor</td>\n",
       "      <td>Lava Hot</td>\n",
       "      <td>f</td>\n",
       "      <td>S</td>\n",
       "      <td>Ed</td>\n",
       "      <td>2</td>\n",
       "      <td>2</td>\n",
       "    </tr>\n",
       "    <tr>\n",
       "      <th>499997</th>\n",
       "      <td>0</td>\n",
       "      <td>1</td>\n",
       "      <td>1</td>\n",
       "      <td>T</td>\n",
       "      <td>Y</td>\n",
       "      <td>Green</td>\n",
       "      <td>Trapezoid</td>\n",
       "      <td>Lion</td>\n",
       "      <td>Canada</td>\n",
       "      <td>Oboe</td>\n",
       "      <td>...</td>\n",
       "      <td>1108bcd6c</td>\n",
       "      <td>33dd3cf4b</td>\n",
       "      <td>1</td>\n",
       "      <td>Novice</td>\n",
       "      <td>Boiling Hot</td>\n",
       "      <td>g</td>\n",
       "      <td>V</td>\n",
       "      <td>TR</td>\n",
       "      <td>3</td>\n",
       "      <td>1</td>\n",
       "    </tr>\n",
       "    <tr>\n",
       "      <th>499998</th>\n",
       "      <td>1</td>\n",
       "      <td>0</td>\n",
       "      <td>0</td>\n",
       "      <td>T</td>\n",
       "      <td>Y</td>\n",
       "      <td>Blue</td>\n",
       "      <td>Star</td>\n",
       "      <td>Hamster</td>\n",
       "      <td>Costa Rica</td>\n",
       "      <td>Bassoon</td>\n",
       "      <td>...</td>\n",
       "      <td>606ac930b</td>\n",
       "      <td>d4cf587dd</td>\n",
       "      <td>2</td>\n",
       "      <td>Grandmaster</td>\n",
       "      <td>Boiling Hot</td>\n",
       "      <td>g</td>\n",
       "      <td>X</td>\n",
       "      <td>Ye</td>\n",
       "      <td>2</td>\n",
       "      <td>1</td>\n",
       "    </tr>\n",
       "    <tr>\n",
       "      <th>499999</th>\n",
       "      <td>0</td>\n",
       "      <td>0</td>\n",
       "      <td>0</td>\n",
       "      <td>T</td>\n",
       "      <td>Y</td>\n",
       "      <td>Green</td>\n",
       "      <td>Star</td>\n",
       "      <td>Lion</td>\n",
       "      <td>India</td>\n",
       "      <td>Piano</td>\n",
       "      <td>...</td>\n",
       "      <td>4ea576eb6</td>\n",
       "      <td>2d610f52c</td>\n",
       "      <td>2</td>\n",
       "      <td>Novice</td>\n",
       "      <td>Freezing</td>\n",
       "      <td>l</td>\n",
       "      <td>J</td>\n",
       "      <td>ex</td>\n",
       "      <td>2</td>\n",
       "      <td>2</td>\n",
       "    </tr>\n",
       "  </tbody>\n",
       "</table>\n",
       "<p>500000 rows × 23 columns</p>\n",
       "</div>"
      ],
      "text/plain": [
       "        bin_0  bin_1  bin_2 bin_3 bin_4  nom_0      nom_1    nom_2  \\\n",
       "id                                                                   \n",
       "0           0      0      0     T     Y  Green   Triangle    Snake   \n",
       "1           0      1      0     T     Y  Green  Trapezoid  Hamster   \n",
       "2           0      0      0     F     Y   Blue  Trapezoid     Lion   \n",
       "3           0      1      0     F     Y    Red  Trapezoid    Snake   \n",
       "4           0      0      0     F     N    Red  Trapezoid     Lion   \n",
       "...       ...    ...    ...   ...   ...    ...        ...      ...   \n",
       "499995      0      0      0     F     N  Green     Square     Lion   \n",
       "499996      1      0      0     F     Y  Green  Trapezoid     Lion   \n",
       "499997      0      1      1     T     Y  Green  Trapezoid     Lion   \n",
       "499998      1      0      0     T     Y   Blue       Star  Hamster   \n",
       "499999      0      0      0     T     Y  Green       Star     Lion   \n",
       "\n",
       "             nom_3     nom_4  ...      nom_8      nom_9 ord_0        ord_1  \\\n",
       "id                            ...                                            \n",
       "0          Finland   Bassoon  ...  c389000ab  2f4cb3d51     2  Grandmaster   \n",
       "1           Russia     Piano  ...  4cd920251  f83c56c21     1  Grandmaster   \n",
       "2           Russia  Theremin  ...  de9c9f684  ae6800dd0     1       Expert   \n",
       "3           Canada      Oboe  ...  4ade6ab69  8270f0d71     1  Grandmaster   \n",
       "4           Canada      Oboe  ...  cb43ab175  b164b72a7     1  Grandmaster   \n",
       "...            ...       ...  ...        ...        ...   ...          ...   \n",
       "499995      Canada  Theremin  ...  9e4b23160  acc31291f     1       Novice   \n",
       "499996       China     Piano  ...  cfbd87ed0  eae3446d0     1  Contributor   \n",
       "499997      Canada      Oboe  ...  1108bcd6c  33dd3cf4b     1       Novice   \n",
       "499998  Costa Rica   Bassoon  ...  606ac930b  d4cf587dd     2  Grandmaster   \n",
       "499999       India     Piano  ...  4ea576eb6  2d610f52c     2       Novice   \n",
       "\n",
       "              ord_2  ord_3 ord_4 ord_5 day month  \n",
       "id                                                \n",
       "0              Cold      h     D    kr   2     2  \n",
       "1               Hot      a     A    bF   7     8  \n",
       "2          Lava Hot      h     R    Jc   7     2  \n",
       "3       Boiling Hot      i     D    kW   2     1  \n",
       "4          Freezing      a     R    qP   7     8  \n",
       "...             ...    ...   ...   ...  ..   ...  \n",
       "499995     Lava Hot      j     A    Gb   1     3  \n",
       "499996     Lava Hot      f     S    Ed   2     2  \n",
       "499997  Boiling Hot      g     V    TR   3     1  \n",
       "499998  Boiling Hot      g     X    Ye   2     1  \n",
       "499999     Freezing      l     J    ex   2     2  \n",
       "\n",
       "[500000 rows x 23 columns]"
      ]
     },
     "execution_count": 3,
     "metadata": {},
     "output_type": "execute_result"
    }
   ],
   "source": [
    "all_data = pd.concat([train, test]) # combining train & test set\n",
    "all_data = all_data.drop('target', axis=1) # drop target val\n",
    "all_data"
   ]
  },
  {
   "cell_type": "markdown",
   "id": "01db078c",
   "metadata": {
    "papermill": {
     "duration": 0.008728,
     "end_time": "2024-09-05T12:26:38.113643",
     "exception": false,
     "start_time": "2024-09-05T12:26:38.104915",
     "status": "completed"
    },
    "tags": []
   },
   "source": [
    "**One Hot Encoding**\n",
    "- transform categorical data into a format that can be provided to algorithms that require numerical input\n",
    "- categorical data, such as names of cities, colors, or other non-numerical variables, needs to be converted into a numerical form before being used in models -> use one hot encoding method"
   ]
  },
  {
   "cell_type": "code",
   "execution_count": 4,
   "id": "93ac568b",
   "metadata": {
    "execution": {
     "iopub.execute_input": "2024-09-05T12:26:38.132703Z",
     "iopub.status.busy": "2024-09-05T12:26:38.132256Z",
     "iopub.status.idle": "2024-09-05T12:26:43.682143Z",
     "shell.execute_reply": "2024-09-05T12:26:43.680559Z"
    },
    "papermill": {
     "duration": 5.562947,
     "end_time": "2024-09-05T12:26:43.685243",
     "exception": false,
     "start_time": "2024-09-05T12:26:38.122296",
     "status": "completed"
    },
    "tags": []
   },
   "outputs": [],
   "source": [
    "from sklearn.preprocessing import OneHotEncoder\n",
    "\n",
    "encoder = OneHotEncoder() # one-hot encoder\n",
    "all_data_encoded = encoder.fit_transform(all_data) # apply one-hot encoding"
   ]
  },
  {
   "cell_type": "markdown",
   "id": "fbbe3ab8",
   "metadata": {
    "papermill": {
     "duration": 0.007944,
     "end_time": "2024-09-05T12:26:43.701963",
     "exception": false,
     "start_time": "2024-09-05T12:26:43.694019",
     "status": "completed"
    },
    "tags": []
   },
   "source": [
    "**Separating Data**"
   ]
  },
  {
   "cell_type": "code",
   "execution_count": 5,
   "id": "19930165",
   "metadata": {
    "execution": {
     "iopub.execute_input": "2024-09-05T12:26:43.720792Z",
     "iopub.status.busy": "2024-09-05T12:26:43.720141Z",
     "iopub.status.idle": "2024-09-05T12:26:43.946448Z",
     "shell.execute_reply": "2024-09-05T12:26:43.945045Z"
    },
    "papermill": {
     "duration": 0.239398,
     "end_time": "2024-09-05T12:26:43.949305",
     "exception": false,
     "start_time": "2024-09-05T12:26:43.709907",
     "status": "completed"
    },
    "tags": []
   },
   "outputs": [],
   "source": [
    "num_train = len(train) \n",
    "\n",
    "# separate train & test data\n",
    "X_train = all_data_encoded[:num_train] # 0 ~ (num_train - 1)row\n",
    "X_test = all_data_encoded[num_train:] # num_train ~ last row\n",
    "\n",
    "y = train['target']"
   ]
  },
  {
   "cell_type": "code",
   "execution_count": 6,
   "id": "33697442",
   "metadata": {
    "execution": {
     "iopub.execute_input": "2024-09-05T12:26:43.967436Z",
     "iopub.status.busy": "2024-09-05T12:26:43.966972Z",
     "iopub.status.idle": "2024-09-05T12:26:44.312872Z",
     "shell.execute_reply": "2024-09-05T12:26:44.311449Z"
    },
    "papermill": {
     "duration": 0.358724,
     "end_time": "2024-09-05T12:26:44.316096",
     "exception": false,
     "start_time": "2024-09-05T12:26:43.957372",
     "status": "completed"
    },
    "tags": []
   },
   "outputs": [],
   "source": [
    "from sklearn.model_selection import train_test_split\n",
    "\n",
    "# separate train & validation data\n",
    "X_train, X_valid, y_train, y_valid = train_test_split(X_train, y,\n",
    "                                                      test_size=0.1,\n",
    "                                                      stratify=y,\n",
    "                                                      random_state=10)"
   ]
  },
  {
   "cell_type": "markdown",
   "id": "2f8a6511",
   "metadata": {
    "papermill": {
     "duration": 0.00796,
     "end_time": "2024-09-05T12:26:44.332350",
     "exception": false,
     "start_time": "2024-09-05T12:26:44.324390",
     "status": "completed"
    },
    "tags": []
   },
   "source": [
    "## Training Data"
   ]
  },
  {
   "cell_type": "code",
   "execution_count": 7,
   "id": "44b788f2",
   "metadata": {
    "execution": {
     "iopub.execute_input": "2024-09-05T12:26:44.351285Z",
     "iopub.status.busy": "2024-09-05T12:26:44.350845Z",
     "iopub.status.idle": "2024-09-05T12:28:22.553580Z",
     "shell.execute_reply": "2024-09-05T12:28:22.552335Z"
    },
    "papermill": {
     "duration": 98.235138,
     "end_time": "2024-09-05T12:28:22.576282",
     "exception": false,
     "start_time": "2024-09-05T12:26:44.341144",
     "status": "completed"
    },
    "tags": []
   },
   "outputs": [
    {
     "data": {
      "text/html": [
       "<style>#sk-container-id-1 {color: black;background-color: white;}#sk-container-id-1 pre{padding: 0;}#sk-container-id-1 div.sk-toggleable {background-color: white;}#sk-container-id-1 label.sk-toggleable__label {cursor: pointer;display: block;width: 100%;margin-bottom: 0;padding: 0.3em;box-sizing: border-box;text-align: center;}#sk-container-id-1 label.sk-toggleable__label-arrow:before {content: \"▸\";float: left;margin-right: 0.25em;color: #696969;}#sk-container-id-1 label.sk-toggleable__label-arrow:hover:before {color: black;}#sk-container-id-1 div.sk-estimator:hover label.sk-toggleable__label-arrow:before {color: black;}#sk-container-id-1 div.sk-toggleable__content {max-height: 0;max-width: 0;overflow: hidden;text-align: left;background-color: #f0f8ff;}#sk-container-id-1 div.sk-toggleable__content pre {margin: 0.2em;color: black;border-radius: 0.25em;background-color: #f0f8ff;}#sk-container-id-1 input.sk-toggleable__control:checked~div.sk-toggleable__content {max-height: 200px;max-width: 100%;overflow: auto;}#sk-container-id-1 input.sk-toggleable__control:checked~label.sk-toggleable__label-arrow:before {content: \"▾\";}#sk-container-id-1 div.sk-estimator input.sk-toggleable__control:checked~label.sk-toggleable__label {background-color: #d4ebff;}#sk-container-id-1 div.sk-label input.sk-toggleable__control:checked~label.sk-toggleable__label {background-color: #d4ebff;}#sk-container-id-1 input.sk-hidden--visually {border: 0;clip: rect(1px 1px 1px 1px);clip: rect(1px, 1px, 1px, 1px);height: 1px;margin: -1px;overflow: hidden;padding: 0;position: absolute;width: 1px;}#sk-container-id-1 div.sk-estimator {font-family: monospace;background-color: #f0f8ff;border: 1px dotted black;border-radius: 0.25em;box-sizing: border-box;margin-bottom: 0.5em;}#sk-container-id-1 div.sk-estimator:hover {background-color: #d4ebff;}#sk-container-id-1 div.sk-parallel-item::after {content: \"\";width: 100%;border-bottom: 1px solid gray;flex-grow: 1;}#sk-container-id-1 div.sk-label:hover label.sk-toggleable__label {background-color: #d4ebff;}#sk-container-id-1 div.sk-serial::before {content: \"\";position: absolute;border-left: 1px solid gray;box-sizing: border-box;top: 0;bottom: 0;left: 50%;z-index: 0;}#sk-container-id-1 div.sk-serial {display: flex;flex-direction: column;align-items: center;background-color: white;padding-right: 0.2em;padding-left: 0.2em;position: relative;}#sk-container-id-1 div.sk-item {position: relative;z-index: 1;}#sk-container-id-1 div.sk-parallel {display: flex;align-items: stretch;justify-content: center;background-color: white;position: relative;}#sk-container-id-1 div.sk-item::before, #sk-container-id-1 div.sk-parallel-item::before {content: \"\";position: absolute;border-left: 1px solid gray;box-sizing: border-box;top: 0;bottom: 0;left: 50%;z-index: -1;}#sk-container-id-1 div.sk-parallel-item {display: flex;flex-direction: column;z-index: 1;position: relative;background-color: white;}#sk-container-id-1 div.sk-parallel-item:first-child::after {align-self: flex-end;width: 50%;}#sk-container-id-1 div.sk-parallel-item:last-child::after {align-self: flex-start;width: 50%;}#sk-container-id-1 div.sk-parallel-item:only-child::after {width: 0;}#sk-container-id-1 div.sk-dashed-wrapped {border: 1px dashed gray;margin: 0 0.4em 0.5em 0.4em;box-sizing: border-box;padding-bottom: 0.4em;background-color: white;}#sk-container-id-1 div.sk-label label {font-family: monospace;font-weight: bold;display: inline-block;line-height: 1.2em;}#sk-container-id-1 div.sk-label-container {text-align: center;}#sk-container-id-1 div.sk-container {/* jupyter's `normalize.less` sets `[hidden] { display: none; }` but bootstrap.min.css set `[hidden] { display: none !important; }` so we also need the `!important` here to be able to override the default hidden behavior on the sphinx rendered scikit-learn.org. See: https://github.com/scikit-learn/scikit-learn/issues/21755 */display: inline-block !important;position: relative;}#sk-container-id-1 div.sk-text-repr-fallback {display: none;}</style><div id=\"sk-container-id-1\" class=\"sk-top-container\"><div class=\"sk-text-repr-fallback\"><pre>LogisticRegression(max_iter=1000, random_state=42)</pre><b>In a Jupyter environment, please rerun this cell to show the HTML representation or trust the notebook. <br />On GitHub, the HTML representation is unable to render, please try loading this page with nbviewer.org.</b></div><div class=\"sk-container\" hidden><div class=\"sk-item\"><div class=\"sk-estimator sk-toggleable\"><input class=\"sk-toggleable__control sk-hidden--visually\" id=\"sk-estimator-id-1\" type=\"checkbox\" checked><label for=\"sk-estimator-id-1\" class=\"sk-toggleable__label sk-toggleable__label-arrow\">LogisticRegression</label><div class=\"sk-toggleable__content\"><pre>LogisticRegression(max_iter=1000, random_state=42)</pre></div></div></div></div></div>"
      ],
      "text/plain": [
       "LogisticRegression(max_iter=1000, random_state=42)"
      ]
     },
     "execution_count": 7,
     "metadata": {},
     "output_type": "execute_result"
    }
   ],
   "source": [
    "from sklearn.linear_model import LogisticRegression\n",
    "\n",
    "logistic_model = LogisticRegression(max_iter=1000, random_state=42) # create model\n",
    "logistic_model.fit(X_train, y_train) # train model"
   ]
  },
  {
   "cell_type": "markdown",
   "id": "ca1c4504",
   "metadata": {
    "papermill": {
     "duration": 0.011306,
     "end_time": "2024-09-05T12:28:22.623240",
     "exception": false,
     "start_time": "2024-09-05T12:28:22.611934",
     "status": "completed"
    },
    "tags": []
   },
   "source": [
    "## Validate Model Performance"
   ]
  },
  {
   "cell_type": "markdown",
   "id": "5d2930bb",
   "metadata": {
    "papermill": {
     "duration": 0.010962,
     "end_time": "2024-09-05T12:28:22.645435",
     "exception": false,
     "start_time": "2024-09-05T12:28:22.634473",
     "status": "completed"
    },
    "tags": []
   },
   "source": [
    "- Logistic Regression \n",
    "    - reference link: https://www.youtube.com/watch?v=yIYKR4sgzI8"
   ]
  },
  {
   "cell_type": "code",
   "execution_count": 8,
   "id": "9e77f1dc",
   "metadata": {
    "execution": {
     "iopub.execute_input": "2024-09-05T12:28:22.667225Z",
     "iopub.status.busy": "2024-09-05T12:28:22.666727Z",
     "iopub.status.idle": "2024-09-05T12:28:22.678433Z",
     "shell.execute_reply": "2024-09-05T12:28:22.676902Z"
    },
    "papermill": {
     "duration": 0.024668,
     "end_time": "2024-09-05T12:28:22.681320",
     "exception": false,
     "start_time": "2024-09-05T12:28:22.656652",
     "status": "completed"
    },
    "tags": []
   },
   "outputs": [
    {
     "data": {
      "text/plain": [
       "array([[0.2327445 , 0.7672555 ],\n",
       "       [0.91407413, 0.08592587],\n",
       "       [0.83020749, 0.16979251],\n",
       "       ...,\n",
       "       [0.24857411, 0.75142589],\n",
       "       [0.49402796, 0.50597204],\n",
       "       [0.95658053, 0.04341947]])"
      ]
     },
     "execution_count": 8,
     "metadata": {},
     "output_type": "execute_result"
    }
   ],
   "source": [
    "logistic_model.predict_proba(X_valid)"
   ]
  },
  {
   "cell_type": "code",
   "execution_count": 9,
   "id": "8e7a571f",
   "metadata": {
    "execution": {
     "iopub.execute_input": "2024-09-05T12:28:22.702902Z",
     "iopub.status.busy": "2024-09-05T12:28:22.701663Z",
     "iopub.status.idle": "2024-09-05T12:28:22.714103Z",
     "shell.execute_reply": "2024-09-05T12:28:22.712866Z"
    },
    "papermill": {
     "duration": 0.026642,
     "end_time": "2024-09-05T12:28:22.717287",
     "exception": false,
     "start_time": "2024-09-05T12:28:22.690645",
     "status": "completed"
    },
    "tags": []
   },
   "outputs": [
    {
     "data": {
      "text/plain": [
       "array([1, 0, 0, ..., 1, 1, 0])"
      ]
     },
     "execution_count": 9,
     "metadata": {},
     "output_type": "execute_result"
    }
   ],
   "source": [
    "logistic_model.predict(X_valid)"
   ]
  },
  {
   "cell_type": "code",
   "execution_count": 10,
   "id": "ce59d5fa",
   "metadata": {
    "execution": {
     "iopub.execute_input": "2024-09-05T12:28:22.737108Z",
     "iopub.status.busy": "2024-09-05T12:28:22.736660Z",
     "iopub.status.idle": "2024-09-05T12:28:22.745486Z",
     "shell.execute_reply": "2024-09-05T12:28:22.744175Z"
    },
    "papermill": {
     "duration": 0.0223,
     "end_time": "2024-09-05T12:28:22.748445",
     "exception": false,
     "start_time": "2024-09-05T12:28:22.726145",
     "status": "completed"
    },
    "tags": []
   },
   "outputs": [],
   "source": [
    "# predict target using validation data\n",
    "y_valid_preds = logistic_model.predict_proba(X_valid)[:, 1]"
   ]
  },
  {
   "cell_type": "code",
   "execution_count": 11,
   "id": "ff0cffbb",
   "metadata": {
    "execution": {
     "iopub.execute_input": "2024-09-05T12:28:22.768047Z",
     "iopub.status.busy": "2024-09-05T12:28:22.767585Z",
     "iopub.status.idle": "2024-09-05T12:28:22.790594Z",
     "shell.execute_reply": "2024-09-05T12:28:22.789009Z"
    },
    "papermill": {
     "duration": 0.036471,
     "end_time": "2024-09-05T12:28:22.793821",
     "exception": false,
     "start_time": "2024-09-05T12:28:22.757350",
     "status": "completed"
    },
    "tags": []
   },
   "outputs": [
    {
     "name": "stdout",
     "output_type": "stream",
     "text": [
      "validation data ROC AUC : 0.7965\n"
     ]
    }
   ],
   "source": [
    "from sklearn.metrics import roc_auc_score # ROC AUC \n",
    "\n",
    "# validation data ROC AUC\n",
    "roc_auc = roc_auc_score(y_valid, y_valid_preds)\n",
    "\n",
    "print(f'validation data ROC AUC : {roc_auc:.4f}')"
   ]
  },
  {
   "cell_type": "code",
   "execution_count": 12,
   "id": "31387a05",
   "metadata": {
    "execution": {
     "iopub.execute_input": "2024-09-05T12:28:22.814179Z",
     "iopub.status.busy": "2024-09-05T12:28:22.813710Z",
     "iopub.status.idle": "2024-09-05T12:28:22.833504Z",
     "shell.execute_reply": "2024-09-05T12:28:22.832078Z"
    },
    "papermill": {
     "duration": 0.033431,
     "end_time": "2024-09-05T12:28:22.836422",
     "exception": false,
     "start_time": "2024-09-05T12:28:22.802991",
     "status": "completed"
    },
    "tags": []
   },
   "outputs": [],
   "source": [
    "# predict whether the target is 1\n",
    "y_preds = logistic_model.predict_proba(X_test)[:, 1]"
   ]
  },
  {
   "cell_type": "code",
   "execution_count": 13,
   "id": "19b32aac",
   "metadata": {
    "execution": {
     "iopub.execute_input": "2024-09-05T12:28:22.857097Z",
     "iopub.status.busy": "2024-09-05T12:28:22.856386Z",
     "iopub.status.idle": "2024-09-05T12:28:23.527893Z",
     "shell.execute_reply": "2024-09-05T12:28:23.526457Z"
    },
    "papermill": {
     "duration": 0.685765,
     "end_time": "2024-09-05T12:28:23.531053",
     "exception": false,
     "start_time": "2024-09-05T12:28:22.845288",
     "status": "completed"
    },
    "tags": []
   },
   "outputs": [],
   "source": [
    "submission['target'] = y_preds\n",
    "submission.to_csv('submission.csv')"
   ]
  },
  {
   "cell_type": "code",
   "execution_count": null,
   "id": "624b40f9",
   "metadata": {
    "papermill": {
     "duration": 0.008684,
     "end_time": "2024-09-05T12:28:23.548562",
     "exception": false,
     "start_time": "2024-09-05T12:28:23.539878",
     "status": "completed"
    },
    "tags": []
   },
   "outputs": [],
   "source": []
  }
 ],
 "metadata": {
  "kaggle": {
   "accelerator": "none",
   "dataSources": [
    {
     "databundleVersionId": 653984,
     "sourceId": 14999,
     "sourceType": "competition"
    }
   ],
   "dockerImageVersionId": 30761,
   "isGpuEnabled": false,
   "isInternetEnabled": true,
   "language": "python",
   "sourceType": "notebook"
  },
  "kernelspec": {
   "display_name": "Python 3",
   "language": "python",
   "name": "python3"
  },
  "language_info": {
   "codemirror_mode": {
    "name": "ipython",
    "version": 3
   },
   "file_extension": ".py",
   "mimetype": "text/x-python",
   "name": "python",
   "nbconvert_exporter": "python",
   "pygments_lexer": "ipython3",
   "version": "3.10.14"
  },
  "papermill": {
   "default_parameters": {},
   "duration": 115.030907,
   "end_time": "2024-09-05T12:28:24.282249",
   "environment_variables": {},
   "exception": null,
   "input_path": "__notebook__.ipynb",
   "output_path": "__notebook__.ipynb",
   "parameters": {},
   "start_time": "2024-09-05T12:26:29.251342",
   "version": "2.6.0"
  }
 },
 "nbformat": 4,
 "nbformat_minor": 5
}
