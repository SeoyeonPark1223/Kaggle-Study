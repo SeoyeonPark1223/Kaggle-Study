{
 "cells": [
  {
   "cell_type": "markdown",
   "id": "059d6269",
   "metadata": {
    "papermill": {
     "duration": 0.01096,
     "end_time": "2024-09-05T13:45:30.654808",
     "exception": false,
     "start_time": "2024-09-05T13:45:30.643848",
     "status": "completed"
    },
    "tags": []
   },
   "source": [
    "# Categorical Feature Encoding Challenge - Modeling"
   ]
  },
  {
   "cell_type": "markdown",
   "id": "b6e25069",
   "metadata": {
    "papermill": {
     "duration": 0.009751,
     "end_time": "2024-09-05T13:45:30.675097",
     "exception": false,
     "start_time": "2024-09-05T13:45:30.665346",
     "status": "completed"
    },
    "tags": []
   },
   "source": [
    "Tutorial Link -> https://www.kaggle.com/code/werooring/ch7-modeling"
   ]
  },
  {
   "cell_type": "code",
   "execution_count": 1,
   "id": "45caa842",
   "metadata": {
    "_cell_guid": "b1076dfc-b9ad-4769-8c92-a6c4dae69d19",
    "_uuid": "8f2839f25d086af736a60e9eeb907d3b93b6e0e5",
    "execution": {
     "iopub.execute_input": "2024-09-05T13:45:30.697458Z",
     "iopub.status.busy": "2024-09-05T13:45:30.696978Z",
     "iopub.status.idle": "2024-09-05T13:45:31.588552Z",
     "shell.execute_reply": "2024-09-05T13:45:31.587186Z"
    },
    "papermill": {
     "duration": 0.905928,
     "end_time": "2024-09-05T13:45:31.591274",
     "exception": false,
     "start_time": "2024-09-05T13:45:30.685346",
     "status": "completed"
    },
    "tags": []
   },
   "outputs": [
    {
     "name": "stdout",
     "output_type": "stream",
     "text": [
      "/kaggle/input/cat-in-the-dat/sample_submission.csv\n",
      "/kaggle/input/cat-in-the-dat/train.csv\n",
      "/kaggle/input/cat-in-the-dat/test.csv\n"
     ]
    }
   ],
   "source": [
    "# This Python 3 environment comes with many helpful analytics libraries installed\n",
    "# It is defined by the kaggle/python Docker image: https://github.com/kaggle/docker-python\n",
    "# For example, here's several helpful packages to load\n",
    "\n",
    "import numpy as np # linear algebra\n",
    "import pandas as pd # data processing, CSV file I/O (e.g. pd.read_csv)\n",
    "\n",
    "# Input data files are available in the read-only \"../input/\" directory\n",
    "# For example, running this (by clicking run or pressing Shift+Enter) will list all files under the input directory\n",
    "\n",
    "import os\n",
    "for dirname, _, filenames in os.walk('/kaggle/input'):\n",
    "    for filename in filenames:\n",
    "        print(os.path.join(dirname, filename))\n",
    "\n",
    "# You can write up to 20GB to the current directory (/kaggle/working/) that gets preserved as output when you create a version using \"Save & Run All\" \n",
    "# You can also write temporary files to /kaggle/temp/, but they won't be saved outside of the current session"
   ]
  },
  {
   "cell_type": "code",
   "execution_count": 2,
   "id": "9d68f953",
   "metadata": {
    "execution": {
     "iopub.execute_input": "2024-09-05T13:45:31.614042Z",
     "iopub.status.busy": "2024-09-05T13:45:31.613460Z",
     "iopub.status.idle": "2024-09-05T13:45:35.453041Z",
     "shell.execute_reply": "2024-09-05T13:45:35.451795Z"
    },
    "papermill": {
     "duration": 3.854606,
     "end_time": "2024-09-05T13:45:35.456415",
     "exception": false,
     "start_time": "2024-09-05T13:45:31.601809",
     "status": "completed"
    },
    "tags": []
   },
   "outputs": [],
   "source": [
    "data_path = '/kaggle/input/cat-in-the-dat/'\n",
    "\n",
    "train = pd.read_csv(data_path + 'train.csv', index_col='id')\n",
    "test = pd.read_csv(data_path + 'test.csv', index_col='id')\n",
    "submission = pd.read_csv(data_path + 'sample_submission.csv', index_col='id')"
   ]
  },
  {
   "cell_type": "markdown",
   "id": "45295b46",
   "metadata": {
    "papermill": {
     "duration": 0.010123,
     "end_time": "2024-09-05T13:45:35.477052",
     "exception": false,
     "start_time": "2024-09-05T13:45:35.466929",
     "status": "completed"
    },
    "tags": []
   },
   "source": [
    "## Feature Engineering: Feature Encoding"
   ]
  },
  {
   "cell_type": "markdown",
   "id": "514960fe",
   "metadata": {
    "papermill": {
     "duration": 0.010089,
     "end_time": "2024-09-05T13:45:35.497904",
     "exception": false,
     "start_time": "2024-09-05T13:45:35.487815",
     "status": "completed"
    },
    "tags": []
   },
   "source": [
    "**Combine Data**"
   ]
  },
  {
   "cell_type": "code",
   "execution_count": 3,
   "id": "c00e906f",
   "metadata": {
    "execution": {
     "iopub.execute_input": "2024-09-05T13:45:35.520337Z",
     "iopub.status.busy": "2024-09-05T13:45:35.519927Z",
     "iopub.status.idle": "2024-09-05T13:45:35.714840Z",
     "shell.execute_reply": "2024-09-05T13:45:35.713575Z"
    },
    "papermill": {
     "duration": 0.209496,
     "end_time": "2024-09-05T13:45:35.717662",
     "exception": false,
     "start_time": "2024-09-05T13:45:35.508166",
     "status": "completed"
    },
    "tags": []
   },
   "outputs": [],
   "source": [
    "all_data = pd.concat([train, test]) # combining train & test set\n",
    "all_data = all_data.drop('target', axis=1) # drop target val"
   ]
  },
  {
   "cell_type": "markdown",
   "id": "7bdec9fd",
   "metadata": {
    "papermill": {
     "duration": 0.010819,
     "end_time": "2024-09-05T13:45:35.739182",
     "exception": false,
     "start_time": "2024-09-05T13:45:35.728363",
     "status": "completed"
    },
    "tags": []
   },
   "source": [
    "**Binary Feature Encoding**"
   ]
  },
  {
   "cell_type": "code",
   "execution_count": 4,
   "id": "7043af14",
   "metadata": {
    "execution": {
     "iopub.execute_input": "2024-09-05T13:45:35.762159Z",
     "iopub.status.busy": "2024-09-05T13:45:35.761688Z",
     "iopub.status.idle": "2024-09-05T13:45:35.848251Z",
     "shell.execute_reply": "2024-09-05T13:45:35.847174Z"
    },
    "papermill": {
     "duration": 0.101381,
     "end_time": "2024-09-05T13:45:35.851137",
     "exception": false,
     "start_time": "2024-09-05T13:45:35.749756",
     "status": "completed"
    },
    "tags": []
   },
   "outputs": [],
   "source": [
    "all_data['bin_3'] = all_data['bin_3'].map({'F':0, 'T':1})\n",
    "all_data['bin_4'] = all_data['bin_4'].map({'N':0, 'Y':1})"
   ]
  },
  {
   "cell_type": "markdown",
   "id": "5a7c07a4",
   "metadata": {
    "papermill": {
     "duration": 0.009947,
     "end_time": "2024-09-05T13:45:35.871894",
     "exception": false,
     "start_time": "2024-09-05T13:45:35.861947",
     "status": "completed"
    },
    "tags": []
   },
   "source": [
    "**Ordered Feature Encoding**"
   ]
  },
  {
   "cell_type": "code",
   "execution_count": 5,
   "id": "636608ef",
   "metadata": {
    "execution": {
     "iopub.execute_input": "2024-09-05T13:45:35.894434Z",
     "iopub.status.busy": "2024-09-05T13:45:35.893997Z",
     "iopub.status.idle": "2024-09-05T13:45:36.036117Z",
     "shell.execute_reply": "2024-09-05T13:45:36.034843Z"
    },
    "papermill": {
     "duration": 0.156824,
     "end_time": "2024-09-05T13:45:36.039133",
     "exception": false,
     "start_time": "2024-09-05T13:45:35.882309",
     "status": "completed"
    },
    "tags": []
   },
   "outputs": [],
   "source": [
    "ord1dict = {'Novice':0, 'Contributor':1, \n",
    "            'Expert':2, 'Master':3, 'Grandmaster':4}\n",
    "ord2dict = {'Freezing':0, 'Cold':1, 'Warm':2, \n",
    "            'Hot':3, 'Boiling Hot':4, 'Lava Hot':5}\n",
    "\n",
    "all_data['ord_1'] = all_data['ord_1'].map(ord1dict)\n",
    "all_data['ord_2'] = all_data['ord_2'].map(ord2dict)"
   ]
  },
  {
   "cell_type": "code",
   "execution_count": 6,
   "id": "17abfeb8",
   "metadata": {
    "execution": {
     "iopub.execute_input": "2024-09-05T13:45:36.062897Z",
     "iopub.status.busy": "2024-09-05T13:45:36.062446Z",
     "iopub.status.idle": "2024-09-05T13:45:38.043618Z",
     "shell.execute_reply": "2024-09-05T13:45:38.042261Z"
    },
    "papermill": {
     "duration": 1.996686,
     "end_time": "2024-09-05T13:45:38.046611",
     "exception": false,
     "start_time": "2024-09-05T13:45:36.049925",
     "status": "completed"
    },
    "tags": []
   },
   "outputs": [
    {
     "name": "stdout",
     "output_type": "stream",
     "text": [
      "ord_3\n",
      "['a' 'b' 'c' 'd' 'e' 'f' 'g' 'h' 'i' 'j' 'k' 'l' 'm' 'n' 'o']\n",
      "ord_4\n",
      "['A' 'B' 'C' 'D' 'E' 'F' 'G' 'H' 'I' 'J' 'K' 'L' 'M' 'N' 'O' 'P' 'Q' 'R'\n",
      " 'S' 'T' 'U' 'V' 'W' 'X' 'Y' 'Z']\n",
      "ord_5\n",
      "['AP' 'Ai' 'Aj' 'BA' 'BE' 'Bb' 'Bd' 'Bn' 'CL' 'CM' 'CU' 'CZ' 'Cl' 'DH'\n",
      " 'DN' 'Dc' 'Dx' 'Ed' 'Eg' 'Er' 'FI' 'Fd' 'Fo' 'GD' 'GJ' 'Gb' 'Gx' 'Hj'\n",
      " 'IK' 'Id' 'JX' 'Jc' 'Jf' 'Jt' 'KR' 'KZ' 'Kf' 'Kq' 'LE' 'MC' 'MO' 'MV'\n",
      " 'Mf' 'Ml' 'Mx' 'NV' 'Nf' 'Nk' 'OR' 'Ob' 'Os' 'PA' 'PQ' 'PZ' 'Ps' 'QM'\n",
      " 'Qb' 'Qh' 'Qo' 'RG' 'RL' 'RP' 'Rm' 'Ry' 'SB' 'Sc' 'TR' 'TZ' 'To' 'UO'\n",
      " 'Uk' 'Uu' 'Vf' 'Vx' 'WE' 'Wc' 'Wv' 'XI' 'Xh' 'Xi' 'YC' 'Yb' 'Ye' 'ZR'\n",
      " 'ZS' 'Zc' 'Zq' 'aF' 'aM' 'aO' 'aP' 'ac' 'av' 'bF' 'bJ' 'be' 'cA' 'cG'\n",
      " 'cW' 'ck' 'cp' 'dB' 'dE' 'dN' 'dO' 'dP' 'dQ' 'dZ' 'dh' 'eG' 'eQ' 'eb'\n",
      " 'eg' 'ek' 'ex' 'fO' 'fh' 'gJ' 'gM' 'hL' 'hT' 'hh' 'hp' 'iT' 'ih' 'jS'\n",
      " 'jV' 'je' 'jp' 'kC' 'kE' 'kK' 'kL' 'kU' 'kW' 'ke' 'kr' 'kw' 'lF' 'lL'\n",
      " 'll' 'lx' 'mb' 'mc' 'mm' 'nX' 'nh' 'oC' 'oG' 'oH' 'oK' 'od' 'on' 'pa'\n",
      " 'ps' 'qA' 'qJ' 'qK' 'qP' 'qX' 'qo' 'qv' 'qw' 'rZ' 'ri' 'rp' 'sD' 'sV'\n",
      " 'sY' 'sn' 'su' 'tM' 'tP' 'tv' 'uJ' 'uS' 'ud' 'us' 'ut' 'ux' 'uy' 'vK'\n",
      " 'vq' 'vy' 'wu' 'wy' 'xP' 'xy' 'yN' 'yY' 'yc' 'zU']\n"
     ]
    }
   ],
   "source": [
    "from sklearn.preprocessing import OrdinalEncoder\n",
    "\n",
    "ord_345 = ['ord_3', 'ord_4', 'ord_5']\n",
    "\n",
    "ord_encoder = OrdinalEncoder() # OrdinalEncoder object\n",
    "# apply ordinal encoding \n",
    "all_data[ord_345] = ord_encoder.fit_transform(all_data[ord_345])\n",
    "\n",
    "# print encoding order per feature\n",
    "for feature, categories in zip(ord_345, ord_encoder.categories_):\n",
    "    print(feature)\n",
    "    print(categories)"
   ]
  },
  {
   "cell_type": "markdown",
   "id": "188fa762",
   "metadata": {
    "papermill": {
     "duration": 0.010066,
     "end_time": "2024-09-05T13:45:38.067404",
     "exception": false,
     "start_time": "2024-09-05T13:45:38.057338",
     "status": "completed"
    },
    "tags": []
   },
   "source": [
    "**Nominal Feature Encoding**"
   ]
  },
  {
   "cell_type": "code",
   "execution_count": 7,
   "id": "ef69e38e",
   "metadata": {
    "execution": {
     "iopub.execute_input": "2024-09-05T13:45:38.090511Z",
     "iopub.status.busy": "2024-09-05T13:45:38.089888Z",
     "iopub.status.idle": "2024-09-05T13:45:38.095560Z",
     "shell.execute_reply": "2024-09-05T13:45:38.094462Z"
    },
    "papermill": {
     "duration": 0.019786,
     "end_time": "2024-09-05T13:45:38.097966",
     "exception": false,
     "start_time": "2024-09-05T13:45:38.078180",
     "status": "completed"
    },
    "tags": []
   },
   "outputs": [],
   "source": [
    "nom_features = ['nom_' + str(i) for i in range(10)]"
   ]
  },
  {
   "cell_type": "code",
   "execution_count": 8,
   "id": "fdb0680e",
   "metadata": {
    "execution": {
     "iopub.execute_input": "2024-09-05T13:45:38.120925Z",
     "iopub.status.busy": "2024-09-05T13:45:38.120456Z",
     "iopub.status.idle": "2024-09-05T13:45:40.270711Z",
     "shell.execute_reply": "2024-09-05T13:45:40.269555Z"
    },
    "papermill": {
     "duration": 2.164869,
     "end_time": "2024-09-05T13:45:40.273487",
     "exception": false,
     "start_time": "2024-09-05T13:45:38.108618",
     "status": "completed"
    },
    "tags": []
   },
   "outputs": [
    {
     "data": {
      "text/plain": [
       "<Compressed Sparse Row sparse matrix of dtype 'float64'\n",
       "\twith 5000000 stored elements and shape (500000, 16276)>"
      ]
     },
     "execution_count": 8,
     "metadata": {},
     "output_type": "execute_result"
    }
   ],
   "source": [
    "from sklearn.preprocessing import OneHotEncoder\n",
    "\n",
    "onehot_encoder = OneHotEncoder() # OneHotEncoder object\n",
    "# apply one-hot encoding\n",
    "encoded_nom_matrix = onehot_encoder.fit_transform(all_data[nom_features])\n",
    "\n",
    "encoded_nom_matrix"
   ]
  },
  {
   "cell_type": "code",
   "execution_count": 9,
   "id": "a7041988",
   "metadata": {
    "execution": {
     "iopub.execute_input": "2024-09-05T13:45:40.297420Z",
     "iopub.status.busy": "2024-09-05T13:45:40.296295Z",
     "iopub.status.idle": "2024-09-05T13:45:40.342907Z",
     "shell.execute_reply": "2024-09-05T13:45:40.341785Z"
    },
    "papermill": {
     "duration": 0.061756,
     "end_time": "2024-09-05T13:45:40.345899",
     "exception": false,
     "start_time": "2024-09-05T13:45:40.284143",
     "status": "completed"
    },
    "tags": []
   },
   "outputs": [],
   "source": [
    "all_data = all_data.drop(nom_features, axis = 1) # drop original nominal features"
   ]
  },
  {
   "cell_type": "markdown",
   "id": "7a984c23",
   "metadata": {
    "papermill": {
     "duration": 0.010346,
     "end_time": "2024-09-05T13:45:40.367137",
     "exception": false,
     "start_time": "2024-09-05T13:45:40.356791",
     "status": "completed"
    },
    "tags": []
   },
   "source": [
    "**Weather Feature Encoding**"
   ]
  },
  {
   "cell_type": "code",
   "execution_count": 10,
   "id": "814f03cc",
   "metadata": {
    "execution": {
     "iopub.execute_input": "2024-09-05T13:45:40.390142Z",
     "iopub.status.busy": "2024-09-05T13:45:40.389710Z",
     "iopub.status.idle": "2024-09-05T13:45:40.540214Z",
     "shell.execute_reply": "2024-09-05T13:45:40.539030Z"
    },
    "papermill": {
     "duration": 0.165492,
     "end_time": "2024-09-05T13:45:40.543195",
     "exception": false,
     "start_time": "2024-09-05T13:45:40.377703",
     "status": "completed"
    },
    "tags": []
   },
   "outputs": [
    {
     "data": {
      "text/plain": [
       "<Compressed Sparse Row sparse matrix of dtype 'float64'\n",
       "\twith 1000000 stored elements and shape (500000, 19)>"
      ]
     },
     "execution_count": 10,
     "metadata": {},
     "output_type": "execute_result"
    }
   ],
   "source": [
    "date_features = ['day', 'month']\n",
    "\n",
    "# apply one-hot encoding\n",
    "encoded_date_matrix = onehot_encoder.fit_transform(all_data[date_features])\n",
    "\n",
    "all_data = all_data.drop(date_features, axis = 1) # drop original nominal features\n",
    "\n",
    "encoded_date_matrix"
   ]
  },
  {
   "cell_type": "markdown",
   "id": "d29afb8c",
   "metadata": {
    "papermill": {
     "duration": 0.01115,
     "end_time": "2024-09-05T13:45:40.565567",
     "exception": false,
     "start_time": "2024-09-05T13:45:40.554417",
     "status": "completed"
    },
    "tags": []
   },
   "source": [
    "## Feature Engineering 2: Feature Scaling"
   ]
  },
  {
   "cell_type": "markdown",
   "id": "a8aed145",
   "metadata": {
    "papermill": {
     "duration": 0.010452,
     "end_time": "2024-09-05T13:45:40.586849",
     "exception": false,
     "start_time": "2024-09-05T13:45:40.576397",
     "status": "completed"
    },
    "tags": []
   },
   "source": [
    "**Ordered Feature Scaling**"
   ]
  },
  {
   "cell_type": "code",
   "execution_count": 11,
   "id": "7d41aa4c",
   "metadata": {
    "execution": {
     "iopub.execute_input": "2024-09-05T13:45:40.610878Z",
     "iopub.status.busy": "2024-09-05T13:45:40.610395Z",
     "iopub.status.idle": "2024-09-05T13:45:40.673465Z",
     "shell.execute_reply": "2024-09-05T13:45:40.672212Z"
    },
    "papermill": {
     "duration": 0.078852,
     "end_time": "2024-09-05T13:45:40.676303",
     "exception": false,
     "start_time": "2024-09-05T13:45:40.597451",
     "status": "completed"
    },
    "tags": []
   },
   "outputs": [],
   "source": [
    "from sklearn.preprocessing import MinMaxScaler\n",
    "\n",
    "ord_features = ['ord_' + str(i) for i in range(6)]\n",
    "# normalize min-max\n",
    "all_data[ord_features] = MinMaxScaler().fit_transform(all_data[ord_features])"
   ]
  },
  {
   "cell_type": "markdown",
   "id": "dd851d18",
   "metadata": {
    "papermill": {
     "duration": 0.01054,
     "end_time": "2024-09-05T13:45:40.698372",
     "exception": false,
     "start_time": "2024-09-05T13:45:40.687832",
     "status": "completed"
    },
    "tags": []
   },
   "source": [
    "**Combining Encoded and Scaled Features**"
   ]
  },
  {
   "cell_type": "code",
   "execution_count": 12,
   "id": "712b17d0",
   "metadata": {
    "execution": {
     "iopub.execute_input": "2024-09-05T13:45:40.721682Z",
     "iopub.status.busy": "2024-09-05T13:45:40.721185Z",
     "iopub.status.idle": "2024-09-05T13:45:41.069662Z",
     "shell.execute_reply": "2024-09-05T13:45:41.068371Z"
    },
    "papermill": {
     "duration": 0.36363,
     "end_time": "2024-09-05T13:45:41.072767",
     "exception": false,
     "start_time": "2024-09-05T13:45:40.709137",
     "status": "completed"
    },
    "tags": []
   },
   "outputs": [],
   "source": [
    "from scipy import sparse\n",
    "\n",
    "all_data_sprs = sparse.hstack([sparse.csr_matrix(all_data),\n",
    "                               encoded_nom_matrix,\n",
    "                               encoded_date_matrix],\n",
    "                               format = 'csr')"
   ]
  },
  {
   "cell_type": "code",
   "execution_count": 13,
   "id": "edbeb677",
   "metadata": {
    "execution": {
     "iopub.execute_input": "2024-09-05T13:45:41.097560Z",
     "iopub.status.busy": "2024-09-05T13:45:41.097076Z",
     "iopub.status.idle": "2024-09-05T13:45:41.104829Z",
     "shell.execute_reply": "2024-09-05T13:45:41.103637Z"
    },
    "papermill": {
     "duration": 0.023606,
     "end_time": "2024-09-05T13:45:41.107286",
     "exception": false,
     "start_time": "2024-09-05T13:45:41.083680",
     "status": "completed"
    },
    "tags": []
   },
   "outputs": [
    {
     "data": {
      "text/plain": [
       "<Compressed Sparse Row sparse matrix of dtype 'float64'\n",
       "\twith 9163718 stored elements and shape (500000, 16306)>"
      ]
     },
     "execution_count": 13,
     "metadata": {},
     "output_type": "execute_result"
    }
   ],
   "source": [
    "all_data_sprs"
   ]
  },
  {
   "cell_type": "markdown",
   "id": "024900a9",
   "metadata": {
    "papermill": {
     "duration": 0.010863,
     "end_time": "2024-09-05T13:45:41.129567",
     "exception": false,
     "start_time": "2024-09-05T13:45:41.118704",
     "status": "completed"
    },
    "tags": []
   },
   "source": [
    "**Separating Data**"
   ]
  },
  {
   "cell_type": "code",
   "execution_count": 14,
   "id": "912aca88",
   "metadata": {
    "execution": {
     "iopub.execute_input": "2024-09-05T13:45:41.155874Z",
     "iopub.status.busy": "2024-09-05T13:45:41.155397Z",
     "iopub.status.idle": "2024-09-05T13:45:41.296380Z",
     "shell.execute_reply": "2024-09-05T13:45:41.294718Z"
    },
    "papermill": {
     "duration": 0.157933,
     "end_time": "2024-09-05T13:45:41.299296",
     "exception": false,
     "start_time": "2024-09-05T13:45:41.141363",
     "status": "completed"
    },
    "tags": []
   },
   "outputs": [],
   "source": [
    "num_train = len(train)\n",
    "\n",
    "# separate train & test data\n",
    "X_train = all_data_sprs[:num_train] # 0 ~ (num_train - 1)row\n",
    "X_test = all_data_sprs[num_train:] # num_train ~ last row\n",
    "\n",
    "y = train['target']"
   ]
  },
  {
   "cell_type": "code",
   "execution_count": 15,
   "id": "d1fb9f4f",
   "metadata": {
    "execution": {
     "iopub.execute_input": "2024-09-05T13:45:41.323379Z",
     "iopub.status.busy": "2024-09-05T13:45:41.322866Z",
     "iopub.status.idle": "2024-09-05T13:45:41.625699Z",
     "shell.execute_reply": "2024-09-05T13:45:41.624403Z"
    },
    "papermill": {
     "duration": 0.318486,
     "end_time": "2024-09-05T13:45:41.628812",
     "exception": false,
     "start_time": "2024-09-05T13:45:41.310326",
     "status": "completed"
    },
    "tags": []
   },
   "outputs": [],
   "source": [
    "from sklearn.model_selection import train_test_split\n",
    "\n",
    "# separate train & validation data\n",
    "X_train, X_valid, y_train, y_valid = train_test_split(X_train, y,\n",
    "                                                      test_size=0.1,\n",
    "                                                      stratify=y,\n",
    "                                                      random_state=10)"
   ]
  },
  {
   "cell_type": "markdown",
   "id": "23637474",
   "metadata": {
    "papermill": {
     "duration": 0.011079,
     "end_time": "2024-09-05T13:45:41.651007",
     "exception": false,
     "start_time": "2024-09-05T13:45:41.639928",
     "status": "completed"
    },
    "tags": []
   },
   "source": [
    "## Optimizing Hyper Parameter"
   ]
  },
  {
   "cell_type": "code",
   "execution_count": 16,
   "id": "d86d49ce",
   "metadata": {
    "execution": {
     "iopub.execute_input": "2024-09-05T13:45:41.674975Z",
     "iopub.status.busy": "2024-09-05T13:45:41.674502Z",
     "iopub.status.idle": "2024-09-05T13:53:18.869066Z",
     "shell.execute_reply": "2024-09-05T13:53:18.867587Z"
    },
    "papermill": {
     "duration": 457.216404,
     "end_time": "2024-09-05T13:53:18.878563",
     "exception": false,
     "start_time": "2024-09-05T13:45:41.662159",
     "status": "completed"
    },
    "tags": []
   },
   "outputs": [
    {
     "name": "stdout",
     "output_type": "stream",
     "text": [
      "Optimized hyper parameter: {'C': 0.125, 'max_iter': 800, 'random_state': 42, 'solver': 'liblinear'}\n",
      "CPU times: user 29min 2s, sys: 4.37 s, total: 29min 6s\n",
      "Wall time: 7min 37s\n"
     ]
    }
   ],
   "source": [
    "%%time\n",
    "\n",
    "from sklearn.model_selection import GridSearchCV\n",
    "from sklearn.linear_model import LogisticRegression\n",
    "\n",
    "# create Logistic Regression model\n",
    "logistic_model = LogisticRegression()\n",
    "\n",
    "# hyper parameter vals\n",
    "lr_params = {'C': [0.1, 0.125, 0.2], 'max_iter':[800, 900, 1000], 'solver':['liblinear'], 'random_state': [42]}\n",
    "\n",
    "# create grid search object\n",
    "gridsearch_logistic_model = GridSearchCV(estimator = logistic_model, param_grid = lr_params, scoring = 'roc_auc', cv = 5)\n",
    "\n",
    "# perform grid search\n",
    "gridsearch_logistic_model.fit(X_train, y_train)\n",
    "\n",
    "print('Optimized hyper parameter:', gridsearch_logistic_model.best_params_)"
   ]
  },
  {
   "cell_type": "markdown",
   "id": "bc6223b0",
   "metadata": {
    "papermill": {
     "duration": 0.010787,
     "end_time": "2024-09-05T13:53:18.901679",
     "exception": false,
     "start_time": "2024-09-05T13:53:18.890892",
     "status": "completed"
    },
    "tags": []
   },
   "source": [
    "## Validating Model Performance"
   ]
  },
  {
   "cell_type": "code",
   "execution_count": 17,
   "id": "1ca1318d",
   "metadata": {
    "execution": {
     "iopub.execute_input": "2024-09-05T13:53:18.926200Z",
     "iopub.status.busy": "2024-09-05T13:53:18.925709Z",
     "iopub.status.idle": "2024-09-05T13:53:18.933913Z",
     "shell.execute_reply": "2024-09-05T13:53:18.932827Z"
    },
    "papermill": {
     "duration": 0.023642,
     "end_time": "2024-09-05T13:53:18.936532",
     "exception": false,
     "start_time": "2024-09-05T13:53:18.912890",
     "status": "completed"
    },
    "tags": []
   },
   "outputs": [],
   "source": [
    "y_valid_preds = gridsearch_logistic_model.predict_proba(X_valid)[:, 1]"
   ]
  },
  {
   "cell_type": "code",
   "execution_count": 18,
   "id": "4986d034",
   "metadata": {
    "execution": {
     "iopub.execute_input": "2024-09-05T13:53:18.960555Z",
     "iopub.status.busy": "2024-09-05T13:53:18.960072Z",
     "iopub.status.idle": "2024-09-05T13:53:18.981514Z",
     "shell.execute_reply": "2024-09-05T13:53:18.980283Z"
    },
    "papermill": {
     "duration": 0.036448,
     "end_time": "2024-09-05T13:53:18.984035",
     "exception": false,
     "start_time": "2024-09-05T13:53:18.947587",
     "status": "completed"
    },
    "tags": []
   },
   "outputs": [
    {
     "name": "stdout",
     "output_type": "stream",
     "text": [
      "validation data ROC AUC: 0.8045\n"
     ]
    }
   ],
   "source": [
    "from sklearn.metrics import roc_auc_score \n",
    "\n",
    "# validation data ROC AUC\n",
    "roc_auc = roc_auc_score(y_valid, y_valid_preds)\n",
    "\n",
    "print(f'validation data ROC AUC: {roc_auc:.4f}' )"
   ]
  },
  {
   "cell_type": "markdown",
   "id": "279c20c9",
   "metadata": {
    "papermill": {
     "duration": 0.010814,
     "end_time": "2024-09-05T13:53:19.005932",
     "exception": false,
     "start_time": "2024-09-05T13:53:18.995118",
     "status": "completed"
    },
    "tags": []
   },
   "source": [
    "## Submitting Prediction and Result"
   ]
  },
  {
   "cell_type": "markdown",
   "id": "8cb33cf6",
   "metadata": {
    "papermill": {
     "duration": 0.010868,
     "end_time": "2024-09-05T13:53:19.028502",
     "exception": false,
     "start_time": "2024-09-05T13:53:19.017634",
     "status": "completed"
    },
    "tags": []
   },
   "source": [
    "- ROC AUC\n",
    "    - reference link: https://www.youtube.com/watch?v=4jRBRDbJemM"
   ]
  },
  {
   "cell_type": "code",
   "execution_count": 19,
   "id": "d08b3e9f",
   "metadata": {
    "execution": {
     "iopub.execute_input": "2024-09-05T13:53:19.052876Z",
     "iopub.status.busy": "2024-09-05T13:53:19.052393Z",
     "iopub.status.idle": "2024-09-05T13:53:19.722725Z",
     "shell.execute_reply": "2024-09-05T13:53:19.721343Z"
    },
    "papermill": {
     "duration": 0.686127,
     "end_time": "2024-09-05T13:53:19.725787",
     "exception": false,
     "start_time": "2024-09-05T13:53:19.039660",
     "status": "completed"
    },
    "tags": []
   },
   "outputs": [],
   "source": [
    "# predict prob that target is 1\n",
    "y_preds = gridsearch_logistic_model.best_estimator_.predict_proba(X_test)[:, 1]\n",
    "\n",
    "submission['target'] = y_preds\n",
    "submission.to_csv('submission.csv')"
   ]
  },
  {
   "cell_type": "code",
   "execution_count": null,
   "id": "927be5e5",
   "metadata": {
    "papermill": {
     "duration": 0.01095,
     "end_time": "2024-09-05T13:53:19.748849",
     "exception": false,
     "start_time": "2024-09-05T13:53:19.737899",
     "status": "completed"
    },
    "tags": []
   },
   "outputs": [],
   "source": []
  }
 ],
 "metadata": {
  "kaggle": {
   "accelerator": "none",
   "dataSources": [
    {
     "databundleVersionId": 653984,
     "sourceId": 14999,
     "sourceType": "competition"
    }
   ],
   "dockerImageVersionId": 30761,
   "isGpuEnabled": false,
   "isInternetEnabled": true,
   "language": "python",
   "sourceType": "notebook"
  },
  "kernelspec": {
   "display_name": "Python 3",
   "language": "python",
   "name": "python3"
  },
  "language_info": {
   "codemirror_mode": {
    "name": "ipython",
    "version": 3
   },
   "file_extension": ".py",
   "mimetype": "text/x-python",
   "name": "python",
   "nbconvert_exporter": "python",
   "pygments_lexer": "ipython3",
   "version": "3.10.14"
  },
  "papermill": {
   "default_parameters": {},
   "duration": 473.395088,
   "end_time": "2024-09-05T13:53:20.483067",
   "environment_variables": {},
   "exception": null,
   "input_path": "__notebook__.ipynb",
   "output_path": "__notebook__.ipynb",
   "parameters": {},
   "start_time": "2024-09-05T13:45:27.087979",
   "version": "2.6.0"
  }
 },
 "nbformat": 4,
 "nbformat_minor": 5
}
