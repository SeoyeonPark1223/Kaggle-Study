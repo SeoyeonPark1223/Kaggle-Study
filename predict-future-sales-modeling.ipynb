{
 "cells": [
  {
   "cell_type": "markdown",
   "id": "78b3b927",
   "metadata": {
    "papermill": {
     "duration": 0.023066,
     "end_time": "2024-09-09T04:50:57.272941",
     "exception": false,
     "start_time": "2024-09-09T04:50:57.249875",
     "status": "completed"
    },
    "tags": []
   },
   "source": [
    "# Predict Future Sales - Modeling"
   ]
  },
  {
   "cell_type": "markdown",
   "id": "2e86ba03",
   "metadata": {
    "papermill": {
     "duration": 0.021919,
     "end_time": "2024-09-09T04:50:57.317480",
     "exception": false,
     "start_time": "2024-09-09T04:50:57.295561",
     "status": "completed"
    },
    "tags": []
   },
   "source": [
    "Tutorial Link -> https://www.kaggle.com/code/werooring/ch9-modeling"
   ]
  },
  {
   "cell_type": "code",
   "execution_count": 1,
   "id": "6c541f13",
   "metadata": {
    "execution": {
     "iopub.execute_input": "2024-09-09T04:50:57.364901Z",
     "iopub.status.busy": "2024-09-09T04:50:57.364441Z",
     "iopub.status.idle": "2024-09-09T04:51:15.320173Z",
     "shell.execute_reply": "2024-09-09T04:51:15.318961Z"
    },
    "papermill": {
     "duration": 17.982409,
     "end_time": "2024-09-09T04:51:15.322971",
     "exception": false,
     "start_time": "2024-09-09T04:50:57.340562",
     "status": "completed"
    },
    "tags": []
   },
   "outputs": [
    {
     "name": "stdout",
     "output_type": "stream",
     "text": [
      "Collecting lightgbm==3.2.1\r\n",
      "  Downloading lightgbm-3.2.1-py3-none-manylinux1_x86_64.whl.metadata (14 kB)\r\n",
      "Requirement already satisfied: wheel in /opt/conda/lib/python3.10/site-packages (from lightgbm==3.2.1) (0.43.0)\r\n",
      "Requirement already satisfied: numpy in /opt/conda/lib/python3.10/site-packages (from lightgbm==3.2.1) (1.26.4)\r\n",
      "Requirement already satisfied: scipy in /opt/conda/lib/python3.10/site-packages (from lightgbm==3.2.1) (1.14.0)\r\n",
      "Requirement already satisfied: scikit-learn!=0.22.0 in /opt/conda/lib/python3.10/site-packages (from lightgbm==3.2.1) (1.2.2)\r\n",
      "Requirement already satisfied: joblib>=1.1.1 in /opt/conda/lib/python3.10/site-packages (from scikit-learn!=0.22.0->lightgbm==3.2.1) (1.4.2)\r\n",
      "Requirement already satisfied: threadpoolctl>=2.0.0 in /opt/conda/lib/python3.10/site-packages (from scikit-learn!=0.22.0->lightgbm==3.2.1) (3.5.0)\r\n",
      "Downloading lightgbm-3.2.1-py3-none-manylinux1_x86_64.whl (2.0 MB)\r\n",
      "\u001b[2K   \u001b[90m━━━━━━━━━━━━━━━━━━━━━━━━━━━━━━━━━━━━━━━━\u001b[0m \u001b[32m2.0/2.0 MB\u001b[0m \u001b[31m8.6 MB/s\u001b[0m eta \u001b[36m0:00:00\u001b[0m\r\n",
      "\u001b[?25hInstalling collected packages: lightgbm\r\n",
      "  Attempting uninstall: lightgbm\r\n",
      "    Found existing installation: lightgbm 4.2.0\r\n",
      "    Uninstalling lightgbm-4.2.0:\r\n",
      "      Successfully uninstalled lightgbm-4.2.0\r\n",
      "Successfully installed lightgbm-3.2.1\r\n"
     ]
    }
   ],
   "source": [
    "!pip install lightgbm==3.2.1"
   ]
  },
  {
   "cell_type": "code",
   "execution_count": 2,
   "id": "79d945e4",
   "metadata": {
    "_cell_guid": "b1076dfc-b9ad-4769-8c92-a6c4dae69d19",
    "_uuid": "8f2839f25d086af736a60e9eeb907d3b93b6e0e5",
    "execution": {
     "iopub.execute_input": "2024-09-09T04:51:15.373587Z",
     "iopub.status.busy": "2024-09-09T04:51:15.372470Z",
     "iopub.status.idle": "2024-09-09T04:51:15.849970Z",
     "shell.execute_reply": "2024-09-09T04:51:15.848563Z"
    },
    "papermill": {
     "duration": 0.505537,
     "end_time": "2024-09-09T04:51:15.852695",
     "exception": false,
     "start_time": "2024-09-09T04:51:15.347158",
     "status": "completed"
    },
    "tags": []
   },
   "outputs": [
    {
     "name": "stdout",
     "output_type": "stream",
     "text": [
      "/kaggle/input/competitive-data-science-predict-future-sales/items.csv\n",
      "/kaggle/input/competitive-data-science-predict-future-sales/sample_submission.csv\n",
      "/kaggle/input/competitive-data-science-predict-future-sales/item_categories.csv\n",
      "/kaggle/input/competitive-data-science-predict-future-sales/sales_train.csv\n",
      "/kaggle/input/competitive-data-science-predict-future-sales/shops.csv\n",
      "/kaggle/input/competitive-data-science-predict-future-sales/test.csv\n"
     ]
    }
   ],
   "source": [
    "# This Python 3 environment comes with many helpful analytics libraries installed\n",
    "# It is defined by the kaggle/python Docker image: https://github.com/kaggle/docker-python\n",
    "# For example, here's several helpful packages to load\n",
    "\n",
    "import numpy as np # linear algebra\n",
    "import pandas as pd # data processing, CSV file I/O (e.g. pd.read_csv)\n",
    "\n",
    "# Input data files are available in the read-only \"../input/\" directory\n",
    "# For example, running this (by clicking run or pressing Shift+Enter) will list all files under the input directory\n",
    "\n",
    "import os\n",
    "for dirname, _, filenames in os.walk('/kaggle/input'):\n",
    "    for filename in filenames:\n",
    "        print(os.path.join(dirname, filename))\n",
    "\n",
    "# You can write up to 20GB to the current directory (/kaggle/working/) that gets preserved as output when you create a version using \"Save & Run All\" \n",
    "# You can also write temporary files to /kaggle/temp/, but they won't be saved outside of the current session"
   ]
  },
  {
   "cell_type": "code",
   "execution_count": 3,
   "id": "14d7b578",
   "metadata": {
    "execution": {
     "iopub.execute_input": "2024-09-09T04:51:15.902466Z",
     "iopub.status.busy": "2024-09-09T04:51:15.901869Z",
     "iopub.status.idle": "2024-09-09T04:51:19.359116Z",
     "shell.execute_reply": "2024-09-09T04:51:19.358059Z"
    },
    "papermill": {
     "duration": 3.485518,
     "end_time": "2024-09-09T04:51:19.361828",
     "exception": false,
     "start_time": "2024-09-09T04:51:15.876310",
     "status": "completed"
    },
    "tags": []
   },
   "outputs": [],
   "source": [
    "import warnings\n",
    "\n",
    "warnings.filterwarnings(action='ignore') # ignore warnings\n",
    "\n",
    "data_path = '/kaggle/input/competitive-data-science-predict-future-sales/'\n",
    "\n",
    "items = pd.read_csv(data_path + 'items.csv')\n",
    "submission = pd.read_csv(data_path + 'sample_submission.csv')\n",
    "item_categories = pd.read_csv(data_path + 'item_categories.csv')\n",
    "sales_train = pd.read_csv(data_path + 'sales_train.csv')\n",
    "shops = pd.read_csv(data_path + 'shops.csv')\n",
    "test = pd.read_csv(data_path + 'test.csv')"
   ]
  },
  {
   "cell_type": "markdown",
   "id": "6f09cdec",
   "metadata": {
    "papermill": {
     "duration": 0.023251,
     "end_time": "2024-09-09T04:51:19.409139",
     "exception": false,
     "start_time": "2024-09-09T04:51:19.385888",
     "status": "completed"
    },
    "tags": []
   },
   "source": [
    "## Feature Engineering 1: Convert to Korean + Data Downcasting"
   ]
  },
  {
   "cell_type": "code",
   "execution_count": 4,
   "id": "56016305",
   "metadata": {
    "execution": {
     "iopub.execute_input": "2024-09-09T04:51:19.458151Z",
     "iopub.status.busy": "2024-09-09T04:51:19.457038Z",
     "iopub.status.idle": "2024-09-09T04:51:19.556644Z",
     "shell.execute_reply": "2024-09-09T04:51:19.555311Z"
    },
    "papermill": {
     "duration": 0.126699,
     "end_time": "2024-09-09T04:51:19.559467",
     "exception": false,
     "start_time": "2024-09-09T04:51:19.432768",
     "status": "completed"
    },
    "tags": []
   },
   "outputs": [],
   "source": [
    "sales_train = sales_train.rename(columns={'date': '날짜', \n",
    "                                          'date_block_num': '월ID',\n",
    "                                          'shop_id': '상점ID',\n",
    "                                          'item_id': '상품ID',\n",
    "                                          'item_price': '판매가',\n",
    "                                          'item_cnt_day': '판매량'})\n",
    "\n",
    "shops = shops.rename(columns={'shop_name': '상점명',\n",
    "                              'shop_id': '상점ID'})\n",
    "\n",
    "items = items.rename(columns={'item_name': '상품명',\n",
    "                              'item_id': '상품ID',\n",
    "                              'item_category_id': '상품분류ID'})\n",
    "\n",
    "item_categories = item_categories.rename(columns=\n",
    "                                         {'item_category_name': '상품분류명',\n",
    "                                          'item_category_id': '상품분류ID'})\n",
    "\n",
    "test = test.rename(columns={'shop_id': '상점ID',\n",
    "                            'item_id': '상품ID'})"
   ]
  },
  {
   "cell_type": "code",
   "execution_count": 5,
   "id": "7f0dc0d5",
   "metadata": {
    "execution": {
     "iopub.execute_input": "2024-09-09T04:51:19.608070Z",
     "iopub.status.busy": "2024-09-09T04:51:19.607620Z",
     "iopub.status.idle": "2024-09-09T04:51:19.617870Z",
     "shell.execute_reply": "2024-09-09T04:51:19.616685Z"
    },
    "papermill": {
     "duration": 0.037846,
     "end_time": "2024-09-09T04:51:19.620417",
     "exception": false,
     "start_time": "2024-09-09T04:51:19.582571",
     "status": "completed"
    },
    "tags": []
   },
   "outputs": [],
   "source": [
    "def downcast(df, verbose=True):\n",
    "    start_mem = df.memory_usage().sum() / 1024**2 # calculate start mem usage, change Byte -> Mega Byte by 1024**2\n",
    "    for col in df.columns:\n",
    "        dtype_name = df[col].dtype.name\n",
    "        if dtype_name == 'object':\n",
    "            pass\n",
    "        elif dtype_name == 'bool':\n",
    "            df[col] = df[col].astype('int8')\n",
    "        elif dtype_name.startswith('int') or (df[col].round() == df[col]).all():\n",
    "            df[col] = pd.to_numeric(df[col], downcast='integer')\n",
    "        else:\n",
    "            df[col] = pd.to_numeric(df[col], downcast='float')\n",
    "    end_mem = df.memory_usage().sum() / 1024**2 # calculate end mem usage\n",
    "    if verbose: # if verbose = True -> print detailed info\n",
    "        print('{:.1f}% compressed'.format(100 * (start_mem - end_mem) / start_mem))\n",
    "    \n",
    "    return df"
   ]
  },
  {
   "cell_type": "markdown",
   "id": "070aed29",
   "metadata": {
    "papermill": {
     "duration": 0.023121,
     "end_time": "2024-09-09T04:51:19.667082",
     "exception": false,
     "start_time": "2024-09-09T04:51:19.643961",
     "status": "completed"
    },
    "tags": []
   },
   "source": [
    "## Feature Engineering 2: Feature Engineering Individual Data"
   ]
  },
  {
   "cell_type": "markdown",
   "id": "e18e6608",
   "metadata": {
    "papermill": {
     "duration": 0.023171,
     "end_time": "2024-09-09T04:51:19.715363",
     "exception": false,
     "start_time": "2024-09-09T04:51:19.692192",
     "status": "completed"
    },
    "tags": []
   },
   "source": [
    "**sales_train: remove outlier, pre-process**"
   ]
  },
  {
   "cell_type": "code",
   "execution_count": 6,
   "id": "cacbdad2",
   "metadata": {
    "execution": {
     "iopub.execute_input": "2024-09-09T04:51:19.764788Z",
     "iopub.status.busy": "2024-09-09T04:51:19.763938Z",
     "iopub.status.idle": "2024-09-09T04:51:20.355595Z",
     "shell.execute_reply": "2024-09-09T04:51:20.354509Z"
    },
    "papermill": {
     "duration": 0.61938,
     "end_time": "2024-09-09T04:51:20.358276",
     "exception": false,
     "start_time": "2024-09-09T04:51:19.738896",
     "status": "completed"
    },
    "tags": []
   },
   "outputs": [],
   "source": [
    "# extract '판매가' > 0 data\n",
    "sales_train = sales_train[sales_train['판매가'] > 0]\n",
    "# extract '판매가' < 50000 data\n",
    "sales_train = sales_train[sales_train['판매가'] < 50000]\n",
    "\n",
    "# extract '판매량' > 0 data\n",
    "sales_train = sales_train[sales_train['판매량'] > 0]\n",
    "# extract '판매가' < 1000 data\n",
    "sales_train = sales_train[sales_train['판매량'] < 1000]"
   ]
  },
  {
   "cell_type": "code",
   "execution_count": 7,
   "id": "13fcb36f",
   "metadata": {
    "execution": {
     "iopub.execute_input": "2024-09-09T04:51:20.407900Z",
     "iopub.status.busy": "2024-09-09T04:51:20.407478Z",
     "iopub.status.idle": "2024-09-09T04:51:20.415725Z",
     "shell.execute_reply": "2024-09-09T04:51:20.414586Z"
    },
    "papermill": {
     "duration": 0.036782,
     "end_time": "2024-09-09T04:51:20.418794",
     "exception": false,
     "start_time": "2024-09-09T04:51:20.382012",
     "status": "completed"
    },
    "tags": []
   },
   "outputs": [
    {
     "name": "stdout",
     "output_type": "stream",
     "text": [
      "!Якутск Орджоникидзе, 56 фран || Якутск Орджоникидзе, 56\n",
      "!Якутск ТЦ \"Центральный\" фран || Якутск ТЦ \"Центральный\"\n",
      "Жуковский ул. Чкалова 39м? || Жуковский ул. Чкалова 39м²\n",
      "РостовНаДону ТРК \"Мегацентр Горизонт\" || РостовНаДону ТРК \"Мегацентр Горизонт\" Островной\n"
     ]
    }
   ],
   "source": [
    "print(shops['상점명'][0], '||', shops['상점명'][57])\n",
    "print(shops['상점명'][1], '||', shops['상점명'][58])\n",
    "print(shops['상점명'][10], '||', shops['상점명'][11])\n",
    "print(shops['상점명'][39], '||', shops['상점명'][40])"
   ]
  },
  {
   "cell_type": "code",
   "execution_count": 8,
   "id": "6dd66846",
   "metadata": {
    "execution": {
     "iopub.execute_input": "2024-09-09T04:51:20.468383Z",
     "iopub.status.busy": "2024-09-09T04:51:20.467847Z",
     "iopub.status.idle": "2024-09-09T04:51:20.503864Z",
     "shell.execute_reply": "2024-09-09T04:51:20.502639Z"
    },
    "papermill": {
     "duration": 0.064268,
     "end_time": "2024-09-09T04:51:20.506791",
     "exception": false,
     "start_time": "2024-09-09T04:51:20.442523",
     "status": "completed"
    },
    "tags": []
   },
   "outputs": [],
   "source": [
    "# sales_train change '상점ID'\n",
    "sales_train.loc[sales_train['상점ID'] == 0, '상점ID'] = 57\n",
    "sales_train.loc[sales_train['상점ID'] == 1, '상점ID'] = 58\n",
    "sales_train.loc[sales_train['상점ID'] == 10, '상점ID'] = 11\n",
    "sales_train.loc[sales_train['상점ID'] == 39, '상점ID'] = 40\n",
    "\n",
    "# test change '상점ID'\n",
    "test.loc[test['상점ID'] == 0, '상점ID'] = 57\n",
    "test.loc[test['상점ID'] == 1, '상점ID'] = 58\n",
    "test.loc[test['상점ID'] == 10, '상점ID'] = 11\n",
    "test.loc[test['상점ID'] == 39, '상점ID'] = 40"
   ]
  },
  {
   "cell_type": "markdown",
   "id": "cef6519a",
   "metadata": {
    "papermill": {
     "duration": 0.024333,
     "end_time": "2024-09-09T04:51:20.554870",
     "exception": false,
     "start_time": "2024-09-09T04:51:20.530537",
     "status": "completed"
    },
    "tags": []
   },
   "source": [
    "**shops: create sub features, encoding**"
   ]
  },
  {
   "cell_type": "code",
   "execution_count": 9,
   "id": "17369674",
   "metadata": {
    "execution": {
     "iopub.execute_input": "2024-09-09T04:51:20.603874Z",
     "iopub.status.busy": "2024-09-09T04:51:20.603473Z",
     "iopub.status.idle": "2024-09-09T04:51:20.610581Z",
     "shell.execute_reply": "2024-09-09T04:51:20.609479Z"
    },
    "papermill": {
     "duration": 0.034098,
     "end_time": "2024-09-09T04:51:20.612851",
     "exception": false,
     "start_time": "2024-09-09T04:51:20.578753",
     "status": "completed"
    },
    "tags": []
   },
   "outputs": [],
   "source": [
    "shops['도시'] = shops['상점명'].apply(lambda x: x.split()[0])"
   ]
  },
  {
   "cell_type": "code",
   "execution_count": 10,
   "id": "b077bbcf",
   "metadata": {
    "execution": {
     "iopub.execute_input": "2024-09-09T04:51:20.662986Z",
     "iopub.status.busy": "2024-09-09T04:51:20.662111Z",
     "iopub.status.idle": "2024-09-09T04:51:20.674727Z",
     "shell.execute_reply": "2024-09-09T04:51:20.673607Z"
    },
    "papermill": {
     "duration": 0.040747,
     "end_time": "2024-09-09T04:51:20.677269",
     "exception": false,
     "start_time": "2024-09-09T04:51:20.636522",
     "status": "completed"
    },
    "tags": []
   },
   "outputs": [
    {
     "data": {
      "text/plain": [
       "array(['!Якутск', 'Адыгея', 'Балашиха', 'Волжский', 'Вологда', 'Воронеж',\n",
       "       'Выездная', 'Жуковский', 'Интернет-магазин', 'Казань', 'Калуга',\n",
       "       'Коломна', 'Красноярск', 'Курск', 'Москва', 'Мытищи', 'Н.Новгород',\n",
       "       'Новосибирск', 'Омск', 'РостовНаДону', 'СПб', 'Самара', 'Сергиев',\n",
       "       'Сургут', 'Томск', 'Тюмень', 'Уфа', 'Химки', 'Цифровой', 'Чехов',\n",
       "       'Якутск', 'Ярославль'], dtype=object)"
      ]
     },
     "execution_count": 10,
     "metadata": {},
     "output_type": "execute_result"
    }
   ],
   "source": [
    "shops['도시'].unique()"
   ]
  },
  {
   "cell_type": "code",
   "execution_count": 11,
   "id": "84b25fa1",
   "metadata": {
    "execution": {
     "iopub.execute_input": "2024-09-09T04:51:20.728077Z",
     "iopub.status.busy": "2024-09-09T04:51:20.727103Z",
     "iopub.status.idle": "2024-09-09T04:51:20.733548Z",
     "shell.execute_reply": "2024-09-09T04:51:20.732376Z"
    },
    "papermill": {
     "duration": 0.034895,
     "end_time": "2024-09-09T04:51:20.735936",
     "exception": false,
     "start_time": "2024-09-09T04:51:20.701041",
     "status": "completed"
    },
    "tags": []
   },
   "outputs": [],
   "source": [
    "shops.loc[shops['도시'] =='!Якутск', '도시'] = 'Якутск'"
   ]
  },
  {
   "cell_type": "code",
   "execution_count": 12,
   "id": "80103cff",
   "metadata": {
    "execution": {
     "iopub.execute_input": "2024-09-09T04:51:20.786530Z",
     "iopub.status.busy": "2024-09-09T04:51:20.785491Z",
     "iopub.status.idle": "2024-09-09T04:51:22.089418Z",
     "shell.execute_reply": "2024-09-09T04:51:22.088467Z"
    },
    "papermill": {
     "duration": 1.332545,
     "end_time": "2024-09-09T04:51:22.092072",
     "exception": false,
     "start_time": "2024-09-09T04:51:20.759527",
     "status": "completed"
    },
    "tags": []
   },
   "outputs": [],
   "source": [
    "from sklearn.preprocessing import LabelEncoder\n",
    "\n",
    "# create label encoder\n",
    "label_encoder = LabelEncoder()\n",
    "# encoding '도시' feature label\n",
    "shops['도시'] = label_encoder.fit_transform(shops['도시'])"
   ]
  },
  {
   "cell_type": "code",
   "execution_count": 13,
   "id": "28028f87",
   "metadata": {
    "execution": {
     "iopub.execute_input": "2024-09-09T04:51:22.141138Z",
     "iopub.status.busy": "2024-09-09T04:51:22.140089Z",
     "iopub.status.idle": "2024-09-09T04:51:22.155122Z",
     "shell.execute_reply": "2024-09-09T04:51:22.154149Z"
    },
    "papermill": {
     "duration": 0.042153,
     "end_time": "2024-09-09T04:51:22.157625",
     "exception": false,
     "start_time": "2024-09-09T04:51:22.115472",
     "status": "completed"
    },
    "tags": []
   },
   "outputs": [
    {
     "data": {
      "text/html": [
       "<div>\n",
       "<style scoped>\n",
       "    .dataframe tbody tr th:only-of-type {\n",
       "        vertical-align: middle;\n",
       "    }\n",
       "\n",
       "    .dataframe tbody tr th {\n",
       "        vertical-align: top;\n",
       "    }\n",
       "\n",
       "    .dataframe thead th {\n",
       "        text-align: right;\n",
       "    }\n",
       "</style>\n",
       "<table border=\"1\" class=\"dataframe\">\n",
       "  <thead>\n",
       "    <tr style=\"text-align: right;\">\n",
       "      <th></th>\n",
       "      <th>상점ID</th>\n",
       "      <th>도시</th>\n",
       "    </tr>\n",
       "  </thead>\n",
       "  <tbody>\n",
       "    <tr>\n",
       "      <th>0</th>\n",
       "      <td>0</td>\n",
       "      <td>29</td>\n",
       "    </tr>\n",
       "    <tr>\n",
       "      <th>1</th>\n",
       "      <td>1</td>\n",
       "      <td>29</td>\n",
       "    </tr>\n",
       "    <tr>\n",
       "      <th>2</th>\n",
       "      <td>2</td>\n",
       "      <td>0</td>\n",
       "    </tr>\n",
       "    <tr>\n",
       "      <th>3</th>\n",
       "      <td>3</td>\n",
       "      <td>1</td>\n",
       "    </tr>\n",
       "    <tr>\n",
       "      <th>4</th>\n",
       "      <td>4</td>\n",
       "      <td>2</td>\n",
       "    </tr>\n",
       "  </tbody>\n",
       "</table>\n",
       "</div>"
      ],
      "text/plain": [
       "   상점ID  도시\n",
       "0     0  29\n",
       "1     1  29\n",
       "2     2   0\n",
       "3     3   1\n",
       "4     4   2"
      ]
     },
     "execution_count": 13,
     "metadata": {},
     "output_type": "execute_result"
    }
   ],
   "source": [
    "# remove '상점명' feature\n",
    "shops = shops.drop('상점명', axis=1)\n",
    "\n",
    "shops.head()"
   ]
  },
  {
   "cell_type": "markdown",
   "id": "eb8b7a17",
   "metadata": {
    "papermill": {
     "duration": 0.023807,
     "end_time": "2024-09-09T04:51:22.205562",
     "exception": false,
     "start_time": "2024-09-09T04:51:22.181755",
     "status": "completed"
    },
    "tags": []
   },
   "source": [
    "**items: create sub features**"
   ]
  },
  {
   "cell_type": "code",
   "execution_count": 14,
   "id": "ff5e6e21",
   "metadata": {
    "execution": {
     "iopub.execute_input": "2024-09-09T04:51:22.255528Z",
     "iopub.status.busy": "2024-09-09T04:51:22.254536Z",
     "iopub.status.idle": "2024-09-09T04:51:22.262255Z",
     "shell.execute_reply": "2024-09-09T04:51:22.261095Z"
    },
    "papermill": {
     "duration": 0.035001,
     "end_time": "2024-09-09T04:51:22.264730",
     "exception": false,
     "start_time": "2024-09-09T04:51:22.229729",
     "status": "completed"
    },
    "tags": []
   },
   "outputs": [],
   "source": [
    "items = items.drop(['상품명'], axis=1)"
   ]
  },
  {
   "cell_type": "code",
   "execution_count": 15,
   "id": "f1c79a9f",
   "metadata": {
    "execution": {
     "iopub.execute_input": "2024-09-09T04:51:22.313548Z",
     "iopub.status.busy": "2024-09-09T04:51:22.313106Z",
     "iopub.status.idle": "2024-09-09T04:51:22.404950Z",
     "shell.execute_reply": "2024-09-09T04:51:22.403797Z"
    },
    "papermill": {
     "duration": 0.119092,
     "end_time": "2024-09-09T04:51:22.407431",
     "exception": false,
     "start_time": "2024-09-09T04:51:22.288339",
     "status": "completed"
    },
    "tags": []
   },
   "outputs": [
    {
     "data": {
      "text/html": [
       "<div>\n",
       "<style scoped>\n",
       "    .dataframe tbody tr th:only-of-type {\n",
       "        vertical-align: middle;\n",
       "    }\n",
       "\n",
       "    .dataframe tbody tr th {\n",
       "        vertical-align: top;\n",
       "    }\n",
       "\n",
       "    .dataframe thead th {\n",
       "        text-align: right;\n",
       "    }\n",
       "</style>\n",
       "<table border=\"1\" class=\"dataframe\">\n",
       "  <thead>\n",
       "    <tr style=\"text-align: right;\">\n",
       "      <th></th>\n",
       "      <th>상품ID</th>\n",
       "      <th>상품분류ID</th>\n",
       "      <th>첫 판매월</th>\n",
       "    </tr>\n",
       "  </thead>\n",
       "  <tbody>\n",
       "    <tr>\n",
       "      <th>0</th>\n",
       "      <td>0</td>\n",
       "      <td>40</td>\n",
       "      <td>20.0</td>\n",
       "    </tr>\n",
       "    <tr>\n",
       "      <th>1</th>\n",
       "      <td>1</td>\n",
       "      <td>76</td>\n",
       "      <td>15.0</td>\n",
       "    </tr>\n",
       "    <tr>\n",
       "      <th>2</th>\n",
       "      <td>2</td>\n",
       "      <td>40</td>\n",
       "      <td>19.0</td>\n",
       "    </tr>\n",
       "    <tr>\n",
       "      <th>3</th>\n",
       "      <td>3</td>\n",
       "      <td>40</td>\n",
       "      <td>18.0</td>\n",
       "    </tr>\n",
       "    <tr>\n",
       "      <th>4</th>\n",
       "      <td>4</td>\n",
       "      <td>40</td>\n",
       "      <td>20.0</td>\n",
       "    </tr>\n",
       "  </tbody>\n",
       "</table>\n",
       "</div>"
      ],
      "text/plain": [
       "   상품ID  상품분류ID  첫 판매월\n",
       "0     0      40   20.0\n",
       "1     1      76   15.0\n",
       "2     2      40   19.0\n",
       "3     3      40   18.0\n",
       "4     4      40   20.0"
      ]
     },
     "execution_count": 15,
     "metadata": {},
     "output_type": "execute_result"
    }
   ],
   "source": [
    "# 상품이 맨 처음 팔린 날을 피처로 추가\n",
    "items['첫 판매월'] = sales_train.groupby('상품ID').agg({'월ID': 'min'})['월ID']\n",
    "\n",
    "items.head()"
   ]
  },
  {
   "cell_type": "code",
   "execution_count": 16,
   "id": "b2abdb50",
   "metadata": {
    "execution": {
     "iopub.execute_input": "2024-09-09T04:51:22.457099Z",
     "iopub.status.busy": "2024-09-09T04:51:22.456340Z",
     "iopub.status.idle": "2024-09-09T04:51:22.470161Z",
     "shell.execute_reply": "2024-09-09T04:51:22.469081Z"
    },
    "papermill": {
     "duration": 0.041573,
     "end_time": "2024-09-09T04:51:22.472786",
     "exception": false,
     "start_time": "2024-09-09T04:51:22.431213",
     "status": "completed"
    },
    "tags": []
   },
   "outputs": [
    {
     "data": {
      "text/html": [
       "<div>\n",
       "<style scoped>\n",
       "    .dataframe tbody tr th:only-of-type {\n",
       "        vertical-align: middle;\n",
       "    }\n",
       "\n",
       "    .dataframe tbody tr th {\n",
       "        vertical-align: top;\n",
       "    }\n",
       "\n",
       "    .dataframe thead th {\n",
       "        text-align: right;\n",
       "    }\n",
       "</style>\n",
       "<table border=\"1\" class=\"dataframe\">\n",
       "  <thead>\n",
       "    <tr style=\"text-align: right;\">\n",
       "      <th></th>\n",
       "      <th>상품ID</th>\n",
       "      <th>상품분류ID</th>\n",
       "      <th>첫 판매월</th>\n",
       "    </tr>\n",
       "  </thead>\n",
       "  <tbody>\n",
       "    <tr>\n",
       "      <th>83</th>\n",
       "      <td>83</td>\n",
       "      <td>40</td>\n",
       "      <td>NaN</td>\n",
       "    </tr>\n",
       "    <tr>\n",
       "      <th>140</th>\n",
       "      <td>140</td>\n",
       "      <td>45</td>\n",
       "      <td>NaN</td>\n",
       "    </tr>\n",
       "    <tr>\n",
       "      <th>168</th>\n",
       "      <td>168</td>\n",
       "      <td>44</td>\n",
       "      <td>NaN</td>\n",
       "    </tr>\n",
       "    <tr>\n",
       "      <th>173</th>\n",
       "      <td>173</td>\n",
       "      <td>45</td>\n",
       "      <td>NaN</td>\n",
       "    </tr>\n",
       "    <tr>\n",
       "      <th>204</th>\n",
       "      <td>204</td>\n",
       "      <td>44</td>\n",
       "      <td>NaN</td>\n",
       "    </tr>\n",
       "    <tr>\n",
       "      <th>...</th>\n",
       "      <td>...</td>\n",
       "      <td>...</td>\n",
       "      <td>...</td>\n",
       "    </tr>\n",
       "    <tr>\n",
       "      <th>21974</th>\n",
       "      <td>21974</td>\n",
       "      <td>61</td>\n",
       "      <td>NaN</td>\n",
       "    </tr>\n",
       "    <tr>\n",
       "      <th>21975</th>\n",
       "      <td>21975</td>\n",
       "      <td>61</td>\n",
       "      <td>NaN</td>\n",
       "    </tr>\n",
       "    <tr>\n",
       "      <th>22022</th>\n",
       "      <td>22022</td>\n",
       "      <td>40</td>\n",
       "      <td>NaN</td>\n",
       "    </tr>\n",
       "    <tr>\n",
       "      <th>22035</th>\n",
       "      <td>22035</td>\n",
       "      <td>40</td>\n",
       "      <td>NaN</td>\n",
       "    </tr>\n",
       "    <tr>\n",
       "      <th>22137</th>\n",
       "      <td>22137</td>\n",
       "      <td>40</td>\n",
       "      <td>NaN</td>\n",
       "    </tr>\n",
       "  </tbody>\n",
       "</table>\n",
       "<p>368 rows × 3 columns</p>\n",
       "</div>"
      ],
      "text/plain": [
       "        상품ID  상품분류ID  첫 판매월\n",
       "83        83      40    NaN\n",
       "140      140      45    NaN\n",
       "168      168      44    NaN\n",
       "173      173      45    NaN\n",
       "204      204      44    NaN\n",
       "...      ...     ...    ...\n",
       "21974  21974      61    NaN\n",
       "21975  21975      61    NaN\n",
       "22022  22022      40    NaN\n",
       "22035  22035      40    NaN\n",
       "22137  22137      40    NaN\n",
       "\n",
       "[368 rows x 3 columns]"
      ]
     },
     "execution_count": 16,
     "metadata": {},
     "output_type": "execute_result"
    }
   ],
   "source": [
    "items[items['첫 판매월'].isna()]"
   ]
  },
  {
   "cell_type": "code",
   "execution_count": 17,
   "id": "acb81117",
   "metadata": {
    "execution": {
     "iopub.execute_input": "2024-09-09T04:51:22.523579Z",
     "iopub.status.busy": "2024-09-09T04:51:22.522884Z",
     "iopub.status.idle": "2024-09-09T04:51:22.528798Z",
     "shell.execute_reply": "2024-09-09T04:51:22.527863Z"
    },
    "papermill": {
     "duration": 0.033657,
     "end_time": "2024-09-09T04:51:22.531025",
     "exception": false,
     "start_time": "2024-09-09T04:51:22.497368",
     "status": "completed"
    },
    "tags": []
   },
   "outputs": [],
   "source": [
    "items['첫 판매월'] = items['첫 판매월'].fillna(34)"
   ]
  },
  {
   "cell_type": "markdown",
   "id": "c05a46a1",
   "metadata": {
    "papermill": {
     "duration": 0.024107,
     "end_time": "2024-09-09T04:51:22.578989",
     "exception": false,
     "start_time": "2024-09-09T04:51:22.554882",
     "status": "completed"
    },
    "tags": []
   },
   "source": [
    "**item_categories: create sub features, encoding**"
   ]
  },
  {
   "cell_type": "code",
   "execution_count": 18,
   "id": "15a9a166",
   "metadata": {
    "execution": {
     "iopub.execute_input": "2024-09-09T04:51:22.629164Z",
     "iopub.status.busy": "2024-09-09T04:51:22.628666Z",
     "iopub.status.idle": "2024-09-09T04:51:22.635578Z",
     "shell.execute_reply": "2024-09-09T04:51:22.634494Z"
    },
    "papermill": {
     "duration": 0.034724,
     "end_time": "2024-09-09T04:51:22.638070",
     "exception": false,
     "start_time": "2024-09-09T04:51:22.603346",
     "status": "completed"
    },
    "tags": []
   },
   "outputs": [],
   "source": [
    "item_categories['대분류'] = item_categories['상품분류명'].apply(lambda x: x.split()[0])  "
   ]
  },
  {
   "cell_type": "code",
   "execution_count": 19,
   "id": "788a3781",
   "metadata": {
    "execution": {
     "iopub.execute_input": "2024-09-09T04:51:22.691726Z",
     "iopub.status.busy": "2024-09-09T04:51:22.691225Z",
     "iopub.status.idle": "2024-09-09T04:51:22.703465Z",
     "shell.execute_reply": "2024-09-09T04:51:22.702370Z"
    },
    "papermill": {
     "duration": 0.043638,
     "end_time": "2024-09-09T04:51:22.705762",
     "exception": false,
     "start_time": "2024-09-09T04:51:22.662124",
     "status": "completed"
    },
    "tags": []
   },
   "outputs": [
    {
     "data": {
      "text/plain": [
       "대분류\n",
       "Игры          14\n",
       "Книги         13\n",
       "Подарки       12\n",
       "Игровые        8\n",
       "Аксессуары     7\n",
       "Музыка         6\n",
       "Программы      6\n",
       "Карты          5\n",
       "Кино           5\n",
       "Служебные      2\n",
       "Чистые         2\n",
       "PC             1\n",
       "Билеты         1\n",
       "Доставка       1\n",
       "Элементы       1\n",
       "Name: count, dtype: int64"
      ]
     },
     "execution_count": 19,
     "metadata": {},
     "output_type": "execute_result"
    }
   ],
   "source": [
    "item_categories['대분류'].value_counts()"
   ]
  },
  {
   "cell_type": "code",
   "execution_count": 20,
   "id": "7ec6c9fd",
   "metadata": {
    "execution": {
     "iopub.execute_input": "2024-09-09T04:51:22.755979Z",
     "iopub.status.busy": "2024-09-09T04:51:22.755543Z",
     "iopub.status.idle": "2024-09-09T04:51:22.804226Z",
     "shell.execute_reply": "2024-09-09T04:51:22.802765Z"
    },
    "papermill": {
     "duration": 0.07722,
     "end_time": "2024-09-09T04:51:22.807252",
     "exception": false,
     "start_time": "2024-09-09T04:51:22.730032",
     "status": "completed"
    },
    "tags": []
   },
   "outputs": [],
   "source": [
    "def make_etc(x):\n",
    "    if len(item_categories[item_categories['대분류']==x]) >= 5:\n",
    "        return x\n",
    "    else:\n",
    "        return 'etc'\n",
    "\n",
    "# if '대분류' unique val < 5 -> 'etc'\n",
    "item_categories['대분류'] = item_categories['대분류'].apply(make_etc)"
   ]
  },
  {
   "cell_type": "code",
   "execution_count": 21,
   "id": "6095a67a",
   "metadata": {
    "execution": {
     "iopub.execute_input": "2024-09-09T04:51:22.865100Z",
     "iopub.status.busy": "2024-09-09T04:51:22.864594Z",
     "iopub.status.idle": "2024-09-09T04:51:22.880803Z",
     "shell.execute_reply": "2024-09-09T04:51:22.878940Z"
    },
    "papermill": {
     "duration": 0.051888,
     "end_time": "2024-09-09T04:51:22.883809",
     "exception": false,
     "start_time": "2024-09-09T04:51:22.831921",
     "status": "completed"
    },
    "tags": []
   },
   "outputs": [
    {
     "data": {
      "text/html": [
       "<div>\n",
       "<style scoped>\n",
       "    .dataframe tbody tr th:only-of-type {\n",
       "        vertical-align: middle;\n",
       "    }\n",
       "\n",
       "    .dataframe tbody tr th {\n",
       "        vertical-align: top;\n",
       "    }\n",
       "\n",
       "    .dataframe thead th {\n",
       "        text-align: right;\n",
       "    }\n",
       "</style>\n",
       "<table border=\"1\" class=\"dataframe\">\n",
       "  <thead>\n",
       "    <tr style=\"text-align: right;\">\n",
       "      <th></th>\n",
       "      <th>상품분류명</th>\n",
       "      <th>상품분류ID</th>\n",
       "      <th>대분류</th>\n",
       "    </tr>\n",
       "  </thead>\n",
       "  <tbody>\n",
       "    <tr>\n",
       "      <th>0</th>\n",
       "      <td>PC - Гарнитуры/Наушники</td>\n",
       "      <td>0</td>\n",
       "      <td>etc</td>\n",
       "    </tr>\n",
       "    <tr>\n",
       "      <th>1</th>\n",
       "      <td>Аксессуары - PS2</td>\n",
       "      <td>1</td>\n",
       "      <td>Аксессуары</td>\n",
       "    </tr>\n",
       "    <tr>\n",
       "      <th>2</th>\n",
       "      <td>Аксессуары - PS3</td>\n",
       "      <td>2</td>\n",
       "      <td>Аксессуары</td>\n",
       "    </tr>\n",
       "    <tr>\n",
       "      <th>3</th>\n",
       "      <td>Аксессуары - PS4</td>\n",
       "      <td>3</td>\n",
       "      <td>Аксессуары</td>\n",
       "    </tr>\n",
       "    <tr>\n",
       "      <th>4</th>\n",
       "      <td>Аксессуары - PSP</td>\n",
       "      <td>4</td>\n",
       "      <td>Аксессуары</td>\n",
       "    </tr>\n",
       "  </tbody>\n",
       "</table>\n",
       "</div>"
      ],
      "text/plain": [
       "                     상품분류명  상품분류ID         대분류\n",
       "0  PC - Гарнитуры/Наушники       0         etc\n",
       "1         Аксессуары - PS2       1  Аксессуары\n",
       "2         Аксессуары - PS3       2  Аксессуары\n",
       "3         Аксессуары - PS4       3  Аксессуары\n",
       "4         Аксессуары - PSP       4  Аксессуары"
      ]
     },
     "execution_count": 21,
     "metadata": {},
     "output_type": "execute_result"
    }
   ],
   "source": [
    "item_categories.head()"
   ]
  },
  {
   "cell_type": "code",
   "execution_count": 22,
   "id": "521f3de7",
   "metadata": {
    "execution": {
     "iopub.execute_input": "2024-09-09T04:51:22.947620Z",
     "iopub.status.busy": "2024-09-09T04:51:22.946554Z",
     "iopub.status.idle": "2024-09-09T04:51:22.954174Z",
     "shell.execute_reply": "2024-09-09T04:51:22.953036Z"
    },
    "papermill": {
     "duration": 0.039507,
     "end_time": "2024-09-09T04:51:22.956629",
     "exception": false,
     "start_time": "2024-09-09T04:51:22.917122",
     "status": "completed"
    },
    "tags": []
   },
   "outputs": [],
   "source": [
    "# create label encoder \n",
    "label_encoder = LabelEncoder()\n",
    "\n",
    "# '대분류' feature label encoding\n",
    "item_categories['대분류'] = label_encoder.fit_transform(item_categories['대분류'])\n",
    "\n",
    "# remove '상품분류명' feature\n",
    "item_categories = item_categories.drop('상품분류명', axis=1)"
   ]
  },
  {
   "cell_type": "markdown",
   "id": "e7ebea2e",
   "metadata": {
    "papermill": {
     "duration": 0.024551,
     "end_time": "2024-09-09T04:51:23.006060",
     "exception": false,
     "start_time": "2024-09-09T04:51:22.981509",
     "status": "completed"
    },
    "tags": []
   },
   "source": [
    "## Feature Engineering 3: Data Combination, Create Sub Features"
   ]
  },
  {
   "cell_type": "markdown",
   "id": "ba43fe3d",
   "metadata": {
    "papermill": {
     "duration": 0.024349,
     "end_time": "2024-09-09T04:51:23.056234",
     "exception": false,
     "start_time": "2024-09-09T04:51:23.031885",
     "status": "completed"
    },
    "tags": []
   },
   "source": [
    "**Data Combination**"
   ]
  },
  {
   "cell_type": "code",
   "execution_count": 23,
   "id": "3174d47d",
   "metadata": {
    "execution": {
     "iopub.execute_input": "2024-09-09T04:51:23.167591Z",
     "iopub.status.busy": "2024-09-09T04:51:23.166575Z",
     "iopub.status.idle": "2024-09-09T04:51:32.525565Z",
     "shell.execute_reply": "2024-09-09T04:51:32.524366Z"
    },
    "papermill": {
     "duration": 9.443464,
     "end_time": "2024-09-09T04:51:32.528189",
     "exception": false,
     "start_time": "2024-09-09T04:51:23.084725",
     "status": "completed"
    },
    "tags": []
   },
   "outputs": [],
   "source": [
    "from itertools import product\n",
    "\n",
    "train = []\n",
    "# 월ID, 상점ID, 상품ID combination\n",
    "for i in sales_train['월ID'].unique():\n",
    "    all_shop = sales_train.loc[sales_train['월ID']==i, '상점ID'].unique()\n",
    "    all_item = sales_train.loc[sales_train['월ID']==i, '상품ID'].unique()\n",
    "    train.append(np.array(list(product([i], all_shop, all_item))))\n",
    "\n",
    "idx_features = ['월ID', '상점ID', '상품ID'] \n",
    "train = pd.DataFrame(np.vstack(train), columns=idx_features)"
   ]
  },
  {
   "cell_type": "markdown",
   "id": "d7457c6d",
   "metadata": {
    "papermill": {
     "duration": 0.024141,
     "end_time": "2024-09-09T04:51:32.576637",
     "exception": false,
     "start_time": "2024-09-09T04:51:32.552496",
     "status": "completed"
    },
    "tags": []
   },
   "source": [
    "**create sub features**"
   ]
  },
  {
   "cell_type": "code",
   "execution_count": 24,
   "id": "292eec2d",
   "metadata": {
    "execution": {
     "iopub.execute_input": "2024-09-09T04:51:32.627588Z",
     "iopub.status.busy": "2024-09-09T04:51:32.626854Z",
     "iopub.status.idle": "2024-09-09T04:51:38.028800Z",
     "shell.execute_reply": "2024-09-09T04:51:38.027620Z"
    },
    "papermill": {
     "duration": 5.430451,
     "end_time": "2024-09-09T04:51:38.031374",
     "exception": false,
     "start_time": "2024-09-09T04:51:32.600923",
     "status": "completed"
    },
    "tags": []
   },
   "outputs": [
    {
     "data": {
      "text/html": [
       "<div>\n",
       "<style scoped>\n",
       "    .dataframe tbody tr th:only-of-type {\n",
       "        vertical-align: middle;\n",
       "    }\n",
       "\n",
       "    .dataframe tbody tr th {\n",
       "        vertical-align: top;\n",
       "    }\n",
       "\n",
       "    .dataframe thead th {\n",
       "        text-align: right;\n",
       "    }\n",
       "</style>\n",
       "<table border=\"1\" class=\"dataframe\">\n",
       "  <thead>\n",
       "    <tr style=\"text-align: right;\">\n",
       "      <th></th>\n",
       "      <th>월ID</th>\n",
       "      <th>상점ID</th>\n",
       "      <th>상품ID</th>\n",
       "      <th>월간 판매량</th>\n",
       "      <th>평균 판매가</th>\n",
       "    </tr>\n",
       "  </thead>\n",
       "  <tbody>\n",
       "    <tr>\n",
       "      <th>0</th>\n",
       "      <td>0</td>\n",
       "      <td>59</td>\n",
       "      <td>22154</td>\n",
       "      <td>1.0</td>\n",
       "      <td>999.0</td>\n",
       "    </tr>\n",
       "    <tr>\n",
       "      <th>1</th>\n",
       "      <td>0</td>\n",
       "      <td>59</td>\n",
       "      <td>2552</td>\n",
       "      <td>NaN</td>\n",
       "      <td>NaN</td>\n",
       "    </tr>\n",
       "    <tr>\n",
       "      <th>2</th>\n",
       "      <td>0</td>\n",
       "      <td>59</td>\n",
       "      <td>2554</td>\n",
       "      <td>NaN</td>\n",
       "      <td>NaN</td>\n",
       "    </tr>\n",
       "    <tr>\n",
       "      <th>3</th>\n",
       "      <td>0</td>\n",
       "      <td>59</td>\n",
       "      <td>2555</td>\n",
       "      <td>NaN</td>\n",
       "      <td>NaN</td>\n",
       "    </tr>\n",
       "    <tr>\n",
       "      <th>4</th>\n",
       "      <td>0</td>\n",
       "      <td>59</td>\n",
       "      <td>2564</td>\n",
       "      <td>NaN</td>\n",
       "      <td>NaN</td>\n",
       "    </tr>\n",
       "  </tbody>\n",
       "</table>\n",
       "</div>"
      ],
      "text/plain": [
       "   월ID  상점ID   상품ID  월간 판매량  평균 판매가\n",
       "0    0    59  22154     1.0   999.0\n",
       "1    0    59   2552     NaN     NaN\n",
       "2    0    59   2554     NaN     NaN\n",
       "3    0    59   2555     NaN     NaN\n",
       "4    0    59   2564     NaN     NaN"
      ]
     },
     "execution_count": 24,
     "metadata": {},
     "output_type": "execute_result"
    }
   ],
   "source": [
    "group = sales_train.groupby(idx_features).agg({'판매량': 'sum',\n",
    "                                               '판매가': 'mean'})\n",
    "group = group.reset_index()\n",
    "group = group.rename(columns={'판매량': '월간 판매량', '판매가': '평균 판매가'})\n",
    "\n",
    "train = train.merge(group, on=idx_features, how='left')\n",
    "\n",
    "train.head()"
   ]
  },
  {
   "cell_type": "code",
   "execution_count": 25,
   "id": "b06d16e5",
   "metadata": {
    "execution": {
     "iopub.execute_input": "2024-09-09T04:51:38.083907Z",
     "iopub.status.busy": "2024-09-09T04:51:38.083458Z",
     "iopub.status.idle": "2024-09-09T04:51:38.176053Z",
     "shell.execute_reply": "2024-09-09T04:51:38.174801Z"
    },
    "papermill": {
     "duration": 0.121997,
     "end_time": "2024-09-09T04:51:38.178542",
     "exception": false,
     "start_time": "2024-09-09T04:51:38.056545",
     "status": "completed"
    },
    "tags": []
   },
   "outputs": [],
   "source": [
    "import gc\n",
    "\n",
    "# group var -> garbate. collection\n",
    "del group\n",
    "gc.collect();"
   ]
  },
  {
   "cell_type": "code",
   "execution_count": 26,
   "id": "01a1cc8b",
   "metadata": {
    "execution": {
     "iopub.execute_input": "2024-09-09T04:51:38.230578Z",
     "iopub.status.busy": "2024-09-09T04:51:38.230100Z",
     "iopub.status.idle": "2024-09-09T04:51:43.477678Z",
     "shell.execute_reply": "2024-09-09T04:51:43.476600Z"
    },
    "papermill": {
     "duration": 5.276646,
     "end_time": "2024-09-09T04:51:43.480305",
     "exception": false,
     "start_time": "2024-09-09T04:51:38.203659",
     "status": "completed"
    },
    "tags": []
   },
   "outputs": [
    {
     "data": {
      "text/html": [
       "<div>\n",
       "<style scoped>\n",
       "    .dataframe tbody tr th:only-of-type {\n",
       "        vertical-align: middle;\n",
       "    }\n",
       "\n",
       "    .dataframe tbody tr th {\n",
       "        vertical-align: top;\n",
       "    }\n",
       "\n",
       "    .dataframe thead th {\n",
       "        text-align: right;\n",
       "    }\n",
       "</style>\n",
       "<table border=\"1\" class=\"dataframe\">\n",
       "  <thead>\n",
       "    <tr style=\"text-align: right;\">\n",
       "      <th></th>\n",
       "      <th>월ID</th>\n",
       "      <th>상점ID</th>\n",
       "      <th>상품ID</th>\n",
       "      <th>월간 판매량</th>\n",
       "      <th>평균 판매가</th>\n",
       "      <th>판매건수</th>\n",
       "    </tr>\n",
       "  </thead>\n",
       "  <tbody>\n",
       "    <tr>\n",
       "      <th>0</th>\n",
       "      <td>0</td>\n",
       "      <td>59</td>\n",
       "      <td>22154</td>\n",
       "      <td>1.0</td>\n",
       "      <td>999.0</td>\n",
       "      <td>1.0</td>\n",
       "    </tr>\n",
       "    <tr>\n",
       "      <th>1</th>\n",
       "      <td>0</td>\n",
       "      <td>59</td>\n",
       "      <td>2552</td>\n",
       "      <td>NaN</td>\n",
       "      <td>NaN</td>\n",
       "      <td>NaN</td>\n",
       "    </tr>\n",
       "    <tr>\n",
       "      <th>2</th>\n",
       "      <td>0</td>\n",
       "      <td>59</td>\n",
       "      <td>2554</td>\n",
       "      <td>NaN</td>\n",
       "      <td>NaN</td>\n",
       "      <td>NaN</td>\n",
       "    </tr>\n",
       "    <tr>\n",
       "      <th>3</th>\n",
       "      <td>0</td>\n",
       "      <td>59</td>\n",
       "      <td>2555</td>\n",
       "      <td>NaN</td>\n",
       "      <td>NaN</td>\n",
       "      <td>NaN</td>\n",
       "    </tr>\n",
       "    <tr>\n",
       "      <th>4</th>\n",
       "      <td>0</td>\n",
       "      <td>59</td>\n",
       "      <td>2564</td>\n",
       "      <td>NaN</td>\n",
       "      <td>NaN</td>\n",
       "      <td>NaN</td>\n",
       "    </tr>\n",
       "  </tbody>\n",
       "</table>\n",
       "</div>"
      ],
      "text/plain": [
       "   월ID  상점ID   상품ID  월간 판매량  평균 판매가  판매건수\n",
       "0    0    59  22154     1.0   999.0   1.0\n",
       "1    0    59   2552     NaN     NaN   NaN\n",
       "2    0    59   2554     NaN     NaN   NaN\n",
       "3    0    59   2555     NaN     NaN   NaN\n",
       "4    0    59   2564     NaN     NaN   NaN"
      ]
     },
     "execution_count": 26,
     "metadata": {},
     "output_type": "execute_result"
    }
   ],
   "source": [
    "# add feature: product sales\n",
    "group = sales_train.groupby(idx_features).agg({'판매량': 'count'})\n",
    "group = group.reset_index()\n",
    "group = group.rename(columns={'판매량': '판매건수'})\n",
    "\n",
    "train = train.merge(group, on=idx_features, how='left')\n",
    "\n",
    "# garbage collection\n",
    "del group, sales_train\n",
    "gc.collect()\n",
    "\n",
    "train.head()"
   ]
  },
  {
   "cell_type": "markdown",
   "id": "00132903",
   "metadata": {
    "papermill": {
     "duration": 0.025472,
     "end_time": "2024-09-09T04:51:43.531186",
     "exception": false,
     "start_time": "2024-09-09T04:51:43.505714",
     "status": "completed"
    },
    "tags": []
   },
   "source": [
    "## Feature Engineering 5: Combine Data"
   ]
  },
  {
   "cell_type": "markdown",
   "id": "586d7768",
   "metadata": {
    "papermill": {
     "duration": 0.024365,
     "end_time": "2024-09-09T04:51:43.580479",
     "exception": false,
     "start_time": "2024-09-09T04:51:43.556114",
     "status": "completed"
    },
    "tags": []
   },
   "source": [
    "**Add test data**"
   ]
  },
  {
   "cell_type": "code",
   "execution_count": 27,
   "id": "c461ae11",
   "metadata": {
    "execution": {
     "iopub.execute_input": "2024-09-09T04:51:43.632421Z",
     "iopub.status.busy": "2024-09-09T04:51:43.631933Z",
     "iopub.status.idle": "2024-09-09T04:51:44.109953Z",
     "shell.execute_reply": "2024-09-09T04:51:44.108812Z"
    },
    "papermill": {
     "duration": 0.507142,
     "end_time": "2024-09-09T04:51:44.112401",
     "exception": false,
     "start_time": "2024-09-09T04:51:43.605259",
     "status": "completed"
    },
    "tags": []
   },
   "outputs": [
    {
     "data": {
      "text/html": [
       "<div>\n",
       "<style scoped>\n",
       "    .dataframe tbody tr th:only-of-type {\n",
       "        vertical-align: middle;\n",
       "    }\n",
       "\n",
       "    .dataframe tbody tr th {\n",
       "        vertical-align: top;\n",
       "    }\n",
       "\n",
       "    .dataframe thead th {\n",
       "        text-align: right;\n",
       "    }\n",
       "</style>\n",
       "<table border=\"1\" class=\"dataframe\">\n",
       "  <thead>\n",
       "    <tr style=\"text-align: right;\">\n",
       "      <th></th>\n",
       "      <th>월ID</th>\n",
       "      <th>상점ID</th>\n",
       "      <th>상품ID</th>\n",
       "      <th>월간 판매량</th>\n",
       "      <th>평균 판매가</th>\n",
       "      <th>판매건수</th>\n",
       "    </tr>\n",
       "  </thead>\n",
       "  <tbody>\n",
       "    <tr>\n",
       "      <th>0</th>\n",
       "      <td>0</td>\n",
       "      <td>59</td>\n",
       "      <td>22154</td>\n",
       "      <td>1.0</td>\n",
       "      <td>999.0</td>\n",
       "      <td>1.0</td>\n",
       "    </tr>\n",
       "    <tr>\n",
       "      <th>1</th>\n",
       "      <td>0</td>\n",
       "      <td>59</td>\n",
       "      <td>2552</td>\n",
       "      <td>0.0</td>\n",
       "      <td>0.0</td>\n",
       "      <td>0.0</td>\n",
       "    </tr>\n",
       "    <tr>\n",
       "      <th>2</th>\n",
       "      <td>0</td>\n",
       "      <td>59</td>\n",
       "      <td>2554</td>\n",
       "      <td>0.0</td>\n",
       "      <td>0.0</td>\n",
       "      <td>0.0</td>\n",
       "    </tr>\n",
       "    <tr>\n",
       "      <th>3</th>\n",
       "      <td>0</td>\n",
       "      <td>59</td>\n",
       "      <td>2555</td>\n",
       "      <td>0.0</td>\n",
       "      <td>0.0</td>\n",
       "      <td>0.0</td>\n",
       "    </tr>\n",
       "    <tr>\n",
       "      <th>4</th>\n",
       "      <td>0</td>\n",
       "      <td>59</td>\n",
       "      <td>2564</td>\n",
       "      <td>0.0</td>\n",
       "      <td>0.0</td>\n",
       "      <td>0.0</td>\n",
       "    </tr>\n",
       "  </tbody>\n",
       "</table>\n",
       "</div>"
      ],
      "text/plain": [
       "   월ID  상점ID   상품ID  월간 판매량  평균 판매가  판매건수\n",
       "0    0    59  22154     1.0   999.0   1.0\n",
       "1    0    59   2552     0.0     0.0   0.0\n",
       "2    0    59   2554     0.0     0.0   0.0\n",
       "3    0    59   2555     0.0     0.0   0.0\n",
       "4    0    59   2564     0.0     0.0   0.0"
      ]
     },
     "execution_count": 27,
     "metadata": {},
     "output_type": "execute_result"
    }
   ],
   "source": [
    "test['월ID'] = 34\n",
    "\n",
    "# concat test and train set\n",
    "all_data = pd.concat([train, test.drop('ID', axis=1)],\n",
    "                     ignore_index=True,\n",
    "                     keys=idx_features)\n",
    "# missing value -> 0\n",
    "all_data = all_data.fillna(0)\n",
    "\n",
    "all_data.head()"
   ]
  },
  {
   "cell_type": "markdown",
   "id": "a6677797",
   "metadata": {
    "papermill": {
     "duration": 0.025897,
     "end_time": "2024-09-09T04:51:44.164338",
     "exception": false,
     "start_time": "2024-09-09T04:51:44.138441",
     "status": "completed"
    },
    "tags": []
   },
   "source": [
    "**merge all data**"
   ]
  },
  {
   "cell_type": "code",
   "execution_count": 28,
   "id": "d0a56dfc",
   "metadata": {
    "execution": {
     "iopub.execute_input": "2024-09-09T04:51:44.218070Z",
     "iopub.status.busy": "2024-09-09T04:51:44.217582Z",
     "iopub.status.idle": "2024-09-09T04:51:51.229989Z",
     "shell.execute_reply": "2024-09-09T04:51:51.228905Z"
    },
    "papermill": {
     "duration": 7.042063,
     "end_time": "2024-09-09T04:51:51.232593",
     "exception": false,
     "start_time": "2024-09-09T04:51:44.190530",
     "status": "completed"
    },
    "tags": []
   },
   "outputs": [
    {
     "name": "stdout",
     "output_type": "stream",
     "text": [
      "76.2% compressed\n"
     ]
    }
   ],
   "source": [
    "# merge all data\n",
    "all_data = all_data.merge(shops, on='상점ID', how='left')\n",
    "all_data = all_data.merge(items, on='상품ID', how='left')\n",
    "all_data = all_data.merge(item_categories, on='상품분류ID', how='left')\n",
    "\n",
    "# data downcasting\n",
    "all_data = downcast(all_data)"
   ]
  },
  {
   "cell_type": "code",
   "execution_count": 29,
   "id": "1a36fca4",
   "metadata": {
    "execution": {
     "iopub.execute_input": "2024-09-09T04:51:51.285496Z",
     "iopub.status.busy": "2024-09-09T04:51:51.284690Z",
     "iopub.status.idle": "2024-09-09T04:51:51.376461Z",
     "shell.execute_reply": "2024-09-09T04:51:51.375297Z"
    },
    "papermill": {
     "duration": 0.121176,
     "end_time": "2024-09-09T04:51:51.379211",
     "exception": false,
     "start_time": "2024-09-09T04:51:51.258035",
     "status": "completed"
    },
    "tags": []
   },
   "outputs": [],
   "source": [
    "# garbage collection\n",
    "del shops, items, item_categories\n",
    "gc.collect();"
   ]
  },
  {
   "cell_type": "markdown",
   "id": "7551c4ec",
   "metadata": {
    "papermill": {
     "duration": 0.025338,
     "end_time": "2024-09-09T04:51:51.430115",
     "exception": false,
     "start_time": "2024-09-09T04:51:51.404777",
     "status": "completed"
    },
    "tags": []
   },
   "source": [
    "## Feature Engineering 6: Create Lag Feature"
   ]
  },
  {
   "cell_type": "markdown",
   "id": "dcabb580",
   "metadata": {
    "papermill": {
     "duration": 0.025653,
     "end_time": "2024-09-09T04:51:51.481646",
     "exception": false,
     "start_time": "2024-09-09T04:51:51.455993",
     "status": "completed"
    },
    "tags": []
   },
   "source": [
    "**create monthly mean sales derived feature by idx features**"
   ]
  },
  {
   "cell_type": "code",
   "execution_count": 30,
   "id": "90758202",
   "metadata": {
    "execution": {
     "iopub.execute_input": "2024-09-09T04:51:51.535190Z",
     "iopub.status.busy": "2024-09-09T04:51:51.534190Z",
     "iopub.status.idle": "2024-09-09T04:51:51.543510Z",
     "shell.execute_reply": "2024-09-09T04:51:51.542381Z"
    },
    "papermill": {
     "duration": 0.038578,
     "end_time": "2024-09-09T04:51:51.545875",
     "exception": false,
     "start_time": "2024-09-09T04:51:51.507297",
     "status": "completed"
    },
    "tags": []
   },
   "outputs": [],
   "source": [
    "def add_mean_features(df, mean_features, idx_features):\n",
    "    # check idx feature\n",
    "    assert (idx_features[0] == '월ID') and \\\n",
    "           len(idx_features) in [2, 3]\n",
    "    \n",
    "    # set derived feature\n",
    "    if len(idx_features) == 2:\n",
    "        feature_name = idx_features[1] + '별 평균 판매량'\n",
    "    else:\n",
    "        feature_name = idx_features[1] + ' ' + idx_features[2] + '별 평균 판매량'\n",
    "    \n",
    "    # group by index feature -> get monthly mean sales\n",
    "    group = df.groupby(idx_features).agg({'월간 판매량': 'mean'})\n",
    "    group = group.reset_index()\n",
    "    group = group.rename(columns={'월간 판매량': feature_name})\n",
    "    \n",
    "    # merge df & group \n",
    "    df = df.merge(group, on=idx_features, how='left')\n",
    "    # data downcasting\n",
    "    df = downcast(df, verbose=False)\n",
    "    # add new feature_name to mean_features list\n",
    "    mean_features.append(feature_name)\n",
    "    \n",
    "    # garbage collection \n",
    "    del group\n",
    "    gc.collect()\n",
    "    \n",
    "    return df, mean_features"
   ]
  },
  {
   "cell_type": "code",
   "execution_count": 31,
   "id": "614f454a",
   "metadata": {
    "execution": {
     "iopub.execute_input": "2024-09-09T04:51:51.599363Z",
     "iopub.status.busy": "2024-09-09T04:51:51.598362Z",
     "iopub.status.idle": "2024-09-09T04:52:04.478632Z",
     "shell.execute_reply": "2024-09-09T04:52:04.477639Z"
    },
    "papermill": {
     "duration": 12.90968,
     "end_time": "2024-09-09T04:52:04.481429",
     "exception": false,
     "start_time": "2024-09-09T04:51:51.571749",
     "status": "completed"
    },
    "tags": []
   },
   "outputs": [],
   "source": [
    "# list for idx features include derived features with `상품ID` \n",
    "item_mean_features = []\n",
    "\n",
    "# group by ['월ID', '상품ID'] -> create monthly mean sales derived feature\n",
    "all_data, item_mean_features = add_mean_features(df=all_data,\n",
    "                                                 mean_features=item_mean_features,\n",
    "                                                 idx_features=['월ID', '상품ID'])\n",
    "\n",
    "# group by ['월ID', '상품ID', '도시'] -> create monthly mean sales derived feature\n",
    "all_data, item_mean_features = add_mean_features(df=all_data,\n",
    "                                                 mean_features=item_mean_features,\n",
    "                                                 idx_features=['월ID', '상품ID', '도시'])"
   ]
  },
  {
   "cell_type": "code",
   "execution_count": 32,
   "id": "c3b6ea22",
   "metadata": {
    "execution": {
     "iopub.execute_input": "2024-09-09T04:52:04.535222Z",
     "iopub.status.busy": "2024-09-09T04:52:04.534146Z",
     "iopub.status.idle": "2024-09-09T04:52:04.541854Z",
     "shell.execute_reply": "2024-09-09T04:52:04.540697Z"
    },
    "papermill": {
     "duration": 0.03704,
     "end_time": "2024-09-09T04:52:04.544482",
     "exception": false,
     "start_time": "2024-09-09T04:52:04.507442",
     "status": "completed"
    },
    "tags": []
   },
   "outputs": [
    {
     "data": {
      "text/plain": [
       "['상품ID별 평균 판매량', '상품ID 도시별 평균 판매량']"
      ]
     },
     "execution_count": 32,
     "metadata": {},
     "output_type": "execute_result"
    }
   ],
   "source": [
    "item_mean_features"
   ]
  },
  {
   "cell_type": "code",
   "execution_count": 33,
   "id": "4249355f",
   "metadata": {
    "execution": {
     "iopub.execute_input": "2024-09-09T04:52:04.599241Z",
     "iopub.status.busy": "2024-09-09T04:52:04.598176Z",
     "iopub.status.idle": "2024-09-09T04:52:07.640447Z",
     "shell.execute_reply": "2024-09-09T04:52:07.639372Z"
    },
    "papermill": {
     "duration": 3.072148,
     "end_time": "2024-09-09T04:52:07.643036",
     "exception": false,
     "start_time": "2024-09-09T04:52:04.570888",
     "status": "completed"
    },
    "tags": []
   },
   "outputs": [],
   "source": [
    "# list for idx features include derived features with `상점ID` \n",
    "shop_mean_features = []\n",
    "\n",
    "# group by ['월ID', '상점ID', '상품분류ID'] -> create monthly mean sales derived feature\n",
    "all_data, shop_mean_features = add_mean_features(df=all_data, \n",
    "                                                 mean_features=shop_mean_features,\n",
    "                                                 idx_features=['월ID', '상점ID', '상품분류ID'])"
   ]
  },
  {
   "cell_type": "code",
   "execution_count": 34,
   "id": "de780d31",
   "metadata": {
    "execution": {
     "iopub.execute_input": "2024-09-09T04:52:07.696951Z",
     "iopub.status.busy": "2024-09-09T04:52:07.696490Z",
     "iopub.status.idle": "2024-09-09T04:52:07.703411Z",
     "shell.execute_reply": "2024-09-09T04:52:07.702379Z"
    },
    "papermill": {
     "duration": 0.036898,
     "end_time": "2024-09-09T04:52:07.705795",
     "exception": false,
     "start_time": "2024-09-09T04:52:07.668897",
     "status": "completed"
    },
    "tags": []
   },
   "outputs": [
    {
     "data": {
      "text/plain": [
       "['상점ID 상품분류ID별 평균 판매량']"
      ]
     },
     "execution_count": 34,
     "metadata": {},
     "output_type": "execute_result"
    }
   ],
   "source": [
    "shop_mean_features"
   ]
  },
  {
   "cell_type": "markdown",
   "id": "e6c7ad01",
   "metadata": {
    "papermill": {
     "duration": 0.02506,
     "end_time": "2024-09-09T04:52:07.756478",
     "exception": false,
     "start_time": "2024-09-09T04:52:07.731418",
     "status": "completed"
    },
    "tags": []
   },
   "source": [
    "**how to create lag features**"
   ]
  },
  {
   "cell_type": "code",
   "execution_count": 35,
   "id": "f69874eb",
   "metadata": {
    "execution": {
     "iopub.execute_input": "2024-09-09T04:52:07.809475Z",
     "iopub.status.busy": "2024-09-09T04:52:07.809004Z",
     "iopub.status.idle": "2024-09-09T04:52:07.818250Z",
     "shell.execute_reply": "2024-09-09T04:52:07.817074Z"
    },
    "papermill": {
     "duration": 0.038718,
     "end_time": "2024-09-09T04:52:07.820625",
     "exception": false,
     "start_time": "2024-09-09T04:52:07.781907",
     "status": "completed"
    },
    "tags": []
   },
   "outputs": [],
   "source": [
    "def add_lag_features(df, lag_features_to_clip, idx_features, \n",
    "                     lag_feature, nlags=3, clip=False):\n",
    "    # copy needed df sections for lag feature creation\n",
    "    df_temp = df[idx_features + [lag_feature]].copy() \n",
    "\n",
    "    # create lag feature\n",
    "    for i in range(1, nlags+1):\n",
    "        # lag feature name\n",
    "        lag_feature_name = lag_feature +'_시차' + str(i)\n",
    "        # set df_temp's column name\n",
    "        df_temp.columns = idx_features + [lag_feature_name]\n",
    "        # add 1 to df_temp's date_block_num feature\n",
    "        df_temp['월ID'] += 1\n",
    "        # merge df & df_temp by idx_feature\n",
    "        df = df.merge(df_temp.drop_duplicates(), \n",
    "                      on=idx_features, \n",
    "                      how='left')\n",
    "        # missing value -> 0\n",
    "        df[lag_feature_name] = df[lag_feature_name].fillna(0)\n",
    "        if clip: \n",
    "            lag_features_to_clip.append(lag_feature_name)\n",
    "    \n",
    "    # data down casting\n",
    "    df = downcast(df, False)\n",
    "    # garbage collection\n",
    "    del df_temp\n",
    "    gc.collect()\n",
    "    \n",
    "    return df, lag_features_to_clip"
   ]
  },
  {
   "cell_type": "markdown",
   "id": "2bcf2746",
   "metadata": {
    "papermill": {
     "duration": 0.025394,
     "end_time": "2024-09-09T04:52:07.871969",
     "exception": false,
     "start_time": "2024-09-09T04:52:07.846575",
     "status": "completed"
    },
    "tags": []
   },
   "source": [
    "**lag feature creation 1: 월간 판매량**"
   ]
  },
  {
   "cell_type": "code",
   "execution_count": 36,
   "id": "a8cd9f0f",
   "metadata": {
    "execution": {
     "iopub.execute_input": "2024-09-09T04:52:07.925804Z",
     "iopub.status.busy": "2024-09-09T04:52:07.924965Z",
     "iopub.status.idle": "2024-09-09T04:52:37.262089Z",
     "shell.execute_reply": "2024-09-09T04:52:37.261302Z"
    },
    "papermill": {
     "duration": 29.366596,
     "end_time": "2024-09-09T04:52:37.264451",
     "exception": false,
     "start_time": "2024-09-09T04:52:07.897855",
     "status": "completed"
    },
    "tags": []
   },
   "outputs": [],
   "source": [
    "lag_features_to_clip = [] \n",
    "idx_features = ['월ID', '상점ID', '상품ID'] \n",
    "\n",
    "# create 3 month lag feature of monthly sales by idx_features\n",
    "all_data, lag_features_to_clip = add_lag_features(df=all_data, \n",
    "                                                  lag_features_to_clip=lag_features_to_clip,\n",
    "                                                  idx_features=idx_features,\n",
    "                                                  lag_feature='월간 판매량', \n",
    "                                                  nlags=3,\n",
    "                                                  clip=True) # limit value to 1-20"
   ]
  },
  {
   "cell_type": "code",
   "execution_count": 37,
   "id": "ab10ce18",
   "metadata": {
    "execution": {
     "iopub.execute_input": "2024-09-09T04:52:37.310226Z",
     "iopub.status.busy": "2024-09-09T04:52:37.309887Z",
     "iopub.status.idle": "2024-09-09T04:52:37.324893Z",
     "shell.execute_reply": "2024-09-09T04:52:37.323852Z"
    },
    "papermill": {
     "duration": 0.040186,
     "end_time": "2024-09-09T04:52:37.326951",
     "exception": false,
     "start_time": "2024-09-09T04:52:37.286765",
     "status": "completed"
    },
    "tags": []
   },
   "outputs": [
    {
     "data": {
      "text/html": [
       "<div>\n",
       "<style scoped>\n",
       "    .dataframe tbody tr th:only-of-type {\n",
       "        vertical-align: middle;\n",
       "    }\n",
       "\n",
       "    .dataframe tbody tr th {\n",
       "        vertical-align: top;\n",
       "    }\n",
       "\n",
       "    .dataframe thead th {\n",
       "        text-align: right;\n",
       "    }\n",
       "</style>\n",
       "<table border=\"1\" class=\"dataframe\">\n",
       "  <thead>\n",
       "    <tr style=\"text-align: right;\">\n",
       "      <th></th>\n",
       "      <th>0</th>\n",
       "      <th>1</th>\n",
       "      <th>2</th>\n",
       "      <th>3</th>\n",
       "      <th>4</th>\n",
       "    </tr>\n",
       "  </thead>\n",
       "  <tbody>\n",
       "    <tr>\n",
       "      <th>월ID</th>\n",
       "      <td>0.000000</td>\n",
       "      <td>0.000000</td>\n",
       "      <td>0.000000</td>\n",
       "      <td>0.000000</td>\n",
       "      <td>0.000000</td>\n",
       "    </tr>\n",
       "    <tr>\n",
       "      <th>상점ID</th>\n",
       "      <td>59.000000</td>\n",
       "      <td>59.000000</td>\n",
       "      <td>59.000000</td>\n",
       "      <td>59.000000</td>\n",
       "      <td>59.000000</td>\n",
       "    </tr>\n",
       "    <tr>\n",
       "      <th>상품ID</th>\n",
       "      <td>22154.000000</td>\n",
       "      <td>2552.000000</td>\n",
       "      <td>2554.000000</td>\n",
       "      <td>2555.000000</td>\n",
       "      <td>2564.000000</td>\n",
       "    </tr>\n",
       "    <tr>\n",
       "      <th>월간 판매량</th>\n",
       "      <td>1.000000</td>\n",
       "      <td>0.000000</td>\n",
       "      <td>0.000000</td>\n",
       "      <td>0.000000</td>\n",
       "      <td>0.000000</td>\n",
       "    </tr>\n",
       "    <tr>\n",
       "      <th>평균 판매가</th>\n",
       "      <td>999.000000</td>\n",
       "      <td>0.000000</td>\n",
       "      <td>0.000000</td>\n",
       "      <td>0.000000</td>\n",
       "      <td>0.000000</td>\n",
       "    </tr>\n",
       "    <tr>\n",
       "      <th>판매건수</th>\n",
       "      <td>1.000000</td>\n",
       "      <td>0.000000</td>\n",
       "      <td>0.000000</td>\n",
       "      <td>0.000000</td>\n",
       "      <td>0.000000</td>\n",
       "    </tr>\n",
       "    <tr>\n",
       "      <th>도시</th>\n",
       "      <td>30.000000</td>\n",
       "      <td>30.000000</td>\n",
       "      <td>30.000000</td>\n",
       "      <td>30.000000</td>\n",
       "      <td>30.000000</td>\n",
       "    </tr>\n",
       "    <tr>\n",
       "      <th>상품분류ID</th>\n",
       "      <td>37.000000</td>\n",
       "      <td>58.000000</td>\n",
       "      <td>58.000000</td>\n",
       "      <td>56.000000</td>\n",
       "      <td>59.000000</td>\n",
       "    </tr>\n",
       "    <tr>\n",
       "      <th>첫 판매월</th>\n",
       "      <td>0.000000</td>\n",
       "      <td>0.000000</td>\n",
       "      <td>0.000000</td>\n",
       "      <td>0.000000</td>\n",
       "      <td>0.000000</td>\n",
       "    </tr>\n",
       "    <tr>\n",
       "      <th>대분류</th>\n",
       "      <td>5.000000</td>\n",
       "      <td>7.000000</td>\n",
       "      <td>7.000000</td>\n",
       "      <td>7.000000</td>\n",
       "      <td>7.000000</td>\n",
       "    </tr>\n",
       "    <tr>\n",
       "      <th>상품ID별 평균 판매량</th>\n",
       "      <td>0.400000</td>\n",
       "      <td>0.022222</td>\n",
       "      <td>0.022222</td>\n",
       "      <td>0.044444</td>\n",
       "      <td>0.111111</td>\n",
       "    </tr>\n",
       "    <tr>\n",
       "      <th>상품ID 도시별 평균 판매량</th>\n",
       "      <td>1.000000</td>\n",
       "      <td>0.000000</td>\n",
       "      <td>0.000000</td>\n",
       "      <td>0.000000</td>\n",
       "      <td>0.000000</td>\n",
       "    </tr>\n",
       "    <tr>\n",
       "      <th>상점ID 상품분류ID별 평균 판매량</th>\n",
       "      <td>0.088496</td>\n",
       "      <td>0.000000</td>\n",
       "      <td>0.000000</td>\n",
       "      <td>0.008333</td>\n",
       "      <td>0.011976</td>\n",
       "    </tr>\n",
       "    <tr>\n",
       "      <th>월간 판매량_시차1</th>\n",
       "      <td>0.000000</td>\n",
       "      <td>0.000000</td>\n",
       "      <td>0.000000</td>\n",
       "      <td>0.000000</td>\n",
       "      <td>0.000000</td>\n",
       "    </tr>\n",
       "    <tr>\n",
       "      <th>월간 판매량_시차2</th>\n",
       "      <td>0.000000</td>\n",
       "      <td>0.000000</td>\n",
       "      <td>0.000000</td>\n",
       "      <td>0.000000</td>\n",
       "      <td>0.000000</td>\n",
       "    </tr>\n",
       "    <tr>\n",
       "      <th>월간 판매량_시차3</th>\n",
       "      <td>0.000000</td>\n",
       "      <td>0.000000</td>\n",
       "      <td>0.000000</td>\n",
       "      <td>0.000000</td>\n",
       "      <td>0.000000</td>\n",
       "    </tr>\n",
       "  </tbody>\n",
       "</table>\n",
       "</div>"
      ],
      "text/plain": [
       "                                0            1            2            3  \\\n",
       "월ID                      0.000000     0.000000     0.000000     0.000000   \n",
       "상점ID                    59.000000    59.000000    59.000000    59.000000   \n",
       "상품ID                 22154.000000  2552.000000  2554.000000  2555.000000   \n",
       "월간 판매량                   1.000000     0.000000     0.000000     0.000000   \n",
       "평균 판매가                 999.000000     0.000000     0.000000     0.000000   \n",
       "판매건수                     1.000000     0.000000     0.000000     0.000000   \n",
       "도시                      30.000000    30.000000    30.000000    30.000000   \n",
       "상품분류ID                  37.000000    58.000000    58.000000    56.000000   \n",
       "첫 판매월                    0.000000     0.000000     0.000000     0.000000   \n",
       "대분류                      5.000000     7.000000     7.000000     7.000000   \n",
       "상품ID별 평균 판매량             0.400000     0.022222     0.022222     0.044444   \n",
       "상품ID 도시별 평균 판매량          1.000000     0.000000     0.000000     0.000000   \n",
       "상점ID 상품분류ID별 평균 판매량      0.088496     0.000000     0.000000     0.008333   \n",
       "월간 판매량_시차1               0.000000     0.000000     0.000000     0.000000   \n",
       "월간 판매량_시차2               0.000000     0.000000     0.000000     0.000000   \n",
       "월간 판매량_시차3               0.000000     0.000000     0.000000     0.000000   \n",
       "\n",
       "                               4  \n",
       "월ID                     0.000000  \n",
       "상점ID                   59.000000  \n",
       "상품ID                 2564.000000  \n",
       "월간 판매량                  0.000000  \n",
       "평균 판매가                  0.000000  \n",
       "판매건수                    0.000000  \n",
       "도시                     30.000000  \n",
       "상품분류ID                 59.000000  \n",
       "첫 판매월                   0.000000  \n",
       "대분류                     7.000000  \n",
       "상품ID별 평균 판매량            0.111111  \n",
       "상품ID 도시별 평균 판매량         0.000000  \n",
       "상점ID 상품분류ID별 평균 판매량     0.011976  \n",
       "월간 판매량_시차1              0.000000  \n",
       "월간 판매량_시차2              0.000000  \n",
       "월간 판매량_시차3              0.000000  "
      ]
     },
     "execution_count": 37,
     "metadata": {},
     "output_type": "execute_result"
    }
   ],
   "source": [
    "all_data.head().T"
   ]
  },
  {
   "cell_type": "code",
   "execution_count": 38,
   "id": "f49eab85",
   "metadata": {
    "execution": {
     "iopub.execute_input": "2024-09-09T04:52:37.375498Z",
     "iopub.status.busy": "2024-09-09T04:52:37.375114Z",
     "iopub.status.idle": "2024-09-09T04:52:37.381024Z",
     "shell.execute_reply": "2024-09-09T04:52:37.380082Z"
    },
    "papermill": {
     "duration": 0.032259,
     "end_time": "2024-09-09T04:52:37.382938",
     "exception": false,
     "start_time": "2024-09-09T04:52:37.350679",
     "status": "completed"
    },
    "tags": []
   },
   "outputs": [
    {
     "data": {
      "text/plain": [
       "['월간 판매량_시차1', '월간 판매량_시차2', '월간 판매량_시차3']"
      ]
     },
     "execution_count": 38,
     "metadata": {},
     "output_type": "execute_result"
    }
   ],
   "source": [
    "lag_features_to_clip"
   ]
  },
  {
   "cell_type": "markdown",
   "id": "a10d0a14",
   "metadata": {
    "papermill": {
     "duration": 0.02236,
     "end_time": "2024-09-09T04:52:37.428215",
     "exception": false,
     "start_time": "2024-09-09T04:52:37.405855",
     "status": "completed"
    },
    "tags": []
   },
   "source": [
    "**lag feature creation 2: 판매건수, 평균 판매가**"
   ]
  },
  {
   "cell_type": "code",
   "execution_count": 39,
   "id": "8bb65446",
   "metadata": {
    "execution": {
     "iopub.execute_input": "2024-09-09T04:52:37.474701Z",
     "iopub.status.busy": "2024-09-09T04:52:37.474007Z",
     "iopub.status.idle": "2024-09-09T04:53:34.561542Z",
     "shell.execute_reply": "2024-09-09T04:53:34.560724Z"
    },
    "papermill": {
     "duration": 57.113345,
     "end_time": "2024-09-09T04:53:34.563905",
     "exception": false,
     "start_time": "2024-09-09T04:52:37.450560",
     "status": "completed"
    },
    "tags": []
   },
   "outputs": [],
   "source": [
    "# create 3 month lag feature of 판매건수 by idx_features\n",
    "all_data, lag_features_to_clip = add_lag_features(df=all_data, \n",
    "                                                  lag_features_to_clip=lag_features_to_clip,\n",
    "                                                  idx_features=idx_features,\n",
    "                                                  lag_feature='판매건수', \n",
    "                                                  nlags=3)\n",
    "\n",
    "# create 3 month lag feature of 평균 판매가 by idx_features\n",
    "all_data, lag_features_to_clip = add_lag_features(df=all_data, \n",
    "                                                  lag_features_to_clip=lag_features_to_clip,\n",
    "                                                  idx_features=idx_features,\n",
    "                                                  lag_feature='평균 판매가', \n",
    "                                                  nlags=3)"
   ]
  },
  {
   "cell_type": "markdown",
   "id": "2d3801a2",
   "metadata": {
    "papermill": {
     "duration": 0.023322,
     "end_time": "2024-09-09T04:53:34.610501",
     "exception": false,
     "start_time": "2024-09-09T04:53:34.587179",
     "status": "completed"
    },
    "tags": []
   },
   "source": [
    "**lag feature creation 3: 평균 판매량**"
   ]
  },
  {
   "cell_type": "code",
   "execution_count": 40,
   "id": "b7d27bba",
   "metadata": {
    "execution": {
     "iopub.execute_input": "2024-09-09T04:53:34.657856Z",
     "iopub.status.busy": "2024-09-09T04:53:34.657463Z",
     "iopub.status.idle": "2024-09-09T04:54:33.042225Z",
     "shell.execute_reply": "2024-09-09T04:54:33.041360Z"
    },
    "papermill": {
     "duration": 58.411745,
     "end_time": "2024-09-09T04:54:33.044845",
     "exception": false,
     "start_time": "2024-09-09T04:53:34.633100",
     "status": "completed"
    },
    "tags": []
   },
   "outputs": [],
   "source": [
    "# create lag feature of item_mean_features's each elem by idx_features\n",
    "for item_mean_feature in item_mean_features:\n",
    "    all_data, lag_features_to_clip = add_lag_features(df=all_data, \n",
    "                                                      lag_features_to_clip=lag_features_to_clip, \n",
    "                                                      idx_features=idx_features, \n",
    "                                                      lag_feature=item_mean_feature, \n",
    "                                                      nlags=3,\n",
    "                                                      clip=True)\n",
    "\n",
    "all_data = all_data.drop(item_mean_features, axis=1)"
   ]
  },
  {
   "cell_type": "code",
   "execution_count": 41,
   "id": "79b90006",
   "metadata": {
    "execution": {
     "iopub.execute_input": "2024-09-09T04:54:33.096564Z",
     "iopub.status.busy": "2024-09-09T04:54:33.095779Z",
     "iopub.status.idle": "2024-09-09T04:54:43.856131Z",
     "shell.execute_reply": "2024-09-09T04:54:43.855014Z"
    },
    "papermill": {
     "duration": 10.789252,
     "end_time": "2024-09-09T04:54:43.858833",
     "exception": false,
     "start_time": "2024-09-09T04:54:33.069581",
     "status": "completed"
    },
    "tags": []
   },
   "outputs": [],
   "source": [
    "# create lag feature of shop_mean_feature's each elem by ['월ID', '상점ID', '상품분류ID']\n",
    "for shop_mean_feature in shop_mean_features:\n",
    "    all_data, lag_features_to_clip = add_lag_features(df=all_data,\n",
    "                                                      lag_features_to_clip=lag_features_to_clip, \n",
    "                                                      idx_features=['월ID', '상점ID', '상품분류ID'], \n",
    "                                                      lag_feature=shop_mean_feature, \n",
    "                                                      nlags=3,\n",
    "                                                      clip=True)\n",
    "\n",
    "all_data = all_data.drop(shop_mean_features, axis=1)"
   ]
  },
  {
   "cell_type": "markdown",
   "id": "4a577d9d",
   "metadata": {
    "papermill": {
     "duration": 0.025602,
     "end_time": "2024-09-09T04:54:43.911181",
     "exception": false,
     "start_time": "2024-09-09T04:54:43.885579",
     "status": "completed"
    },
    "tags": []
   },
   "source": [
    "**end of lag feature creation: deal with missing value**"
   ]
  },
  {
   "cell_type": "code",
   "execution_count": 42,
   "id": "23a57991",
   "metadata": {
    "execution": {
     "iopub.execute_input": "2024-09-09T04:54:43.959394Z",
     "iopub.status.busy": "2024-09-09T04:54:43.958682Z",
     "iopub.status.idle": "2024-09-09T04:54:45.774334Z",
     "shell.execute_reply": "2024-09-09T04:54:45.773366Z"
    },
    "papermill": {
     "duration": 1.842663,
     "end_time": "2024-09-09T04:54:45.776943",
     "exception": false,
     "start_time": "2024-09-09T04:54:43.934280",
     "status": "completed"
    },
    "tags": []
   },
   "outputs": [],
   "source": [
    "all_data = all_data.drop(all_data[all_data['월ID'] < 3].index)"
   ]
  },
  {
   "cell_type": "markdown",
   "id": "8dcad578",
   "metadata": {
    "papermill": {
     "duration": 0.025329,
     "end_time": "2024-09-09T04:54:45.828159",
     "exception": false,
     "start_time": "2024-09-09T04:54:45.802830",
     "status": "completed"
    },
    "tags": []
   },
   "source": [
    "## Feature Engineering 6: Others"
   ]
  },
  {
   "cell_type": "markdown",
   "id": "c05b697e",
   "metadata": {
    "papermill": {
     "duration": 0.024572,
     "end_time": "2024-09-09T04:54:45.878456",
     "exception": false,
     "start_time": "2024-09-09T04:54:45.853884",
     "status": "completed"
    },
    "tags": []
   },
   "source": [
    "**add other features**"
   ]
  },
  {
   "cell_type": "code",
   "execution_count": 43,
   "id": "cd945eaa",
   "metadata": {
    "execution": {
     "iopub.execute_input": "2024-09-09T04:54:45.930526Z",
     "iopub.status.busy": "2024-09-09T04:54:45.929793Z",
     "iopub.status.idle": "2024-09-09T04:54:48.135999Z",
     "shell.execute_reply": "2024-09-09T04:54:48.135141Z"
    },
    "papermill": {
     "duration": 2.235011,
     "end_time": "2024-09-09T04:54:48.138553",
     "exception": false,
     "start_time": "2024-09-09T04:54:45.903542",
     "status": "completed"
    },
    "tags": []
   },
   "outputs": [],
   "source": [
    "all_data['월간 판매량 시차평균'] = all_data[['월간 판매량_시차1',\n",
    "                                          '월간 판매량_시차2', \n",
    "                                          '월간 판매량_시차3']].mean(axis=1)"
   ]
  },
  {
   "cell_type": "code",
   "execution_count": 44,
   "id": "3a75e723",
   "metadata": {
    "execution": {
     "iopub.execute_input": "2024-09-09T04:54:48.188847Z",
     "iopub.status.busy": "2024-09-09T04:54:48.188458Z",
     "iopub.status.idle": "2024-09-09T04:54:50.720169Z",
     "shell.execute_reply": "2024-09-09T04:54:50.718914Z"
    },
    "papermill": {
     "duration": 2.559686,
     "end_time": "2024-09-09T04:54:50.723515",
     "exception": false,
     "start_time": "2024-09-09T04:54:48.163829",
     "status": "completed"
    },
    "tags": []
   },
   "outputs": [],
   "source": [
    "all_data[lag_features_to_clip + ['월간 판매량', '월간 판매량 시차평균']] = all_data[lag_features_to_clip + ['월간 판매량', '월간 판매량 시차평균']].clip(0, 20)"
   ]
  },
  {
   "cell_type": "code",
   "execution_count": 45,
   "id": "04bbbe78",
   "metadata": {
    "execution": {
     "iopub.execute_input": "2024-09-09T04:54:50.782123Z",
     "iopub.status.busy": "2024-09-09T04:54:50.781687Z",
     "iopub.status.idle": "2024-09-09T04:54:51.267689Z",
     "shell.execute_reply": "2024-09-09T04:54:51.266645Z"
    },
    "papermill": {
     "duration": 0.515514,
     "end_time": "2024-09-09T04:54:51.270582",
     "exception": false,
     "start_time": "2024-09-09T04:54:50.755068",
     "status": "completed"
    },
    "tags": []
   },
   "outputs": [],
   "source": [
    "all_data['시차변화량1'] = all_data['월간 판매량_시차1']/all_data['월간 판매량_시차2']\n",
    "all_data['시차변화량1'] = all_data['시차변화량1'].replace([np.inf, -np.inf], \n",
    "                                                        np.nan).fillna(0)\n",
    "\n",
    "all_data['시차변화량2'] = all_data['월간 판매량_시차2']/all_data['월간 판매량_시차3']\n",
    "all_data['시차변화량2'] = all_data['시차변화량2'].replace([np.inf, -np.inf], \n",
    "                                                        np.nan).fillna(0)"
   ]
  },
  {
   "cell_type": "code",
   "execution_count": 46,
   "id": "999de630",
   "metadata": {
    "execution": {
     "iopub.execute_input": "2024-09-09T04:54:51.323960Z",
     "iopub.status.busy": "2024-09-09T04:54:51.323133Z",
     "iopub.status.idle": "2024-09-09T04:54:51.333533Z",
     "shell.execute_reply": "2024-09-09T04:54:51.332548Z"
    },
    "papermill": {
     "duration": 0.039767,
     "end_time": "2024-09-09T04:54:51.336164",
     "exception": false,
     "start_time": "2024-09-09T04:54:51.296397",
     "status": "completed"
    },
    "tags": []
   },
   "outputs": [],
   "source": [
    "all_data['신상여부'] = all_data['첫 판매월'] == all_data['월ID']"
   ]
  },
  {
   "cell_type": "code",
   "execution_count": 47,
   "id": "3a0355bd",
   "metadata": {
    "execution": {
     "iopub.execute_input": "2024-09-09T04:54:51.390856Z",
     "iopub.status.busy": "2024-09-09T04:54:51.390462Z",
     "iopub.status.idle": "2024-09-09T04:54:51.400781Z",
     "shell.execute_reply": "2024-09-09T04:54:51.399725Z"
    },
    "papermill": {
     "duration": 0.038629,
     "end_time": "2024-09-09T04:54:51.403360",
     "exception": false,
     "start_time": "2024-09-09T04:54:51.364731",
     "status": "completed"
    },
    "tags": []
   },
   "outputs": [],
   "source": [
    "all_data['첫 판매 후 기간'] = all_data['월ID'] - all_data['첫 판매월']"
   ]
  },
  {
   "cell_type": "code",
   "execution_count": 48,
   "id": "ff021519",
   "metadata": {
    "execution": {
     "iopub.execute_input": "2024-09-09T04:54:51.459451Z",
     "iopub.status.busy": "2024-09-09T04:54:51.459045Z",
     "iopub.status.idle": "2024-09-09T04:54:51.500930Z",
     "shell.execute_reply": "2024-09-09T04:54:51.500044Z"
    },
    "papermill": {
     "duration": 0.070202,
     "end_time": "2024-09-09T04:54:51.503267",
     "exception": false,
     "start_time": "2024-09-09T04:54:51.433065",
     "status": "completed"
    },
    "tags": []
   },
   "outputs": [],
   "source": [
    "all_data['월'] = all_data['월ID'] % 12"
   ]
  },
  {
   "cell_type": "code",
   "execution_count": 49,
   "id": "65c3372e",
   "metadata": {
    "execution": {
     "iopub.execute_input": "2024-09-09T04:54:51.553222Z",
     "iopub.status.busy": "2024-09-09T04:54:51.552357Z",
     "iopub.status.idle": "2024-09-09T04:54:52.628406Z",
     "shell.execute_reply": "2024-09-09T04:54:52.627500Z"
    },
    "papermill": {
     "duration": 1.103588,
     "end_time": "2024-09-09T04:54:52.631078",
     "exception": false,
     "start_time": "2024-09-09T04:54:51.527490",
     "status": "completed"
    },
    "tags": []
   },
   "outputs": [],
   "source": [
    "all_data = all_data.drop(['첫 판매월', '평균 판매가', '판매건수'], axis=1)"
   ]
  },
  {
   "cell_type": "code",
   "execution_count": 50,
   "id": "5c6f01fd",
   "metadata": {
    "execution": {
     "iopub.execute_input": "2024-09-09T04:54:52.683846Z",
     "iopub.status.busy": "2024-09-09T04:54:52.683463Z",
     "iopub.status.idle": "2024-09-09T04:54:54.254825Z",
     "shell.execute_reply": "2024-09-09T04:54:54.253943Z"
    },
    "papermill": {
     "duration": 1.602016,
     "end_time": "2024-09-09T04:54:54.257239",
     "exception": false,
     "start_time": "2024-09-09T04:54:52.655223",
     "status": "completed"
    },
    "tags": []
   },
   "outputs": [],
   "source": [
    "all_data = downcast(all_data, False) # data downcasting"
   ]
  },
  {
   "cell_type": "markdown",
   "id": "f8d4b4c2",
   "metadata": {
    "papermill": {
     "duration": 0.022521,
     "end_time": "2024-09-09T04:54:54.303304",
     "exception": false,
     "start_time": "2024-09-09T04:54:54.280783",
     "status": "completed"
    },
    "tags": []
   },
   "source": [
    "## Feature Engineering 7: Final"
   ]
  },
  {
   "cell_type": "code",
   "execution_count": 51,
   "id": "e5f28c03",
   "metadata": {
    "execution": {
     "iopub.execute_input": "2024-09-09T04:54:54.350144Z",
     "iopub.status.busy": "2024-09-09T04:54:54.349416Z",
     "iopub.status.idle": "2024-09-09T04:54:54.361384Z",
     "shell.execute_reply": "2024-09-09T04:54:54.360479Z"
    },
    "papermill": {
     "duration": 0.037313,
     "end_time": "2024-09-09T04:54:54.363470",
     "exception": false,
     "start_time": "2024-09-09T04:54:54.326157",
     "status": "completed"
    },
    "tags": []
   },
   "outputs": [
    {
     "name": "stdout",
     "output_type": "stream",
     "text": [
      "<class 'pandas.core.frame.DataFrame'>\n",
      "RangeIndex: 9904582 entries, 1122386 to 11026967\n",
      "Data columns (total 31 columns):\n",
      " #   Column                   Dtype  \n",
      "---  ------                   -----  \n",
      " 0   월ID                      int8   \n",
      " 1   상점ID                     int8   \n",
      " 2   상품ID                     int16  \n",
      " 3   월간 판매량                   int8   \n",
      " 4   도시                       int8   \n",
      " 5   상품분류ID                   int8   \n",
      " 6   대분류                      int8   \n",
      " 7   월간 판매량_시차1               int8   \n",
      " 8   월간 판매량_시차2               int8   \n",
      " 9   월간 판매량_시차3               int8   \n",
      " 10  판매건수_시차1                 int8   \n",
      " 11  판매건수_시차2                 int8   \n",
      " 12  판매건수_시차3                 int8   \n",
      " 13  평균 판매가_시차1               float64\n",
      " 14  평균 판매가_시차2               float64\n",
      " 15  평균 판매가_시차3               float64\n",
      " 16  상품ID별 평균 판매량_시차1         float32\n",
      " 17  상품ID별 평균 판매량_시차2         float32\n",
      " 18  상품ID별 평균 판매량_시차3         float32\n",
      " 19  상품ID 도시별 평균 판매량_시차1      float32\n",
      " 20  상품ID 도시별 평균 판매량_시차2      float32\n",
      " 21  상품ID 도시별 평균 판매량_시차3      float32\n",
      " 22  상점ID 상품분류ID별 평균 판매량_시차1  float32\n",
      " 23  상점ID 상품분류ID별 평균 판매량_시차2  float32\n",
      " 24  상점ID 상품분류ID별 평균 판매량_시차3  float32\n",
      " 25  월간 판매량 시차평균              float32\n",
      " 26  시차변화량1                   float32\n",
      " 27  시차변화량2                   float32\n",
      " 28  신상여부                     int8   \n",
      " 29  첫 판매 후 기간                int8   \n",
      " 30  월                        int8   \n",
      "dtypes: float32(12), float64(3), int16(1), int8(15)\n",
      "memory usage: 840.7 MB\n"
     ]
    }
   ],
   "source": [
    "all_data.info()"
   ]
  },
  {
   "cell_type": "code",
   "execution_count": 52,
   "id": "d03a5541",
   "metadata": {
    "execution": {
     "iopub.execute_input": "2024-09-09T04:54:54.411915Z",
     "iopub.status.busy": "2024-09-09T04:54:54.410992Z",
     "iopub.status.idle": "2024-09-09T04:54:58.643102Z",
     "shell.execute_reply": "2024-09-09T04:54:58.641783Z"
    },
    "papermill": {
     "duration": 4.259354,
     "end_time": "2024-09-09T04:54:58.645627",
     "exception": false,
     "start_time": "2024-09-09T04:54:54.386273",
     "status": "completed"
    },
    "tags": []
   },
   "outputs": [],
   "source": [
    "# train data (feature)\n",
    "X_train = all_data[all_data['월ID'] < 33]\n",
    "X_train = X_train.drop(['월간 판매량'], axis=1)\n",
    "# validation data (feature)\n",
    "X_valid = all_data[all_data['월ID'] == 33]\n",
    "X_valid = X_valid.drop(['월간 판매량'], axis=1)\n",
    "# test data (feature)\n",
    "X_test = all_data[all_data['월ID'] == 34]\n",
    "X_test = X_test.drop(['월간 판매량'], axis=1)\n",
    "\n",
    "# train data (target val)\n",
    "y_train = all_data[all_data['월ID'] < 33]['월간 판매량']\n",
    "# train data (target val)\n",
    "y_valid = all_data[all_data['월ID'] == 33]['월간 판매량']\n",
    "\n",
    "# garbage collection\n",
    "del all_data\n",
    "gc.collect();"
   ]
  },
  {
   "cell_type": "markdown",
   "id": "bcecf43e",
   "metadata": {
    "papermill": {
     "duration": 0.023445,
     "end_time": "2024-09-09T04:54:58.692458",
     "exception": false,
     "start_time": "2024-09-09T04:54:58.669013",
     "status": "completed"
    },
    "tags": []
   },
   "source": [
    "## Train Model & Validation"
   ]
  },
  {
   "cell_type": "code",
   "execution_count": 53,
   "id": "d3215d09",
   "metadata": {
    "execution": {
     "iopub.execute_input": "2024-09-09T04:54:58.743297Z",
     "iopub.status.busy": "2024-09-09T04:54:58.742309Z",
     "iopub.status.idle": "2024-09-09T05:09:32.568963Z",
     "shell.execute_reply": "2024-09-09T05:09:32.567080Z"
    },
    "papermill": {
     "duration": 873.854889,
     "end_time": "2024-09-09T05:09:32.572400",
     "exception": false,
     "start_time": "2024-09-09T04:54:58.717511",
     "status": "completed"
    },
    "tags": []
   },
   "outputs": [
    {
     "name": "stdout",
     "output_type": "stream",
     "text": [
      "[LightGBM] [Warning] Find whitespaces in feature_names, replace with underlines\n",
      "[LightGBM] [Info] Total Bins 3886\n",
      "[LightGBM] [Info] Number of data points in the train set: 9452298, number of used features: 30\n",
      "[LightGBM] [Warning] Find whitespaces in feature_names, replace with underlines\n",
      "[LightGBM] [Info] Start training from score 0.297707\n",
      "Training until validation scores don't improve for 150 rounds\n",
      "[100]\ttraining's rmse: 1.01082\tvalid_1's rmse: 0.987057\n",
      "[200]\ttraining's rmse: 0.909234\tvalid_1's rmse: 0.923085\n",
      "[300]\ttraining's rmse: 0.857871\tvalid_1's rmse: 0.898435\n",
      "[400]\ttraining's rmse: 0.829759\tvalid_1's rmse: 0.888834\n",
      "[500]\ttraining's rmse: 0.811326\tvalid_1's rmse: 0.885489\n",
      "[600]\ttraining's rmse: 0.797518\tvalid_1's rmse: 0.88463\n",
      "[700]\ttraining's rmse: 0.787457\tvalid_1's rmse: 0.885246\n",
      "Early stopping, best iteration is:\n",
      "[621]\ttraining's rmse: 0.795255\tvalid_1's rmse: 0.884335\n"
     ]
    }
   ],
   "source": [
    "import lightgbm as lgb\n",
    "\n",
    "# LightGBM hyper parameter\n",
    "params = {'metric': 'rmse', \n",
    "          'num_leaves': 255,\n",
    "          'learning_rate': 0.005,\n",
    "          'feature_fraction': 0.75,\n",
    "          'bagging_fraction': 0.75,\n",
    "          'bagging_freq': 5,\n",
    "          'force_col_wise': True,\n",
    "          'random_state': 10}\n",
    "\n",
    "cat_features = ['상점ID', '도시', '상품분류ID', '대분류', '월']\n",
    "\n",
    "# LightGBM trian & validation dataset\n",
    "dtrain = lgb.Dataset(X_train, y_train)\n",
    "dvalid = lgb.Dataset(X_valid, y_valid)\n",
    " \n",
    "lgb_model = lgb.train(params=params,\n",
    "                      train_set=dtrain,\n",
    "                      num_boost_round=1500,\n",
    "                      valid_sets=(dtrain, dvalid),\n",
    "                      early_stopping_rounds=150,\n",
    "                      categorical_feature=cat_features,\n",
    "                      verbose_eval=100)        "
   ]
  },
  {
   "cell_type": "markdown",
   "id": "663b5481",
   "metadata": {
    "papermill": {
     "duration": 0.026926,
     "end_time": "2024-09-09T05:09:32.624961",
     "exception": false,
     "start_time": "2024-09-09T05:09:32.598035",
     "status": "completed"
    },
    "tags": []
   },
   "source": [
    "## Prediction & Submit Result"
   ]
  },
  {
   "cell_type": "code",
   "execution_count": 54,
   "id": "c868a2e6",
   "metadata": {
    "execution": {
     "iopub.execute_input": "2024-09-09T05:09:32.685472Z",
     "iopub.status.busy": "2024-09-09T05:09:32.683817Z",
     "iopub.status.idle": "2024-09-09T05:09:41.049438Z",
     "shell.execute_reply": "2024-09-09T05:09:41.048448Z"
    },
    "papermill": {
     "duration": 8.400395,
     "end_time": "2024-09-09T05:09:41.052304",
     "exception": false,
     "start_time": "2024-09-09T05:09:32.651909",
     "status": "completed"
    },
    "tags": []
   },
   "outputs": [],
   "source": [
    "# prediction\n",
    "preds = lgb_model.predict(X_test).clip(0, 20)\n",
    "\n",
    "# create submission file\n",
    "submission['item_cnt_month'] = preds\n",
    "submission.to_csv('submission.csv', index=False)"
   ]
  },
  {
   "cell_type": "code",
   "execution_count": 55,
   "id": "1dc8fb14",
   "metadata": {
    "execution": {
     "iopub.execute_input": "2024-09-09T05:09:41.108587Z",
     "iopub.status.busy": "2024-09-09T05:09:41.107675Z",
     "iopub.status.idle": "2024-09-09T05:09:41.270931Z",
     "shell.execute_reply": "2024-09-09T05:09:41.270120Z"
    },
    "papermill": {
     "duration": 0.194018,
     "end_time": "2024-09-09T05:09:41.273536",
     "exception": false,
     "start_time": "2024-09-09T05:09:41.079518",
     "status": "completed"
    },
    "tags": []
   },
   "outputs": [],
   "source": [
    "del X_train, y_train, X_valid, y_valid, X_test, lgb_model, dtrain, dvalid\n",
    "gc.collect();"
   ]
  }
 ],
 "metadata": {
  "kaggle": {
   "accelerator": "none",
   "dataSources": [
    {
     "databundleVersionId": 868304,
     "sourceId": 8587,
     "sourceType": "competition"
    }
   ],
   "dockerImageVersionId": 30761,
   "isGpuEnabled": false,
   "isInternetEnabled": true,
   "language": "python",
   "sourceType": "notebook"
  },
  "kernelspec": {
   "display_name": "Python 3",
   "language": "python",
   "name": "python3"
  },
  "language_info": {
   "codemirror_mode": {
    "name": "ipython",
    "version": 3
   },
   "file_extension": ".py",
   "mimetype": "text/x-python",
   "name": "python",
   "nbconvert_exporter": "python",
   "pygments_lexer": "ipython3",
   "version": "3.10.14"
  },
  "papermill": {
   "default_parameters": {},
   "duration": 1127.795557,
   "end_time": "2024-09-09T05:09:42.021411",
   "environment_variables": {},
   "exception": null,
   "input_path": "__notebook__.ipynb",
   "output_path": "__notebook__.ipynb",
   "parameters": {},
   "start_time": "2024-09-09T04:50:54.225854",
   "version": "2.6.0"
  }
 },
 "nbformat": 4,
 "nbformat_minor": 5
}
